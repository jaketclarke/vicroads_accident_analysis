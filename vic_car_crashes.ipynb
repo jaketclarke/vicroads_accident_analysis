{
 "cells": [
  {
   "cell_type": "markdown",
   "metadata": {
    "collapsed": true
   },
   "source": [
    "# Some interesting things from VicRoads Crash Stats"
   ]
  },
  {
   "cell_type": "code",
   "execution_count": 40,
   "metadata": {
    "collapsed": true
   },
   "outputs": [],
   "source": [
    "# getting this book to run\n",
    "# you may need to change the iopub_data_rate_limit as per https://github.com/jupyter/notebook/issues/2287"
   ]
  },
  {
   "cell_type": "markdown",
   "metadata": {},
   "source": [
    "all of this code will work with plot.ly offline, EXCEPT getting images to appear in the PDF output.\n",
    "super annoyingly, they don't support this in offline mode yet\n",
    "\n",
    "on first run, you need to run:\n",
    "```\n",
    "import plotly \n",
    "plotly.tools.set_credentials_file(username='DemoAccount', api_key='thisisakey')\n",
    "```\n",
    "\n",
    "with a plotly username and api key\n",
    "\n",
    "this will only affect running the line to save and show plits - you can replace these with\n",
    "\n",
    "```\n",
    "py.iplot(figure1, filename = 'foo')\n",
    "```\n",
    "\n",
    "if you do not need to be able to save the notebook as a PDF"
   ]
  },
  {
   "cell_type": "markdown",
   "metadata": {},
   "source": [
    "import data, check it read correctly"
   ]
  },
  {
   "cell_type": "code",
   "execution_count": 41,
   "metadata": {
    "collapsed": true
   },
   "outputs": [],
   "source": [
    "import pandas as pd\n",
    "\n",
    "df_accident = pd.read_csv(\n",
    "    'vicroads_data/ACCIDENT/ACCIDENT.csv', # file name and path\n",
    "    sep=',', # separated by commas\n",
    "    index_col=0 # first column should be primary key\n",
    ")"
   ]
  },
  {
   "cell_type": "code",
   "execution_count": 42,
   "metadata": {},
   "outputs": [
    {
     "name": "stdout",
     "output_type": "stream",
     "text": [
      "             ACCIDENTDATE ACCIDENTTIME  ACCIDENT_TYPE      Accident Type Desc  \\\n",
      "ACCIDENT_NO                                                                     \n",
      "T20060000010   13/01/2006     12.42.00              1  Collision with vehicle   \n",
      "\n",
      "              DAY_OF_WEEK Day Week Description  DCA_CODE  \\\n",
      "ACCIDENT_NO                                                \n",
      "T20060000010            6               Friday       113   \n",
      "\n",
      "                                             DCA Description DIRECTORY  \\\n",
      "ACCIDENT_NO                                                              \n",
      "T20060000010  RIGHT NEAR (INTERSECTIONS ONLY)                      MEL   \n",
      "\n",
      "              EDITION     ...     NO_PERSONS NO_PERSONS_INJ_2  \\\n",
      "ACCIDENT_NO               ...                                   \n",
      "T20060000010     40.0     ...              6                0   \n",
      "\n",
      "              NO_PERSONS_INJ_3  NO_PERSONS_KILLED NO_PERSONS_NOT_INJ  \\\n",
      "ACCIDENT_NO                                                            \n",
      "T20060000010                 1                  0                  5   \n",
      "\n",
      "              POLICE_ATTEND  ROAD_GEOMETRY  Road Geometry Desc  SEVERITY  \\\n",
      "ACCIDENT_NO                                                                \n",
      "T20060000010              1              1  Cross intersection         3   \n",
      "\n",
      "              SPEED_ZONE  \n",
      "ACCIDENT_NO               \n",
      "T20060000010          60  \n",
      "\n",
      "[1 rows x 27 columns]\n"
     ]
    }
   ],
   "source": [
    "# data read okay?\n",
    "print(df_accident.head(1))"
   ]
  },
  {
   "cell_type": "code",
   "execution_count": 43,
   "metadata": {},
   "outputs": [
    {
     "data": {
      "text/html": [
       "<script>requirejs.config({paths: { 'plotly': ['https://cdn.plot.ly/plotly-latest.min']},});if(!window.Plotly) {{require(['plotly'],function(plotly) {window.Plotly=plotly;});}}</script>"
      ],
      "text/vnd.plotly.v1+html": [
       "<script>requirejs.config({paths: { 'plotly': ['https://cdn.plot.ly/plotly-latest.min']},});if(!window.Plotly) {{require(['plotly'],function(plotly) {window.Plotly=plotly;});}}</script>"
      ]
     },
     "metadata": {},
     "output_type": "display_data"
    }
   ],
   "source": [
    "import pandas as pd\n",
    "import numpy as np\n",
    "import plotly.offline as py\n",
    "import plotly.plotly as pyonline\n",
    "from plotly.offline import *\n",
    "import plotly.graph_objs as go\n",
    "#import matplotlib as mpl\n",
    "from IPython.display import Image\n",
    "init_notebook_mode(connected=True) # render plotly charts in the notebook on the fly\n",
    "#init_notebook_mode()"
   ]
  },
  {
   "cell_type": "markdown",
   "metadata": {},
   "source": [
    "Code below to manipulate data: create a copy of df_accident, add columns for:\n",
    "* Year\n",
    "* Month\n",
    "* Hour\n",
    "\n",
    "Filter out 2006 and 2017, as they are incomplete years in this data"
   ]
  },
  {
   "cell_type": "code",
   "execution_count": 44,
   "metadata": {},
   "outputs": [
    {
     "name": "stdout",
     "output_type": "stream",
     "text": [
      "             ACCIDENTDATE ACCIDENTTIME  ACCIDENT_TYPE  \\\n",
      "ACCIDENT_NO                                             \n",
      "T20070000004    1/01/2007     02.55.00              4   \n",
      "\n",
      "                         Accident Type Desc  DAY_OF_WEEK Day Week Description  \\\n",
      "ACCIDENT_NO                                                                     \n",
      "T20070000004  Collision with a fixed object            2               Monday   \n",
      "\n",
      "              DCA_CODE                                    DCA Description  \\\n",
      "ACCIDENT_NO                                                                 \n",
      "T20070000004       171  LEFT OFF CARRIAGEWAY INTO OBJECT/PARKED VEHICL...   \n",
      "\n",
      "             DIRECTORY  EDITION  ...  NO_PERSONS_NOT_INJ POLICE_ATTEND  \\\n",
      "ACCIDENT_NO                      ...                                     \n",
      "T20070000004       VCS      9.0  ...                   0             1   \n",
      "\n",
      "              ROAD_GEOMETRY   Road Geometry Desc SEVERITY  SPEED_ZONE  \\\n",
      "ACCIDENT_NO                                                             \n",
      "T20070000004              5  Not at intersection        2          50   \n",
      "\n",
      "                            date  year  month  hour  \n",
      "ACCIDENT_NO                                          \n",
      "T20070000004 2007-01-01 02:55:00  2007      1     2  \n",
      "\n",
      "[1 rows x 31 columns]\n"
     ]
    }
   ],
   "source": [
    "# Manipulate data\n",
    "df_accident_mod = df_accident\n",
    "#print(df_accident_mod.head(3))\n",
    "\n",
    "## DATES\n",
    "\n",
    "# make a string representing date time\n",
    "df_accident_mod['date'] = df_accident_mod['ACCIDENTDATE'] + ' ' + df_accident_mod['ACCIDENTTIME']\n",
    "\n",
    "# convert to datetime\n",
    "df_accident_mod['date'] = pd.to_datetime(df_accident_mod['date'], format=\"%d/%m/%Y %H.%M.%S\")\n",
    "\n",
    "# make some useful date fields\n",
    "df_accident_mod['year'] = pd.DatetimeIndex(df_accident_mod['date']).year\n",
    "df_accident_mod['month'] = pd.DatetimeIndex(df_accident_mod['date']).month\n",
    "df_accident_mod['hour'] = pd.DatetimeIndex(df_accident_mod['date']).hour\n",
    "\n",
    "#print(df_accident_mod.head(3))\n",
    "\n",
    "## FILTER\n",
    "\n",
    "# remove < 2007 and > 2016, as 2006 and 2017 are incomplete years\n",
    "df_accident_mod = df_accident_mod[df_accident_mod['year'] >= 2007]\n",
    "df_accident_mod = df_accident_mod[df_accident_mod['year'] <= 2016]\n",
    "\n",
    "# remove speed limits > 110 km/h - 777, 888, and 999 are used to code:\n",
    "# 777 = other\n",
    "# 888 = camping grounds or off road\n",
    "# 999 = not known\n",
    "\n",
    "df_accident_mod = df_accident_mod[df_accident_mod['SPEED_ZONE'] <= 110]\n",
    "\n",
    "print(df_accident_mod.head(1))"
   ]
  },
  {
   "cell_type": "markdown",
   "metadata": {},
   "source": [
    "Code to group by year in Pandas"
   ]
  },
  {
   "cell_type": "code",
   "execution_count": 83,
   "metadata": {},
   "outputs": [
    {
     "name": "stdout",
     "output_type": "stream",
     "text": [
      "   year    cnt\n",
      "0  2007  12980\n",
      "1  2008  13494\n",
      "2  2009  13097\n"
     ]
    }
   ],
   "source": [
    "accidents_by_year =  df_accident_mod.groupby(['year']).size().reset_index(name=\"cnt\")\n",
    "print(accidents_by_year.head(3))"
   ]
  },
  {
   "cell_type": "markdown",
   "metadata": {},
   "source": [
    "Code to make the chart series and layout"
   ]
  },
  {
   "cell_type": "code",
   "execution_count": 46,
   "metadata": {
    "collapsed": true
   },
   "outputs": [],
   "source": [
    "# setup series and chart\n",
    "seriesCrashesbyYearBar = go.Bar(\n",
    "    x = accidents_by_year['year'],\n",
    "    y = accidents_by_year['cnt'],\n",
    "    name = 'Crashes per Year',\n",
    "    marker = dict(\n",
    "        color = '#ee2737'\n",
    "    )\n",
    ")\n",
    "\n",
    "layout = go.Layout(\n",
    "    title = 'VicRoads Accident - Accidents per Year',\n",
    "    titlefont=dict(\n",
    "            family='Open Sans',\n",
    "            size=22\n",
    "    ),\n",
    "    xaxis=dict(\n",
    "        tickangle = -45, # angle lables at 45 deg\n",
    "        dtick = 1, # label every 1 bars\n",
    "        title = 'Year',\n",
    "            titlefont=dict(\n",
    "                family='Open Sans',\n",
    "                size=16\n",
    "            )\n",
    "    ),\n",
    "    yaxis = dict(\n",
    "        title = 'Count',\n",
    "        titlefont=dict(\n",
    "            family='Open Sans',\n",
    "            size=16\n",
    "        )\n",
    "    )\n",
    ")\n",
    "\n",
    "data = [seriesCrashesbyYearBar] # can be multiple series\n",
    "figure1 = go.Figure(data=data, layout=layout)\n",
    "\n",
    "# to just show in notebook\n",
    "# py.iplot(figure1, filename = 'figure1')\n",
    "\n",
    "# to use the online thing to save static images\n",
    "#pyonline.image.save_as(figure1, filename='img/figure1.png')\n",
    "# and to show them\n",
    "#Image('img/figure1.png')"
   ]
  },
  {
   "cell_type": "code",
   "execution_count": 84,
   "metadata": {},
   "outputs": [],
   "source": [
    "# to be able to export to image and show as image, so this will all load in a nice exported pdf\n",
    "#pyonline.image.save_as(figure1, filename='img/figure1.png')\n",
    "\n",
    "#from IPython.display import Image\n",
    "#Image('a-simple-plot.png')\n",
    "\n",
    "# display as image in notebook, for saving to pdf\n",
    "#pyonline.image.ishow(figure1, width=1500, height=750)"
   ]
  },
  {
   "cell_type": "markdown",
   "metadata": {},
   "source": [
    "## Number of accidents over time\n",
    "\n",
    "* The number of accidents per year has been relatively steady for the last decade"
   ]
  },
  {
   "cell_type": "code",
   "execution_count": 57,
   "metadata": {},
   "outputs": [
    {
     "data": {
      "application/vnd.plotly.v1+json": {
       "data": [
        {
         "marker": {
          "color": "#ee2737"
         },
         "name": "Crashes per Year",
         "type": "bar",
         "x": [
          2007,
          2008,
          2009,
          2010,
          2011,
          2012,
          2013,
          2014,
          2015,
          2016
         ],
         "y": [
          12980,
          13494,
          13097,
          12842,
          12762,
          12925,
          13001,
          13289,
          13360,
          12858
         ]
        }
       ],
       "layout": {
        "title": "VicRoads Accident - Accidents per Year",
        "titlefont": {
         "family": "Open Sans",
         "size": 22
        },
        "xaxis": {
         "dtick": 1,
         "tickangle": -45,
         "title": "Year",
         "titlefont": {
          "family": "Open Sans",
          "size": 16
         }
        },
        "yaxis": {
         "title": "Count",
         "titlefont": {
          "family": "Open Sans",
          "size": 16
         }
        }
       }
      },
      "text/html": [
       "<div id=\"9df4cf8f-aed0-4e44-9476-ff0884007f1a\" style=\"height: 525px; width: 100%;\" class=\"plotly-graph-div\"></div><script type=\"text/javascript\">require([\"plotly\"], function(Plotly) { window.PLOTLYENV=window.PLOTLYENV || {};window.PLOTLYENV.BASE_URL=\"https://plot.ly\";Plotly.newPlot(\"9df4cf8f-aed0-4e44-9476-ff0884007f1a\", [{\"type\": \"bar\", \"x\": [2007, 2008, 2009, 2010, 2011, 2012, 2013, 2014, 2015, 2016], \"y\": [12980, 13494, 13097, 12842, 12762, 12925, 13001, 13289, 13360, 12858], \"name\": \"Crashes per Year\", \"marker\": {\"color\": \"#ee2737\"}}], {\"title\": \"VicRoads Accident - Accidents per Year\", \"titlefont\": {\"family\": \"Open Sans\", \"size\": 22}, \"xaxis\": {\"tickangle\": -45, \"dtick\": 1, \"title\": \"Year\", \"titlefont\": {\"family\": \"Open Sans\", \"size\": 16}}, \"yaxis\": {\"title\": \"Count\", \"titlefont\": {\"family\": \"Open Sans\", \"size\": 16}}}, {\"showLink\": true, \"linkText\": \"Export to plot.ly\"})});</script>"
      ],
      "text/vnd.plotly.v1+html": [
       "<div id=\"9df4cf8f-aed0-4e44-9476-ff0884007f1a\" style=\"height: 525px; width: 100%;\" class=\"plotly-graph-div\"></div><script type=\"text/javascript\">require([\"plotly\"], function(Plotly) { window.PLOTLYENV=window.PLOTLYENV || {};window.PLOTLYENV.BASE_URL=\"https://plot.ly\";Plotly.newPlot(\"9df4cf8f-aed0-4e44-9476-ff0884007f1a\", [{\"type\": \"bar\", \"x\": [2007, 2008, 2009, 2010, 2011, 2012, 2013, 2014, 2015, 2016], \"y\": [12980, 13494, 13097, 12842, 12762, 12925, 13001, 13289, 13360, 12858], \"name\": \"Crashes per Year\", \"marker\": {\"color\": \"#ee2737\"}}], {\"title\": \"VicRoads Accident - Accidents per Year\", \"titlefont\": {\"family\": \"Open Sans\", \"size\": 22}, \"xaxis\": {\"tickangle\": -45, \"dtick\": 1, \"title\": \"Year\", \"titlefont\": {\"family\": \"Open Sans\", \"size\": 16}}, \"yaxis\": {\"title\": \"Count\", \"titlefont\": {\"family\": \"Open Sans\", \"size\": 16}}}, {\"showLink\": true, \"linkText\": \"Export to plot.ly\"})});</script>"
      ]
     },
     "metadata": {},
     "output_type": "display_data"
    }
   ],
   "source": [
    "py.iplot(figure1, filename = 'figure1')\n",
    "#pyonline.image.ishow(figure1, width=1500, height=750)"
   ]
  },
  {
   "cell_type": "code",
   "execution_count": 61,
   "metadata": {},
   "outputs": [
    {
     "name": "stdout",
     "output_type": "stream",
     "text": [
      "   SPEED_ZONE    cnt\n",
      "0          30    170\n",
      "1          40   5388\n",
      "2          50  25395\n"
     ]
    }
   ],
   "source": [
    "accidents_by_speed =  df_accident_mod.groupby([ 'SPEED_ZONE']).size().reset_index(name=\"cnt\")\n",
    "print(accidents_by_speed.head(3))\n",
    "\n",
    "speedLimitZoneSeries = go.Bar(\n",
    "    y = accidents_by_speed['cnt'],\n",
    "    x = accidents_by_speed['SPEED_ZONE'],\n",
    "    name = 'Num. Crashes',\n",
    "    marker = dict(\n",
    "        color = '#ee2737'\n",
    "    )\n",
    ")\n",
    "\n",
    "layout = go.Layout(\n",
    "    title = 'VicRoads Accident - Accidents by Speed Limit Zone',\n",
    "    titlefont=dict(\n",
    "            family='Open Sans',\n",
    "            size=22#,\n",
    "            #color='#7f7f7f'\n",
    "    ),\n",
    "    xaxis=dict(\n",
    "        tickangle = -45, # angle lables at 45 deg\n",
    "        dtick = 10, # label every 1 bars\n",
    "        title = 'Speed Limit Zone',\n",
    "            titlefont=dict(\n",
    "                family='Open Sans',\n",
    "                size=16#,\n",
    "                #color='#7f7f7f'\n",
    "            )\n",
    "    ),\n",
    "    yaxis = dict(\n",
    "        title = 'Count',\n",
    "        titlefont=dict(\n",
    "            family='Open Sans',\n",
    "            size=16#,\n",
    "            #color='#7f7f7f'\n",
    "        )\n",
    "    )\n",
    ")\n",
    "\n",
    "data = [speedLimitZoneSeries] # can be multiple series\n",
    "\n",
    "figure2 = go.Figure(data=data, layout=layout)"
   ]
  },
  {
   "cell_type": "markdown",
   "metadata": {},
   "source": [
    "## Most accidents happen at lower speeds\n",
    "\n",
    "* Almost twice as many crashes happen in 60 km/h zones than in any other"
   ]
  },
  {
   "cell_type": "code",
   "execution_count": 62,
   "metadata": {},
   "outputs": [
    {
     "data": {
      "application/vnd.plotly.v1+json": {
       "data": [
        {
         "marker": {
          "color": "#ee2737"
         },
         "name": "Num. Crashes",
         "type": "bar",
         "x": [
          30,
          40,
          50,
          60,
          70,
          75,
          80,
          90,
          100,
          110
         ],
         "y": [
          170,
          5388,
          25395,
          47005,
          10801,
          28,
          18206,
          716,
          21454,
          1445
         ]
        }
       ],
       "layout": {
        "title": "VicRoads Accident - Accidents by Speed Limit Zone",
        "titlefont": {
         "family": "Open Sans",
         "size": 22
        },
        "xaxis": {
         "dtick": 10,
         "tickangle": -45,
         "title": "Speed Limit Zone",
         "titlefont": {
          "family": "Open Sans",
          "size": 16
         }
        },
        "yaxis": {
         "title": "Count",
         "titlefont": {
          "family": "Open Sans",
          "size": 16
         }
        }
       }
      },
      "text/html": [
       "<div id=\"57d61561-bf08-4f26-a2f0-3419620d2604\" style=\"height: 525px; width: 100%;\" class=\"plotly-graph-div\"></div><script type=\"text/javascript\">require([\"plotly\"], function(Plotly) { window.PLOTLYENV=window.PLOTLYENV || {};window.PLOTLYENV.BASE_URL=\"https://plot.ly\";Plotly.newPlot(\"57d61561-bf08-4f26-a2f0-3419620d2604\", [{\"type\": \"bar\", \"y\": [170, 5388, 25395, 47005, 10801, 28, 18206, 716, 21454, 1445], \"x\": [30, 40, 50, 60, 70, 75, 80, 90, 100, 110], \"name\": \"Num. Crashes\", \"marker\": {\"color\": \"#ee2737\"}}], {\"title\": \"VicRoads Accident - Accidents by Speed Limit Zone\", \"titlefont\": {\"family\": \"Open Sans\", \"size\": 22}, \"xaxis\": {\"tickangle\": -45, \"dtick\": 10, \"title\": \"Speed Limit Zone\", \"titlefont\": {\"family\": \"Open Sans\", \"size\": 16}}, \"yaxis\": {\"title\": \"Count\", \"titlefont\": {\"family\": \"Open Sans\", \"size\": 16}}}, {\"showLink\": true, \"linkText\": \"Export to plot.ly\"})});</script>"
      ],
      "text/vnd.plotly.v1+html": [
       "<div id=\"57d61561-bf08-4f26-a2f0-3419620d2604\" style=\"height: 525px; width: 100%;\" class=\"plotly-graph-div\"></div><script type=\"text/javascript\">require([\"plotly\"], function(Plotly) { window.PLOTLYENV=window.PLOTLYENV || {};window.PLOTLYENV.BASE_URL=\"https://plot.ly\";Plotly.newPlot(\"57d61561-bf08-4f26-a2f0-3419620d2604\", [{\"type\": \"bar\", \"y\": [170, 5388, 25395, 47005, 10801, 28, 18206, 716, 21454, 1445], \"x\": [30, 40, 50, 60, 70, 75, 80, 90, 100, 110], \"name\": \"Num. Crashes\", \"marker\": {\"color\": \"#ee2737\"}}], {\"title\": \"VicRoads Accident - Accidents by Speed Limit Zone\", \"titlefont\": {\"family\": \"Open Sans\", \"size\": 22}, \"xaxis\": {\"tickangle\": -45, \"dtick\": 10, \"title\": \"Speed Limit Zone\", \"titlefont\": {\"family\": \"Open Sans\", \"size\": 16}}, \"yaxis\": {\"title\": \"Count\", \"titlefont\": {\"family\": \"Open Sans\", \"size\": 16}}}, {\"showLink\": true, \"linkText\": \"Export to plot.ly\"})});</script>"
      ]
     },
     "metadata": {},
     "output_type": "display_data"
    }
   ],
   "source": [
    "py.iplot(figure2, filename='figure2')\n",
    "#pyonline.image.ishow(figure2, width=1500, height=750)"
   ]
  },
  {
   "cell_type": "code",
   "execution_count": 85,
   "metadata": {},
   "outputs": [],
   "source": [
    "# group by severity and speed zone\n",
    "accidents_by_speed_by_severity =  df_accident_mod.groupby(['SPEED_ZONE','SEVERITY']).size().reset_index(name=\"cnt\")\n",
    "#print(accidents_by_speed_by_severity.head(3))\n",
    "\n",
    "# only keep severe\n",
    "accidents_by_speed_severity_1 = accidents_by_speed_by_severity[accidents_by_speed_by_severity['SEVERITY'] == 1]\n",
    "#print(accidents_by_speed_severity_1.head(3))\n",
    "\n",
    "speedLimitZoneSeriesSevere = go.Bar(\n",
    "    y = accidents_by_speed_severity_1['cnt'],\n",
    "    x = accidents_by_speed_severity_1['SPEED_ZONE'],\n",
    "    name = 'Severe Crashes by Speed Limit Zone',\n",
    "    marker = dict(\n",
    "        color = '#0077c8'\n",
    "    )\n",
    ")\n",
    "\n",
    "layout = go.Layout(\n",
    "    title = 'VicRoads Accident - Accidents by Speed Limit Zone',\n",
    "    titlefont=dict(\n",
    "            family='Open Sans',\n",
    "            size=22\n",
    "    ),\n",
    "    xaxis=dict(\n",
    "        tickangle = -45, # angle lables at 45 deg\n",
    "        dtick = 10, # label every 1 bars\n",
    "        title = 'Speed Limit Zone',\n",
    "            titlefont=dict(\n",
    "                family='Open Sans',\n",
    "                size=16\n",
    "            )\n",
    "    ),\n",
    "    yaxis = dict(\n",
    "        title = 'Count',\n",
    "        titlefont=dict(\n",
    "            family='Open Sans',\n",
    "            size=16\n",
    "        )\n",
    "    )\n",
    ")\n",
    "\n",
    "data = [speedLimitZoneSeries, speedLimitZoneSeriesSevere] # can be multiple series\n",
    "\n",
    "figure3 = go.Figure(data=data, layout=layout)"
   ]
  },
  {
   "cell_type": "markdown",
   "metadata": {},
   "source": [
    "## The vast majority of crashes are not lethal, but lethality increases with the posted speed limit\n",
    "\n",
    "* You can see below that more lethal crashes happen in 100 zones than 60 zones, even though there are less than hlaf as many accidents\n",
    "* This is presumably because more accients happen at higher speeds in higher limit zone\n",
    "* This is also likely a proxy for higher speed limits representing country roads"
   ]
  },
  {
   "cell_type": "code",
   "execution_count": 64,
   "metadata": {},
   "outputs": [
    {
     "data": {
      "application/vnd.plotly.v1+json": {
       "data": [
        {
         "marker": {
          "color": "#ee2737"
         },
         "name": "Num. Crashes",
         "type": "bar",
         "x": [
          30,
          40,
          50,
          60,
          70,
          75,
          80,
          90,
          100,
          110
         ],
         "y": [
          170,
          5388,
          25395,
          47005,
          10801,
          28,
          18206,
          716,
          21454,
          1445
         ]
        },
        {
         "marker": {
          "color": "#0077c8"
         },
         "name": "Severe Crashes by Speed Limit Zone",
         "type": "bar",
         "x": [
          30,
          40,
          50,
          60,
          70,
          75,
          80,
          90,
          100,
          110
         ],
         "y": [
          1,
          24,
          222,
          475,
          188,
          1,
          385,
          27,
          1131,
          90
         ]
        }
       ],
       "layout": {
        "title": "VicRoads Accident - Accidents by Speed Limit Zone",
        "titlefont": {
         "family": "Open Sans",
         "size": 22
        },
        "xaxis": {
         "dtick": 10,
         "tickangle": -45,
         "title": "Speed Limit Zone",
         "titlefont": {
          "family": "Open Sans",
          "size": 16
         }
        },
        "yaxis": {
         "title": "Count",
         "titlefont": {
          "family": "Open Sans",
          "size": 16
         }
        }
       }
      },
      "text/html": [
       "<div id=\"49244284-fbca-4934-863b-f5ec8f7a1a1a\" style=\"height: 525px; width: 100%;\" class=\"plotly-graph-div\"></div><script type=\"text/javascript\">require([\"plotly\"], function(Plotly) { window.PLOTLYENV=window.PLOTLYENV || {};window.PLOTLYENV.BASE_URL=\"https://plot.ly\";Plotly.newPlot(\"49244284-fbca-4934-863b-f5ec8f7a1a1a\", [{\"type\": \"bar\", \"y\": [170, 5388, 25395, 47005, 10801, 28, 18206, 716, 21454, 1445], \"x\": [30, 40, 50, 60, 70, 75, 80, 90, 100, 110], \"name\": \"Num. Crashes\", \"marker\": {\"color\": \"#ee2737\"}}, {\"type\": \"bar\", \"y\": [1, 24, 222, 475, 188, 1, 385, 27, 1131, 90], \"x\": [30, 40, 50, 60, 70, 75, 80, 90, 100, 110], \"name\": \"Severe Crashes by Speed Limit Zone\", \"marker\": {\"color\": \"#0077c8\"}}], {\"title\": \"VicRoads Accident - Accidents by Speed Limit Zone\", \"titlefont\": {\"family\": \"Open Sans\", \"size\": 22}, \"xaxis\": {\"tickangle\": -45, \"dtick\": 10, \"title\": \"Speed Limit Zone\", \"titlefont\": {\"family\": \"Open Sans\", \"size\": 16}}, \"yaxis\": {\"title\": \"Count\", \"titlefont\": {\"family\": \"Open Sans\", \"size\": 16}}}, {\"showLink\": true, \"linkText\": \"Export to plot.ly\"})});</script>"
      ],
      "text/vnd.plotly.v1+html": [
       "<div id=\"49244284-fbca-4934-863b-f5ec8f7a1a1a\" style=\"height: 525px; width: 100%;\" class=\"plotly-graph-div\"></div><script type=\"text/javascript\">require([\"plotly\"], function(Plotly) { window.PLOTLYENV=window.PLOTLYENV || {};window.PLOTLYENV.BASE_URL=\"https://plot.ly\";Plotly.newPlot(\"49244284-fbca-4934-863b-f5ec8f7a1a1a\", [{\"type\": \"bar\", \"y\": [170, 5388, 25395, 47005, 10801, 28, 18206, 716, 21454, 1445], \"x\": [30, 40, 50, 60, 70, 75, 80, 90, 100, 110], \"name\": \"Num. Crashes\", \"marker\": {\"color\": \"#ee2737\"}}, {\"type\": \"bar\", \"y\": [1, 24, 222, 475, 188, 1, 385, 27, 1131, 90], \"x\": [30, 40, 50, 60, 70, 75, 80, 90, 100, 110], \"name\": \"Severe Crashes by Speed Limit Zone\", \"marker\": {\"color\": \"#0077c8\"}}], {\"title\": \"VicRoads Accident - Accidents by Speed Limit Zone\", \"titlefont\": {\"family\": \"Open Sans\", \"size\": 22}, \"xaxis\": {\"tickangle\": -45, \"dtick\": 10, \"title\": \"Speed Limit Zone\", \"titlefont\": {\"family\": \"Open Sans\", \"size\": 16}}, \"yaxis\": {\"title\": \"Count\", \"titlefont\": {\"family\": \"Open Sans\", \"size\": 16}}}, {\"showLink\": true, \"linkText\": \"Export to plot.ly\"})});</script>"
      ]
     },
     "metadata": {},
     "output_type": "display_data"
    }
   ],
   "source": [
    "py.iplot(figure3, filename='figure3')\n",
    "#pyonline.image.ishow(figure3, width=1500, height=750)"
   ]
  },
  {
   "cell_type": "markdown",
   "metadata": {},
   "source": [
    "Proportion of crashes that are lethal by speed limit zone\n",
    "\n",
    "This snippet of code:\n",
    "* Groups by both Speed Zone and Severity\n",
    "* Applys a function to calculate a fields percentage of the first group by field (speed zone), so all speed zone 30 sum to 100, all speed zone 40 sum to 100, etc\n",
    "* filters for just severe crashes (severity = 1), indicating someone died"
   ]
  },
  {
   "cell_type": "code",
   "execution_count": 67,
   "metadata": {
    "scrolled": true
   },
   "outputs": [
    {
     "name": "stdout",
     "output_type": "stream",
     "text": [
      "   SPEED_ZONE  count\n",
      "0          30   0.59\n",
      "3          40   0.45\n",
      "6          50   0.87\n"
     ]
    }
   ],
   "source": [
    "# group by severity and speed zone\n",
    "accidents_by_speed_by_severity =  df_accident_mod.groupby(['SPEED_ZONE','SEVERITY']).size()\n",
    "# divide by the first level you grouped by, multiply by 100, to end up with each severitys % of speed zone crashes\n",
    "accidents_by_speed_by_severity_pc = accidents_by_speed_by_severity.groupby(level=0).apply(lambda x:round(\n",
    "                                                 100 * x / float(x.sum()),2))\n",
    "# reset index and name the new column count\n",
    "accidents_by_speed_by_severity_pc = accidents_by_speed_by_severity_pc.reset_index(name=\"count\")\n",
    "\n",
    "# filter for just severe\n",
    "accidents_by_speed_severe_pc = accidents_by_speed_by_severity_pc[accidents_by_speed_by_severity_pc['SEVERITY'] == 1]\n",
    "\n",
    "# drop now-redundant column\n",
    "del accidents_by_speed_severe_pc['SEVERITY']\n",
    "\n",
    "print(accidents_by_speed_severe_pc.head(3))"
   ]
  },
  {
   "cell_type": "code",
   "execution_count": 302,
   "metadata": {},
   "outputs": [],
   "source": [
    "speedLimitZoneSeriesSeverePc = go.Scatter(\n",
    "    y = accidents_by_speed_severe_pc['count'],\n",
    "    x = accidents_by_speed_severe_pc['SPEED_ZONE'],\n",
    "    name = '% Crashes Lethal',\n",
    "    marker = dict(\n",
    "        color = '#0077c8'\n",
    "    ),\n",
    "    yaxis='y2'\n",
    ")\n",
    "\n",
    "layout = go.Layout(\n",
    "    barmode = 'group',\n",
    "    title = 'VicRoads Accident - Accidents by Speed Limit Zone',\n",
    "    titlefont=dict(\n",
    "            family='Open Sans',\n",
    "            size=22\n",
    "    ),\n",
    "    xaxis=dict(\n",
    "        tickangle = -45, # angle lables at 45 deg\n",
    "        dtick = 10, # label every 10th number after 0\n",
    "        title = 'Speed Limit Zone',\n",
    "            titlefont=dict(\n",
    "                family='Open Sans',\n",
    "                size=16\n",
    "            )\n",
    "    ),\n",
    "    yaxis = dict(\n",
    "        title = 'Num. Crashes',\n",
    "        titlefont=dict(\n",
    "            family='Open Sans',\n",
    "            size=16\n",
    "        ),\n",
    "        dtick=5000,\n",
    "        range=[0,65000]\n",
    "    ),\n",
    "    yaxis2=dict(\n",
    "        title='% Crashes Lethal',\n",
    "        overlaying='y',\n",
    "        side='right',\n",
    "        titlefont=dict(\n",
    "            family='Open Sans',\n",
    "            size=16\n",
    "        ),\n",
    "        range=[0,6.5],\n",
    "        dtick = 1\n",
    "    )\n",
    ")\n",
    "\n",
    "data = [speedLimitZoneSeries, speedLimitZoneSeriesSeverePc] # can be multiple series\n",
    "\n",
    "figure4 = go.Figure(data=data, layout=layout)"
   ]
  },
  {
   "cell_type": "markdown",
   "metadata": {},
   "source": [
    "## Lethality as a proportion of accidents increases with Speed Limit Zone\n",
    "\n",
    "* While most accidents happen at slower speeds, accidents in higher-speed zones are more likely to be deadly"
   ]
  },
  {
   "cell_type": "code",
   "execution_count": 303,
   "metadata": {
    "scrolled": true
   },
   "outputs": [
    {
     "data": {
      "application/vnd.plotly.v1+json": {
       "data": [
        {
         "marker": {
          "color": "#ee2737"
         },
         "name": "Num. Crashes",
         "type": "bar",
         "x": [
          30,
          40,
          50,
          60,
          70,
          75,
          80,
          90,
          100,
          110
         ],
         "y": [
          170,
          5388,
          25395,
          47005,
          10801,
          28,
          18206,
          716,
          21454,
          1445
         ]
        },
        {
         "marker": {
          "color": "#0077c8"
         },
         "name": "% Crashes Lethal",
         "type": "scatter",
         "x": [
          30,
          40,
          50,
          60,
          70,
          75,
          80,
          90,
          100,
          110
         ],
         "y": [
          0.59,
          0.45,
          0.87,
          1.01,
          1.74,
          3.57,
          2.11,
          3.77,
          5.27,
          6.23
         ],
         "yaxis": "y2"
        }
       ],
       "layout": {
        "barmode": "group",
        "title": "VicRoads Accident - Accidents by Speed Limit Zone",
        "titlefont": {
         "family": "Open Sans",
         "size": 22
        },
        "xaxis": {
         "dtick": 10,
         "tickangle": -45,
         "title": "Speed Limit Zone",
         "titlefont": {
          "family": "Open Sans",
          "size": 16
         }
        },
        "yaxis": {
         "dtick": 5000,
         "range": [
          0,
          65000
         ],
         "title": "Num. Crashes",
         "titlefont": {
          "family": "Open Sans",
          "size": 16
         }
        },
        "yaxis2": {
         "dtick": 1,
         "overlaying": "y",
         "range": [
          0,
          6.5
         ],
         "side": "right",
         "title": "% Crashes Lethal",
         "titlefont": {
          "family": "Open Sans",
          "size": 16
         }
        }
       }
      },
      "text/html": [
       "<div id=\"5bdef010-8e96-41c8-b8fd-56c05f067d90\" style=\"height: 525px; width: 100%;\" class=\"plotly-graph-div\"></div><script type=\"text/javascript\">require([\"plotly\"], function(Plotly) { window.PLOTLYENV=window.PLOTLYENV || {};window.PLOTLYENV.BASE_URL=\"https://plot.ly\";Plotly.newPlot(\"5bdef010-8e96-41c8-b8fd-56c05f067d90\", [{\"type\": \"bar\", \"y\": [170, 5388, 25395, 47005, 10801, 28, 18206, 716, 21454, 1445], \"x\": [30, 40, 50, 60, 70, 75, 80, 90, 100, 110], \"name\": \"Num. Crashes\", \"marker\": {\"color\": \"#ee2737\"}}, {\"type\": \"scatter\", \"y\": [0.59, 0.45, 0.87, 1.01, 1.74, 3.57, 2.11, 3.77, 5.27, 6.23], \"x\": [30, 40, 50, 60, 70, 75, 80, 90, 100, 110], \"name\": \"% Crashes Lethal\", \"marker\": {\"color\": \"#0077c8\"}, \"yaxis\": \"y2\"}], {\"barmode\": \"group\", \"title\": \"VicRoads Accident - Accidents by Speed Limit Zone\", \"titlefont\": {\"family\": \"Open Sans\", \"size\": 22}, \"xaxis\": {\"tickangle\": -45, \"dtick\": 10, \"title\": \"Speed Limit Zone\", \"titlefont\": {\"family\": \"Open Sans\", \"size\": 16}}, \"yaxis\": {\"title\": \"Num. Crashes\", \"titlefont\": {\"family\": \"Open Sans\", \"size\": 16}, \"dtick\": 5000, \"range\": [0, 65000]}, \"yaxis2\": {\"title\": \"% Crashes Lethal\", \"overlaying\": \"y\", \"side\": \"right\", \"titlefont\": {\"family\": \"Open Sans\", \"size\": 16}, \"range\": [0, 6.5], \"dtick\": 1}}, {\"showLink\": true, \"linkText\": \"Export to plot.ly\"})});</script>"
      ],
      "text/vnd.plotly.v1+html": [
       "<div id=\"5bdef010-8e96-41c8-b8fd-56c05f067d90\" style=\"height: 525px; width: 100%;\" class=\"plotly-graph-div\"></div><script type=\"text/javascript\">require([\"plotly\"], function(Plotly) { window.PLOTLYENV=window.PLOTLYENV || {};window.PLOTLYENV.BASE_URL=\"https://plot.ly\";Plotly.newPlot(\"5bdef010-8e96-41c8-b8fd-56c05f067d90\", [{\"type\": \"bar\", \"y\": [170, 5388, 25395, 47005, 10801, 28, 18206, 716, 21454, 1445], \"x\": [30, 40, 50, 60, 70, 75, 80, 90, 100, 110], \"name\": \"Num. Crashes\", \"marker\": {\"color\": \"#ee2737\"}}, {\"type\": \"scatter\", \"y\": [0.59, 0.45, 0.87, 1.01, 1.74, 3.57, 2.11, 3.77, 5.27, 6.23], \"x\": [30, 40, 50, 60, 70, 75, 80, 90, 100, 110], \"name\": \"% Crashes Lethal\", \"marker\": {\"color\": \"#0077c8\"}, \"yaxis\": \"y2\"}], {\"barmode\": \"group\", \"title\": \"VicRoads Accident - Accidents by Speed Limit Zone\", \"titlefont\": {\"family\": \"Open Sans\", \"size\": 22}, \"xaxis\": {\"tickangle\": -45, \"dtick\": 10, \"title\": \"Speed Limit Zone\", \"titlefont\": {\"family\": \"Open Sans\", \"size\": 16}}, \"yaxis\": {\"title\": \"Num. Crashes\", \"titlefont\": {\"family\": \"Open Sans\", \"size\": 16}, \"dtick\": 5000, \"range\": [0, 65000]}, \"yaxis2\": {\"title\": \"% Crashes Lethal\", \"overlaying\": \"y\", \"side\": \"right\", \"titlefont\": {\"family\": \"Open Sans\", \"size\": 16}, \"range\": [0, 6.5], \"dtick\": 1}}, {\"showLink\": true, \"linkText\": \"Export to plot.ly\"})});</script>"
      ]
     },
     "metadata": {},
     "output_type": "display_data"
    }
   ],
   "source": [
    "py.iplot(figure4, filename='figure4')\n",
    "#pyonline.image.ishow(figure4, width=1500, height=750)"
   ]
  },
  {
   "cell_type": "markdown",
   "metadata": {},
   "source": [
    "### Accidents by time of day"
   ]
  },
  {
   "cell_type": "code",
   "execution_count": 70,
   "metadata": {},
   "outputs": [
    {
     "name": "stdout",
     "output_type": "stream",
     "text": [
      "   hour   cnt\n",
      "0     0  2067\n",
      "1     1  1755\n",
      "2     2  1415\n"
     ]
    }
   ],
   "source": [
    "accidents_by_hour = df_accident_mod.groupby(['hour']).size().reset_index(name=\"cnt\")\n",
    "print(accidents_by_hour.head(3))"
   ]
  },
  {
   "cell_type": "code",
   "execution_count": 72,
   "metadata": {
    "collapsed": true
   },
   "outputs": [],
   "source": [
    "seriesAccidentsByHourBar = go.Bar(\n",
    "    y = accidents_by_hour['cnt'],\n",
    "    x = accidents_by_hour['hour'],\n",
    "    name = 'Num. Crashes',\n",
    "    marker = dict(\n",
    "        color = '#FF6900'\n",
    "    )\n",
    ")\n",
    "\n",
    "layout = go.Layout(\n",
    "    barmode = 'group',\n",
    "    title = 'VicRoads Accident - Accidents by Hour',\n",
    "    titlefont=dict(\n",
    "            family='Open Sans',\n",
    "            size=22\n",
    "    ),\n",
    "    xaxis=dict(\n",
    "        #tickangle = -45, # angle lables at 45 deg\n",
    "        dtick = 1,\n",
    "        title = 'Speed Limit Zone',\n",
    "            titlefont=dict(\n",
    "                family='Open Sans',\n",
    "                size=16\n",
    "            )\n",
    "    ),\n",
    "    yaxis = dict(\n",
    "        title = 'Num. Crashes',\n",
    "        titlefont=dict(\n",
    "            family='Open Sans',\n",
    "            size=16\n",
    "        )\n",
    "    )\n",
    ")\n",
    "\n",
    "data = [seriesAccidentsByHourBar]\n",
    "\n",
    "figure5 = go.Figure(data=data, layout=layout)"
   ]
  },
  {
   "cell_type": "markdown",
   "metadata": {},
   "source": [
    "## Most accidents happen during daylight hours\n",
    "\n",
    "* This is presumably reflecting when more people are on the road\n",
    "* More accidents happen in the afternoon than the morning\n"
   ]
  },
  {
   "cell_type": "code",
   "execution_count": 73,
   "metadata": {},
   "outputs": [
    {
     "data": {
      "application/vnd.plotly.v1+json": {
       "data": [
        {
         "marker": {
          "color": "#FF6900"
         },
         "name": "Num. Crashes",
         "type": "bar",
         "x": [
          0,
          1,
          2,
          3,
          4,
          5,
          6,
          7,
          8,
          9,
          10,
          11,
          12,
          13,
          14,
          15,
          16,
          17,
          18,
          19,
          20,
          21,
          22,
          23
         ],
         "y": [
          2067,
          1755,
          1415,
          1276,
          1146,
          1723,
          3775,
          5541,
          8624,
          6807,
          6429,
          7261,
          7620,
          7545,
          7762,
          10289,
          10346,
          10852,
          8961,
          5611,
          4084,
          3811,
          3203,
          2705
         ]
        }
       ],
       "layout": {
        "barmode": "group",
        "title": "VicRoads Accident - Accidents by Hour",
        "titlefont": {
         "family": "Open Sans",
         "size": 22
        },
        "xaxis": {
         "dtick": 1,
         "title": "Speed Limit Zone",
         "titlefont": {
          "family": "Open Sans",
          "size": 16
         }
        },
        "yaxis": {
         "title": "Num. Crashes",
         "titlefont": {
          "family": "Open Sans",
          "size": 16
         }
        }
       }
      },
      "text/html": [
       "<div id=\"d4cbb62e-9a39-44ff-8d00-9238fa21c17b\" style=\"height: 525px; width: 100%;\" class=\"plotly-graph-div\"></div><script type=\"text/javascript\">require([\"plotly\"], function(Plotly) { window.PLOTLYENV=window.PLOTLYENV || {};window.PLOTLYENV.BASE_URL=\"https://plot.ly\";Plotly.newPlot(\"d4cbb62e-9a39-44ff-8d00-9238fa21c17b\", [{\"type\": \"bar\", \"y\": [2067, 1755, 1415, 1276, 1146, 1723, 3775, 5541, 8624, 6807, 6429, 7261, 7620, 7545, 7762, 10289, 10346, 10852, 8961, 5611, 4084, 3811, 3203, 2705], \"x\": [0, 1, 2, 3, 4, 5, 6, 7, 8, 9, 10, 11, 12, 13, 14, 15, 16, 17, 18, 19, 20, 21, 22, 23], \"name\": \"Num. Crashes\", \"marker\": {\"color\": \"#FF6900\"}}], {\"barmode\": \"group\", \"title\": \"VicRoads Accident - Accidents by Hour\", \"titlefont\": {\"family\": \"Open Sans\", \"size\": 22}, \"xaxis\": {\"dtick\": 1, \"title\": \"Speed Limit Zone\", \"titlefont\": {\"family\": \"Open Sans\", \"size\": 16}}, \"yaxis\": {\"title\": \"Num. Crashes\", \"titlefont\": {\"family\": \"Open Sans\", \"size\": 16}}}, {\"showLink\": true, \"linkText\": \"Export to plot.ly\"})});</script>"
      ],
      "text/vnd.plotly.v1+html": [
       "<div id=\"d4cbb62e-9a39-44ff-8d00-9238fa21c17b\" style=\"height: 525px; width: 100%;\" class=\"plotly-graph-div\"></div><script type=\"text/javascript\">require([\"plotly\"], function(Plotly) { window.PLOTLYENV=window.PLOTLYENV || {};window.PLOTLYENV.BASE_URL=\"https://plot.ly\";Plotly.newPlot(\"d4cbb62e-9a39-44ff-8d00-9238fa21c17b\", [{\"type\": \"bar\", \"y\": [2067, 1755, 1415, 1276, 1146, 1723, 3775, 5541, 8624, 6807, 6429, 7261, 7620, 7545, 7762, 10289, 10346, 10852, 8961, 5611, 4084, 3811, 3203, 2705], \"x\": [0, 1, 2, 3, 4, 5, 6, 7, 8, 9, 10, 11, 12, 13, 14, 15, 16, 17, 18, 19, 20, 21, 22, 23], \"name\": \"Num. Crashes\", \"marker\": {\"color\": \"#FF6900\"}}], {\"barmode\": \"group\", \"title\": \"VicRoads Accident - Accidents by Hour\", \"titlefont\": {\"family\": \"Open Sans\", \"size\": 22}, \"xaxis\": {\"dtick\": 1, \"title\": \"Speed Limit Zone\", \"titlefont\": {\"family\": \"Open Sans\", \"size\": 16}}, \"yaxis\": {\"title\": \"Num. Crashes\", \"titlefont\": {\"family\": \"Open Sans\", \"size\": 16}}}, {\"showLink\": true, \"linkText\": \"Export to plot.ly\"})});</script>"
      ]
     },
     "metadata": {},
     "output_type": "display_data"
    }
   ],
   "source": [
    "py.iplot(figure5, filename='figure5')\n",
    "#pyonline.image.ishow(figure5, width=1500, height=750)"
   ]
  },
  {
   "cell_type": "markdown",
   "metadata": {},
   "source": [
    "crashes by time by severity"
   ]
  },
  {
   "cell_type": "code",
   "execution_count": 74,
   "metadata": {},
   "outputs": [
    {
     "name": "stdout",
     "output_type": "stream",
     "text": [
      "   hour  count\n",
      "0     0   3.97\n",
      "3     1   4.33\n",
      "6     2   4.59\n"
     ]
    }
   ],
   "source": [
    "# group by hour by severity\n",
    "accidents_by_hour_by_severity =  df_accident_mod.groupby(['hour','SEVERITY']).size()\n",
    "\n",
    "# divide by the first level you grouped by, multiply by 100, to end up with each severitys % of speed zone crashes\n",
    "accidents_by_hour_by_severity_pc = accidents_by_hour_by_severity.groupby(level=0).apply(lambda x:round(\n",
    "                                                 100 * x / float(x.sum()),2))\n",
    "# reset index and name the new column count\n",
    "accidents_by_hour_by_severity_pc = accidents_by_hour_by_severity_pc.reset_index(name=\"count\")\n",
    "\n",
    "# filter for just severe\n",
    "accidents_by_hour_by_severity_1 = accidents_by_hour_by_severity_pc[accidents_by_hour_by_severity_pc['SEVERITY'] == 1]\n",
    "\n",
    "# drop now-redundant column\n",
    "del accidents_by_hour_by_severity_1['SEVERITY']\n",
    "\n",
    "print(accidents_by_hour_by_severity_1.head(3))"
   ]
  },
  {
   "cell_type": "code",
   "execution_count": 75,
   "metadata": {
    "collapsed": true
   },
   "outputs": [],
   "source": [
    "seriesAccidentsByHourSevereLine = go.Scatter(\n",
    "    y = accidents_by_hour_by_severity_1['count'],\n",
    "    x = accidents_by_hour_by_severity_1['hour'],\n",
    "    name = 'Num. Crashes',\n",
    "    marker = dict(\n",
    "        color = '#0077C8'\n",
    "    ),\n",
    "    yaxis = 'y2'\n",
    ")\n",
    "\n",
    "layout = go.Layout(\n",
    "    barmode = 'group',\n",
    "    title = 'VicRoads Accident - Accidents by Hour - Lethal vs All',\n",
    "    titlefont=dict(\n",
    "            family='Open Sans',\n",
    "            size=22\n",
    "    ),\n",
    "    xaxis=dict(\n",
    "        title = 'Speed Limit Zone',\n",
    "        titlefont=dict(\n",
    "            family='Open Sans',\n",
    "            size=16\n",
    "        )\n",
    "    ),\n",
    "    yaxis = dict(\n",
    "        title = 'Num. Crashes',\n",
    "        titlefont=dict(\n",
    "            family='Open Sans',\n",
    "            size=16\n",
    "        ),\n",
    "        range=[0,12000]\n",
    "    ),\n",
    "    yaxis2=dict(\n",
    "        title='% Crashes Lethal',\n",
    "        overlaying='y',\n",
    "        side='right',\n",
    "        titlefont=dict(\n",
    "            family='Open Sans',\n",
    "            size=16\n",
    "        ),\n",
    "        range=[0,6],\n",
    "        dtick = 1\n",
    "    )\n",
    ")\n",
    "\n",
    "data = [seriesAccidentsByHourBar, seriesAccidentsByHourSevereLine]\n",
    "\n",
    "figure6 = go.Figure(data=data, layout=layout)"
   ]
  },
  {
   "cell_type": "markdown",
   "metadata": {},
   "source": [
    "## Accidents at night are more likley to be lethal\n",
    "\n",
    "* The most accidents occur between 5 and 6pm, this also has the lowest mortality rate, with slightly more than 1 in 100 accidents leading to a death\n",
    "* The least accidents happen between 2 and 4 am, where the rate of accidents leading to death is approximately 3 times higher than at 5pm, around 4.5 in 10)"
   ]
  },
  {
   "cell_type": "code",
   "execution_count": 76,
   "metadata": {},
   "outputs": [
    {
     "data": {
      "application/vnd.plotly.v1+json": {
       "data": [
        {
         "marker": {
          "color": "#FF6900"
         },
         "name": "Num. Crashes",
         "type": "bar",
         "x": [
          0,
          1,
          2,
          3,
          4,
          5,
          6,
          7,
          8,
          9,
          10,
          11,
          12,
          13,
          14,
          15,
          16,
          17,
          18,
          19,
          20,
          21,
          22,
          23
         ],
         "y": [
          2067,
          1755,
          1415,
          1276,
          1146,
          1723,
          3775,
          5541,
          8624,
          6807,
          6429,
          7261,
          7620,
          7545,
          7762,
          10289,
          10346,
          10852,
          8961,
          5611,
          4084,
          3811,
          3203,
          2705
         ]
        },
        {
         "marker": {
          "color": "#0077C8"
         },
         "name": "Num. Crashes",
         "type": "scatter",
         "x": [
          0,
          1,
          2,
          3,
          4,
          5,
          6,
          7,
          8,
          9,
          10,
          11,
          12,
          13,
          14,
          15,
          16,
          17,
          18,
          19,
          20,
          21,
          22,
          23
         ],
         "y": [
          3.97,
          4.33,
          4.59,
          4.39,
          4.36,
          4.06,
          2.81,
          1.55,
          1.43,
          1.48,
          1.71,
          1.71,
          1.78,
          1.64,
          1.82,
          1.74,
          1.56,
          1.21,
          1.55,
          1.66,
          2.91,
          2.39,
          2.56,
          3.66
         ],
         "yaxis": "y2"
        }
       ],
       "layout": {
        "barmode": "group",
        "title": "VicRoads Accident - Accidents by Hour - Lethal vs All",
        "titlefont": {
         "family": "Open Sans",
         "size": 22
        },
        "xaxis": {
         "title": "Speed Limit Zone",
         "titlefont": {
          "family": "Open Sans",
          "size": 16
         }
        },
        "yaxis": {
         "range": [
          0,
          12000
         ],
         "title": "Num. Crashes",
         "titlefont": {
          "family": "Open Sans",
          "size": 16
         }
        },
        "yaxis2": {
         "dtick": 1,
         "overlaying": "y",
         "range": [
          0,
          6
         ],
         "side": "right",
         "title": "% Crashes Lethal",
         "titlefont": {
          "family": "Open Sans",
          "size": 16
         }
        }
       }
      },
      "text/html": [
       "<div id=\"c41a930d-6315-4b5a-a77a-b295f75c63f9\" style=\"height: 525px; width: 100%;\" class=\"plotly-graph-div\"></div><script type=\"text/javascript\">require([\"plotly\"], function(Plotly) { window.PLOTLYENV=window.PLOTLYENV || {};window.PLOTLYENV.BASE_URL=\"https://plot.ly\";Plotly.newPlot(\"c41a930d-6315-4b5a-a77a-b295f75c63f9\", [{\"type\": \"bar\", \"y\": [2067, 1755, 1415, 1276, 1146, 1723, 3775, 5541, 8624, 6807, 6429, 7261, 7620, 7545, 7762, 10289, 10346, 10852, 8961, 5611, 4084, 3811, 3203, 2705], \"x\": [0, 1, 2, 3, 4, 5, 6, 7, 8, 9, 10, 11, 12, 13, 14, 15, 16, 17, 18, 19, 20, 21, 22, 23], \"name\": \"Num. Crashes\", \"marker\": {\"color\": \"#FF6900\"}}, {\"type\": \"scatter\", \"y\": [3.97, 4.33, 4.59, 4.39, 4.36, 4.06, 2.81, 1.55, 1.43, 1.48, 1.71, 1.71, 1.78, 1.64, 1.82, 1.74, 1.56, 1.21, 1.55, 1.66, 2.91, 2.39, 2.56, 3.66], \"x\": [0, 1, 2, 3, 4, 5, 6, 7, 8, 9, 10, 11, 12, 13, 14, 15, 16, 17, 18, 19, 20, 21, 22, 23], \"name\": \"Num. Crashes\", \"marker\": {\"color\": \"#0077C8\"}, \"yaxis\": \"y2\"}], {\"barmode\": \"group\", \"title\": \"VicRoads Accident - Accidents by Hour - Lethal vs All\", \"titlefont\": {\"family\": \"Open Sans\", \"size\": 22}, \"xaxis\": {\"title\": \"Speed Limit Zone\", \"titlefont\": {\"family\": \"Open Sans\", \"size\": 16}}, \"yaxis\": {\"title\": \"Num. Crashes\", \"titlefont\": {\"family\": \"Open Sans\", \"size\": 16}, \"range\": [0, 12000]}, \"yaxis2\": {\"title\": \"% Crashes Lethal\", \"overlaying\": \"y\", \"side\": \"right\", \"titlefont\": {\"family\": \"Open Sans\", \"size\": 16}, \"range\": [0, 6], \"dtick\": 1}}, {\"showLink\": true, \"linkText\": \"Export to plot.ly\"})});</script>"
      ],
      "text/vnd.plotly.v1+html": [
       "<div id=\"c41a930d-6315-4b5a-a77a-b295f75c63f9\" style=\"height: 525px; width: 100%;\" class=\"plotly-graph-div\"></div><script type=\"text/javascript\">require([\"plotly\"], function(Plotly) { window.PLOTLYENV=window.PLOTLYENV || {};window.PLOTLYENV.BASE_URL=\"https://plot.ly\";Plotly.newPlot(\"c41a930d-6315-4b5a-a77a-b295f75c63f9\", [{\"type\": \"bar\", \"y\": [2067, 1755, 1415, 1276, 1146, 1723, 3775, 5541, 8624, 6807, 6429, 7261, 7620, 7545, 7762, 10289, 10346, 10852, 8961, 5611, 4084, 3811, 3203, 2705], \"x\": [0, 1, 2, 3, 4, 5, 6, 7, 8, 9, 10, 11, 12, 13, 14, 15, 16, 17, 18, 19, 20, 21, 22, 23], \"name\": \"Num. Crashes\", \"marker\": {\"color\": \"#FF6900\"}}, {\"type\": \"scatter\", \"y\": [3.97, 4.33, 4.59, 4.39, 4.36, 4.06, 2.81, 1.55, 1.43, 1.48, 1.71, 1.71, 1.78, 1.64, 1.82, 1.74, 1.56, 1.21, 1.55, 1.66, 2.91, 2.39, 2.56, 3.66], \"x\": [0, 1, 2, 3, 4, 5, 6, 7, 8, 9, 10, 11, 12, 13, 14, 15, 16, 17, 18, 19, 20, 21, 22, 23], \"name\": \"Num. Crashes\", \"marker\": {\"color\": \"#0077C8\"}, \"yaxis\": \"y2\"}], {\"barmode\": \"group\", \"title\": \"VicRoads Accident - Accidents by Hour - Lethal vs All\", \"titlefont\": {\"family\": \"Open Sans\", \"size\": 22}, \"xaxis\": {\"title\": \"Speed Limit Zone\", \"titlefont\": {\"family\": \"Open Sans\", \"size\": 16}}, \"yaxis\": {\"title\": \"Num. Crashes\", \"titlefont\": {\"family\": \"Open Sans\", \"size\": 16}, \"range\": [0, 12000]}, \"yaxis2\": {\"title\": \"% Crashes Lethal\", \"overlaying\": \"y\", \"side\": \"right\", \"titlefont\": {\"family\": \"Open Sans\", \"size\": 16}, \"range\": [0, 6], \"dtick\": 1}}, {\"showLink\": true, \"linkText\": \"Export to plot.ly\"})});</script>"
      ]
     },
     "metadata": {},
     "output_type": "display_data"
    }
   ],
   "source": [
    "py.iplot(figure6, filename='figure6')\n",
    "#pyonline.image.ishow(figure6, width=1500, height=750)"
   ]
  },
  {
   "cell_type": "markdown",
   "metadata": {},
   "source": [
    "### Accidents weighted for Population change\n",
    "\n",
    "The number of accidents looks pretty stable over this period (see figure 1). But Victoria has grown a lot in the last decade - Have more or less crashes happened per person?\n",
    "\n",
    "To estimate, below we:\n",
    "* Import the ABS ERP dataset for Victoria, code 3101.0\n",
    "    * Available at: http://www.abs.gov.au/AUSSTATS/abs@.nsf/DetailsPage/3101.0Jun%202016?OpenDocument\n",
    "* Tidy that up, and average by year (as it is quarterly)\n",
    "* Join to crash dataset, and divide crashes by population to estimate crashes per population"
   ]
  },
  {
   "cell_type": "markdown",
   "metadata": {},
   "source": [
    "#### Get ERP Data"
   ]
  },
  {
   "cell_type": "code",
   "execution_count": 91,
   "metadata": {},
   "outputs": [
    {
     "name": "stdout",
     "output_type": "stream",
     "text": [
      "        date      erp  year\n",
      "0 1981-06-01  3946917  1981\n",
      "1 1981-09-01  3957333  1981\n",
      "2 1981-12-01  3968398  1981\n",
      "   year        erp\n",
      "0  1981  3957549.0\n",
      "1  1982  3997278.0\n",
      "2  1983  4040160.0\n"
     ]
    }
   ],
   "source": [
    "# read from ABS Excel series\n",
    "df_erp = pd.read_excel(\n",
    "    'abs_data/erp_2016.xlsx', # file name and path\n",
    "    sheetname = 'Data1',\n",
    "    header = 0,\n",
    "    skiprows = 9,\n",
    "    index_col=0 # first column should be primary key\n",
    ")\n",
    "\n",
    "# just keep the Victoria Persons series, which has the id A2060844K\n",
    "df_erp = df_erp['A2060844K']\n",
    "\n",
    "# fix column headers\n",
    "df_erp = df_erp.reset_index()\n",
    "\n",
    "# rename columns\n",
    "df_erp.columns = ['date','erp']\n",
    "\n",
    "# add a year column\n",
    "df_erp['year'] = pd.DatetimeIndex(df_erp['date']).year\n",
    "\n",
    "print(df_erp.head(3))\n",
    "\n",
    "# group by year\n",
    "erp_by_year = df_erp.groupby(['year']).mean().round()\n",
    "\n",
    "# fix column headers\n",
    "erp_by_year = erp_by_year.reset_index()\n",
    "\n",
    "print(erp_by_year.head(3))"
   ]
  },
  {
   "cell_type": "markdown",
   "metadata": {},
   "source": [
    "#### Merge ERP data with Crash data"
   ]
  },
  {
   "cell_type": "code",
   "execution_count": 90,
   "metadata": {},
   "outputs": [
    {
     "name": "stdout",
     "output_type": "stream",
     "text": [
      "   year    cnt\n",
      "0  2007  12980\n",
      "1  2008  13494\n",
      "2  2009  13097\n",
      "   year        erp\n",
      "0  1981  3957549.0\n",
      "1  1982  3997278.0\n",
      "2  1983  4040160.0\n",
      "   year    cnt        erp\n",
      "0  2007  12980  5166404.0\n",
      "1  2008  13494  5272302.0\n",
      "2  2009  13097  5384432.0\n"
     ]
    }
   ],
   "source": [
    "# dataframe accidents_by_year defined earlier in the file\n",
    "print(accidents_by_year.head(3))\n",
    "print(erp_by_year.head(3))\n",
    "\n",
    "# take all rows from accidents by year, left join with erp_by_year on year=year\n",
    "df_accidents_by_year_with_erp = pd.merge(accidents_by_year, erp_by_year, on='year', how='left')\n",
    "\n",
    "# did we get what we expect?\n",
    "print(df_accidents_by_year_with_erp.head(3))\n",
    "\n",
    "# make column for crashes per thousand people\n",
    "df_accidents_by_year_with_erp['crashes_per_100k'] = round(\n",
    "    100000 * (\n",
    "        df_accidents_by_year_with_erp['cnt']/df_accidents_by_year_with_erp['erp']\n",
    "    ),0\n",
    ")"
   ]
  },
  {
   "cell_type": "code",
   "execution_count": 93,
   "metadata": {
    "collapsed": true
   },
   "outputs": [],
   "source": [
    "seriesCrashesbyYearBy100KPopulationScatter = go.Scatter(\n",
    "    y = df_accidents_by_year_with_erp['crashes_per_100k'],\n",
    "    x = df_accidents_by_year_with_erp['year'],\n",
    "    name = 'Crashes Per 100k Population Per Year',\n",
    "    marker = dict(\n",
    "        color = '#0077C8',\n",
    "        size=10\n",
    "    ),\n",
    "    yaxis = 'y2',\n",
    "    line = dict(\n",
    "        color = '#0077C8',\n",
    "        width=4\n",
    "    )\n",
    ")\n",
    "\n",
    "layout = go.Layout(\n",
    "    title = 'VicRoads Accident - Crashes by Year',\n",
    "    titlefont=dict(\n",
    "            family='Open Sans',\n",
    "            size=22\n",
    "    ),\n",
    "    xaxis=dict(\n",
    "        title = 'Year',\n",
    "        titlefont=dict(\n",
    "            family='Open Sans',\n",
    "            size=16\n",
    "        )\n",
    "    ),\n",
    "    yaxis = dict(\n",
    "        title = 'Num. Crashes',\n",
    "        titlefont=dict(\n",
    "            family='Open Sans',\n",
    "            size=16\n",
    "        ),\n",
    "        range=[0,15000],\n",
    "        dtick = 2500\n",
    "    ),\n",
    "    yaxis2=dict(\n",
    "        title='Crashes per 100k Popn',\n",
    "        overlaying='y',\n",
    "        side='right',\n",
    "        titlefont=dict(\n",
    "            family='Open Sans',\n",
    "            size=16\n",
    "        ),\n",
    "        range=[0,300]\n",
    "    ),\n",
    "    legend=dict(\n",
    "        orientation=\"h\",\n",
    "        x=.24,\n",
    "        y=1.1\n",
    "    )\n",
    ")\n",
    "\n",
    "data = [seriesCrashesbyYearBar, seriesCrashesbyYearBy100KPopulationScatter]\n",
    "\n",
    "figure7 = go.Figure(data=data, layout=layout)"
   ]
  },
  {
   "cell_type": "markdown",
   "metadata": {},
   "source": [
    "## Accidents are steadily declining, weighted for population\n",
    "\n",
    "While the number of accidents has remained relatively steady, the number of acidents per 100,000 people has fallen from a peak of 256 per 100,000 in 2008 to 208 in 2016, a fall of 19%"
   ]
  },
  {
   "cell_type": "code",
   "execution_count": 94,
   "metadata": {},
   "outputs": [
    {
     "data": {
      "application/vnd.plotly.v1+json": {
       "data": [
        {
         "marker": {
          "color": "#ee2737"
         },
         "name": "Crashes per Year",
         "type": "bar",
         "x": [
          2007,
          2008,
          2009,
          2010,
          2011,
          2012,
          2013,
          2014,
          2015,
          2016
         ],
         "y": [
          12980,
          13494,
          13097,
          12842,
          12762,
          12925,
          13001,
          13289,
          13360,
          12858
         ]
        },
        {
         "line": {
          "color": "#0077C8",
          "width": 4
         },
         "marker": {
          "color": "#0077C8",
          "size": 10
         },
         "name": "Crashes Per 100k Population Per Year",
         "type": "scatter",
         "x": [
          2007,
          2008,
          2009,
          2010,
          2011,
          2012,
          2013,
          2014,
          2015,
          2016
         ],
         "y": [
          251,
          256,
          243,
          235,
          230,
          228,
          224,
          224,
          221,
          208
         ],
         "yaxis": "y2"
        }
       ],
       "layout": {
        "legend": {
         "orientation": "h",
         "x": 0.24,
         "y": 1.1
        },
        "title": "VicRoads Accident - Crashes by Year",
        "titlefont": {
         "family": "Open Sans",
         "size": 22
        },
        "xaxis": {
         "title": "Year",
         "titlefont": {
          "family": "Open Sans",
          "size": 16
         }
        },
        "yaxis": {
         "dtick": 2500,
         "range": [
          0,
          15000
         ],
         "title": "Num. Crashes",
         "titlefont": {
          "family": "Open Sans",
          "size": 16
         }
        },
        "yaxis2": {
         "overlaying": "y",
         "range": [
          0,
          300
         ],
         "side": "right",
         "title": "Crashes per 100k Popn",
         "titlefont": {
          "family": "Open Sans",
          "size": 16
         }
        }
       }
      },
      "text/html": [
       "<div id=\"bc4183c6-fd85-4691-9943-e2889036f132\" style=\"height: 525px; width: 100%;\" class=\"plotly-graph-div\"></div><script type=\"text/javascript\">require([\"plotly\"], function(Plotly) { window.PLOTLYENV=window.PLOTLYENV || {};window.PLOTLYENV.BASE_URL=\"https://plot.ly\";Plotly.newPlot(\"bc4183c6-fd85-4691-9943-e2889036f132\", [{\"type\": \"bar\", \"x\": [2007, 2008, 2009, 2010, 2011, 2012, 2013, 2014, 2015, 2016], \"y\": [12980, 13494, 13097, 12842, 12762, 12925, 13001, 13289, 13360, 12858], \"name\": \"Crashes per Year\", \"marker\": {\"color\": \"#ee2737\"}}, {\"type\": \"scatter\", \"y\": [251.0, 256.0, 243.0, 235.0, 230.0, 228.0, 224.0, 224.0, 221.0, 208.0], \"x\": [2007, 2008, 2009, 2010, 2011, 2012, 2013, 2014, 2015, 2016], \"name\": \"Crashes Per 100k Population Per Year\", \"marker\": {\"color\": \"#0077C8\", \"size\": 10}, \"yaxis\": \"y2\", \"line\": {\"color\": \"#0077C8\", \"width\": 4}}], {\"title\": \"VicRoads Accident - Crashes by Year\", \"titlefont\": {\"family\": \"Open Sans\", \"size\": 22}, \"xaxis\": {\"title\": \"Year\", \"titlefont\": {\"family\": \"Open Sans\", \"size\": 16}}, \"yaxis\": {\"title\": \"Num. Crashes\", \"titlefont\": {\"family\": \"Open Sans\", \"size\": 16}, \"range\": [0, 15000], \"dtick\": 2500}, \"yaxis2\": {\"title\": \"Crashes per 100k Popn\", \"overlaying\": \"y\", \"side\": \"right\", \"titlefont\": {\"family\": \"Open Sans\", \"size\": 16}, \"range\": [0, 300]}, \"legend\": {\"orientation\": \"h\", \"x\": 0.24, \"y\": 1.1}}, {\"showLink\": true, \"linkText\": \"Export to plot.ly\"})});</script>"
      ],
      "text/vnd.plotly.v1+html": [
       "<div id=\"bc4183c6-fd85-4691-9943-e2889036f132\" style=\"height: 525px; width: 100%;\" class=\"plotly-graph-div\"></div><script type=\"text/javascript\">require([\"plotly\"], function(Plotly) { window.PLOTLYENV=window.PLOTLYENV || {};window.PLOTLYENV.BASE_URL=\"https://plot.ly\";Plotly.newPlot(\"bc4183c6-fd85-4691-9943-e2889036f132\", [{\"type\": \"bar\", \"x\": [2007, 2008, 2009, 2010, 2011, 2012, 2013, 2014, 2015, 2016], \"y\": [12980, 13494, 13097, 12842, 12762, 12925, 13001, 13289, 13360, 12858], \"name\": \"Crashes per Year\", \"marker\": {\"color\": \"#ee2737\"}}, {\"type\": \"scatter\", \"y\": [251.0, 256.0, 243.0, 235.0, 230.0, 228.0, 224.0, 224.0, 221.0, 208.0], \"x\": [2007, 2008, 2009, 2010, 2011, 2012, 2013, 2014, 2015, 2016], \"name\": \"Crashes Per 100k Population Per Year\", \"marker\": {\"color\": \"#0077C8\", \"size\": 10}, \"yaxis\": \"y2\", \"line\": {\"color\": \"#0077C8\", \"width\": 4}}], {\"title\": \"VicRoads Accident - Crashes by Year\", \"titlefont\": {\"family\": \"Open Sans\", \"size\": 22}, \"xaxis\": {\"title\": \"Year\", \"titlefont\": {\"family\": \"Open Sans\", \"size\": 16}}, \"yaxis\": {\"title\": \"Num. Crashes\", \"titlefont\": {\"family\": \"Open Sans\", \"size\": 16}, \"range\": [0, 15000], \"dtick\": 2500}, \"yaxis2\": {\"title\": \"Crashes per 100k Popn\", \"overlaying\": \"y\", \"side\": \"right\", \"titlefont\": {\"family\": \"Open Sans\", \"size\": 16}, \"range\": [0, 300]}, \"legend\": {\"orientation\": \"h\", \"x\": 0.24, \"y\": 1.1}}, {\"showLink\": true, \"linkText\": \"Export to plot.ly\"})});</script>"
      ]
     },
     "metadata": {},
     "output_type": "display_data"
    }
   ],
   "source": [
    "py.iplot(figure7, filename='figure7')\n",
    "#pyonline.image.ishow(figure7, width=1500, height=750)"
   ]
  },
  {
   "cell_type": "markdown",
   "metadata": {},
   "source": [
    "## Accidents by Location\n",
    "\n",
    "Below we work through some analysis of accidents by local government area"
   ]
  },
  {
   "cell_type": "code",
   "execution_count": 97,
   "metadata": {},
   "outputs": [
    {
     "name": "stdout",
     "output_type": "stream",
     "text": [
      "    ACCIDENT_NO ACCIDENTDATE ACCIDENTTIME  ACCIDENT_TYPE  \\\n",
      "0  T20070000004    1/01/2007     02.55.00              4   \n",
      "\n",
      "              Accident Type Desc  DAY_OF_WEEK Day Week Description  DCA_CODE  \\\n",
      "0  Collision with a fixed object            2               Monday       171   \n",
      "\n",
      "                                     DCA Description DIRECTORY     ...       \\\n",
      "0  LEFT OFF CARRIAGEWAY INTO OBJECT/PARKED VEHICL...       VCS     ...        \n",
      "\n",
      "   NODE_TYPE        AMG_X        AMG_Y  LGA_NAME  Lga Name All  \\\n",
      "0          N  2477943.291  2596972.868  CAMPASPE      CAMPASPE   \n",
      "\n",
      "       Region Name           Deg Urban Name       Lat       Long  Postcode No  \n",
      "0  NORTHERN REGION  Small Provincial Cities -36.12578  144.75497       3564.0  \n",
      "\n",
      "[1 rows x 43 columns]\n"
     ]
    }
   ],
   "source": [
    "df_node = pd.read_csv(\n",
    "    'vicroads_data/ACCIDENT/NODE.csv', # file name and path\n",
    "    sep=','#, # separated by commas\n",
    "    #index_col=0, # first column should be primary key\n",
    "    #low_memory = False\n",
    ")\n",
    "\n",
    "# filter out all values in the LGA_NAME column that don't represent LGAs\n",
    "# read valid lga list\n",
    "valid_lgas = pd.read_csv(\n",
    "    'vic_lgas.csv',\n",
    "    names=['LGA']                        \n",
    ")\n",
    "\n",
    "# make upper case to match vicroads data\n",
    "valid_lgas['LGA'] = valid_lgas['LGA'].str.upper()\n",
    "\n",
    "# convert to a list\n",
    "valid_lgas = valid_lgas['LGA'].values.tolist()\n",
    "\n",
    "# normalise LGA names\n",
    "df_node['LGA_NAME'].replace('DANDENONG', 'GREATER DANDENONG',inplace=True)\n",
    "df_node['LGA_NAME'].replace('GEELONG', 'GREATER GEELONG',inplace=True)\n",
    "df_node['LGA_NAME'].replace('COLAC OTWAY', 'COLAC-OTWAY',inplace=True)\n",
    "df_node['LGA_NAME'].replace('SHEPPARTON', 'GREATER SHEPPARTON',inplace=True)\n",
    "df_node['LGA_NAME'].replace('BENDIGO', 'GREATER BENDIGO',inplace=True)\n",
    "\n",
    "# filter where name not in list\n",
    "df_node = df_node[df_node['LGA_NAME'].isin(valid_lgas)]\n",
    "\n",
    "# merge node columns onto limited dataset\n",
    "df_tmp = df_accident_mod.reset_index()\n",
    "df_accident_node = pd.merge(df_tmp, df_node, on='ACCIDENT_NO', how='left')\n",
    "\n",
    "print(df_accident_node.head(1))"
   ]
  },
  {
   "cell_type": "markdown",
   "metadata": {},
   "source": [
    "count all accidents by LGA"
   ]
  },
  {
   "cell_type": "code",
   "execution_count": 98,
   "metadata": {},
   "outputs": [],
   "source": [
    "# group by hour by severity\n",
    "accidents_by_lga =  df_accident_node.groupby(['LGA_NAME']).size()\n",
    "\n",
    "# reset index and name the new column count\n",
    "accidents_by_lga = accidents_by_lga.reset_index(name=\"count\")"
   ]
  },
  {
   "cell_type": "markdown",
   "metadata": {},
   "source": [
    "### The LGAs with the highest accident rates:"
   ]
  },
  {
   "cell_type": "code",
   "execution_count": 99,
   "metadata": {},
   "outputs": [
    {
     "data": {
      "text/html": [
       "<div>\n",
       "<style>\n",
       "    .dataframe thead tr:only-child th {\n",
       "        text-align: right;\n",
       "    }\n",
       "\n",
       "    .dataframe thead th {\n",
       "        text-align: left;\n",
       "    }\n",
       "\n",
       "    .dataframe tbody tr th {\n",
       "        vertical-align: top;\n",
       "    }\n",
       "</style>\n",
       "<table border=\"1\" class=\"dataframe\">\n",
       "  <thead>\n",
       "    <tr style=\"text-align: right;\">\n",
       "      <th></th>\n",
       "      <th>LGA_NAME</th>\n",
       "      <th>count</th>\n",
       "    </tr>\n",
       "  </thead>\n",
       "  <tbody>\n",
       "    <tr>\n",
       "      <th>43</th>\n",
       "      <td>MELBOURNE</td>\n",
       "      <td>8430</td>\n",
       "    </tr>\n",
       "    <tr>\n",
       "      <th>13</th>\n",
       "      <td>CASEY</td>\n",
       "      <td>5348</td>\n",
       "    </tr>\n",
       "    <tr>\n",
       "      <th>26</th>\n",
       "      <td>GREATER GEELONG</td>\n",
       "      <td>4673</td>\n",
       "    </tr>\n",
       "    <tr>\n",
       "      <th>25</th>\n",
       "      <td>GREATER DANDENONG</td>\n",
       "      <td>4577</td>\n",
       "    </tr>\n",
       "    <tr>\n",
       "      <th>9</th>\n",
       "      <td>BRIMBANK</td>\n",
       "      <td>4257</td>\n",
       "    </tr>\n",
       "  </tbody>\n",
       "</table>\n",
       "</div>"
      ],
      "text/plain": [
       "             LGA_NAME  count\n",
       "43          MELBOURNE   8430\n",
       "13              CASEY   5348\n",
       "26    GREATER GEELONG   4673\n",
       "25  GREATER DANDENONG   4577\n",
       "9            BRIMBANK   4257"
      ]
     },
     "execution_count": 99,
     "metadata": {},
     "output_type": "execute_result"
    }
   ],
   "source": [
    "accidents_by_lga.nlargest(5,'count')"
   ]
  },
  {
   "cell_type": "markdown",
   "metadata": {},
   "source": [
    "### And the least:"
   ]
  },
  {
   "cell_type": "code",
   "execution_count": 100,
   "metadata": {},
   "outputs": [
    {
     "data": {
      "text/html": [
       "<div>\n",
       "<style>\n",
       "    .dataframe thead tr:only-child th {\n",
       "        text-align: right;\n",
       "    }\n",
       "\n",
       "    .dataframe thead th {\n",
       "        text-align: left;\n",
       "    }\n",
       "\n",
       "    .dataframe tbody tr th {\n",
       "        vertical-align: top;\n",
       "    }\n",
       "</style>\n",
       "<table border=\"1\" class=\"dataframe\">\n",
       "  <thead>\n",
       "    <tr style=\"text-align: right;\">\n",
       "      <th></th>\n",
       "      <th>LGA_NAME</th>\n",
       "      <th>count</th>\n",
       "    </tr>\n",
       "  </thead>\n",
       "  <tbody>\n",
       "    <tr>\n",
       "      <th>60</th>\n",
       "      <td>QUEENSCLIFFE</td>\n",
       "      <td>24</td>\n",
       "    </tr>\n",
       "    <tr>\n",
       "      <th>78</th>\n",
       "      <td>YARRIAMBIACK</td>\n",
       "      <td>103</td>\n",
       "    </tr>\n",
       "    <tr>\n",
       "      <th>29</th>\n",
       "      <td>HINDMARSH</td>\n",
       "      <td>120</td>\n",
       "    </tr>\n",
       "    <tr>\n",
       "      <th>71</th>\n",
       "      <td>WEST WIMMERA</td>\n",
       "      <td>121</td>\n",
       "    </tr>\n",
       "    <tr>\n",
       "      <th>10</th>\n",
       "      <td>BULOKE</td>\n",
       "      <td>155</td>\n",
       "    </tr>\n",
       "  </tbody>\n",
       "</table>\n",
       "</div>"
      ],
      "text/plain": [
       "        LGA_NAME  count\n",
       "60  QUEENSCLIFFE     24\n",
       "78  YARRIAMBIACK    103\n",
       "29     HINDMARSH    120\n",
       "71  WEST WIMMERA    121\n",
       "10        BULOKE    155"
      ]
     },
     "execution_count": 100,
     "metadata": {},
     "output_type": "execute_result"
    }
   ],
   "source": [
    "accidents_by_lga.nsmallest(5,'count')"
   ]
  },
  {
   "cell_type": "markdown",
   "metadata": {},
   "source": [
    "The finding that the least occured in Queenscliffe over this period should be fairly unsurprising, as at the 2016 Census, the Borough of Queenscliffe had only 2,853 residents!"
   ]
  },
  {
   "cell_type": "markdown",
   "metadata": {},
   "source": [
    "### Number of accidents versus population by LGA\n",
    "\n",
    "Obviously the above counts don't account for the size difference between places - many more people live in and drive through the City of Greater Geelong than do West Wimmera Shire.\n",
    "\n",
    "Below, for each LGA, we calculate the proportion of crashes that happened per 100,000 residents as at the 2016 census. To make this number 'annual', we divide the result by 9.\n",
    "\n",
    "This doesn't account for the boundary changes that may have happened to LGAs in that time."
   ]
  },
  {
   "cell_type": "code",
   "execution_count": 102,
   "metadata": {
    "collapsed": true
   },
   "outputs": [],
   "source": [
    "df_lga_population = pd.read_csv(\n",
    "    'abs_data/popn_by_lga_vic_census_2016.csv',\n",
    "    names = ['LGA_NAME','popn'],\n",
    "    skiprows=1 # first row is names, which we're setting manually\n",
    ")\n",
    "\n",
    "# make upper case to match vicroads data\n",
    "df_lga_population['LGA_NAME'] = df_lga_population['LGA_NAME'].str.upper()\n",
    "\n",
    "# merge into new data frame\n",
    "accidents_by_lga_with_popn = pd.merge(accidents_by_lga, df_lga_population, on='LGA_NAME', how='left')\n",
    "\n",
    "# rate per popn\n",
    "accidents_by_lga_with_popn['crashes_per_100k_per_year'] = round(\n",
    "    100000 * (\n",
    "        accidents_by_lga_with_popn['count']/accidents_by_lga_with_popn['popn']/9\n",
    "    ),0\n",
    ")"
   ]
  },
  {
   "cell_type": "code",
   "execution_count": 105,
   "metadata": {
    "collapsed": true
   },
   "outputs": [],
   "source": [
    "seriesLGAPopnVsCrashesPer100K = go.Scatter(\n",
    "    y = accidents_by_lga_with_popn['crashes_per_100k_per_year'],\n",
    "    x = accidents_by_lga_with_popn['popn'],\n",
    "    name = 'Crashes Per 100k Population vs. Population',\n",
    "    mode = 'markers',\n",
    "    text= accidents_by_lga_with_popn['LGA_NAME']\n",
    ")\n",
    "\n",
    "layout = go.Layout(\n",
    "    title = 'VicRoads Accident - Accidents per 100,000 people vs. 2016 population',\n",
    "    titlefont=dict(\n",
    "            family='Open Sans',\n",
    "            size=22\n",
    "    ),\n",
    "    xaxis=dict(\n",
    "        title = '2016 Population',\n",
    "        titlefont=dict(\n",
    "            family='Open Sans',\n",
    "            size=16\n",
    "        )\n",
    "    ),\n",
    "    yaxis = dict(\n",
    "        title = 'Accidents per 100,000 people',\n",
    "        titlefont=dict(\n",
    "            family='Open Sans',\n",
    "            size=16\n",
    "        )\n",
    "    ),\n",
    "    legend=dict(\n",
    "        orientation=\"h\",\n",
    "        x=.24,\n",
    "        y=1.1\n",
    "    ),\n",
    "    annotations=[\n",
    "        dict(\n",
    "            x=135959,\n",
    "            y=689,\n",
    "            xref='x',\n",
    "            yref='y',\n",
    "            text='Melbourne LGA',\n",
    "            showarrow=True,\n",
    "            arrowhead=2,\n",
    "            arrowsize=1,\n",
    "            arrowwidth=1.5,\n",
    "            ax=0,\n",
    "            ay=-40\n",
    "        ),\n",
    "        dict(\n",
    "            x=86675,\n",
    "            y=397,\n",
    "            xref='x',\n",
    "            yref='y',\n",
    "            text='Yarra LGA',\n",
    "            showarrow=True,\n",
    "            arrowhead=2,\n",
    "            arrowsize=1,\n",
    "            arrowwidth=1.5,\n",
    "            ax=0,\n",
    "            ay=-40\n",
    "        )\n",
    "    ]\n",
    ")\n",
    "\n",
    "data = [seriesLGAPopnVsCrashesPer100K]\n",
    "\n",
    "figure8 = go.Figure(data=data, layout=layout)"
   ]
  },
  {
   "cell_type": "markdown",
   "metadata": {},
   "source": [
    "### LGAs with less people have more accidents per person\n",
    "\n",
    "* This is likely acting as a proxy for 'Country or not', and would align with the hypothesis that country roads are more dangerous than city roads\n",
    "* What's going on with Melbourne and Yarra LGAs?\n",
    "    * Is it perhaps the case minor accidents are more likely to be reported in the city?"
   ]
  },
  {
   "cell_type": "code",
   "execution_count": 106,
   "metadata": {},
   "outputs": [
    {
     "data": {
      "application/vnd.plotly.v1+json": {
       "data": [
        {
         "mode": "markers",
         "name": "Crashes Per 100k Population vs. Population",
         "text": [
          "ALPINE",
          "ARARAT",
          "BALLARAT",
          "BANYULE",
          "BASS COAST",
          "BAW BAW",
          "BAYSIDE",
          "BENALLA",
          "BOROONDARA",
          "BRIMBANK",
          "BULOKE",
          "CAMPASPE",
          "CARDINIA",
          "CASEY",
          "CENTRAL GOLDFIELDS",
          "COLAC-OTWAY",
          "CORANGAMITE",
          "DAREBIN",
          "EAST GIPPSLAND",
          "FRANKSTON",
          "GANNAWARRA",
          "GLEN EIRA",
          "GLENELG",
          "GOLDEN PLAINS",
          "GREATER BENDIGO",
          "GREATER DANDENONG",
          "GREATER GEELONG",
          "GREATER SHEPPARTON",
          "HEPBURN",
          "HINDMARSH",
          "HOBSONS BAY",
          "HORSHAM",
          "HUME",
          "INDIGO",
          "KINGSTON",
          "KNOX",
          "LATROBE",
          "LODDON",
          "MACEDON RANGES",
          "MANNINGHAM",
          "MANSFIELD",
          "MARIBYRNONG",
          "MAROONDAH",
          "MELBOURNE",
          "MELTON",
          "MILDURA",
          "MITCHELL",
          "MOIRA",
          "MONASH",
          "MOONEE VALLEY",
          "MOORABOOL",
          "MORELAND",
          "MORNINGTON PENINSULA",
          "MOUNT ALEXANDER",
          "MOYNE",
          "MURRINDINDI",
          "NILLUMBIK",
          "NORTHERN GRAMPIANS",
          "PORT PHILLIP",
          "PYRENEES",
          "QUEENSCLIFFE",
          "SOUTH GIPPSLAND",
          "SOUTHERN GRAMPIANS",
          "STONNINGTON",
          "STRATHBOGIE",
          "SURF COAST",
          "SWAN HILL",
          "TOWONG",
          "WANGARATTA",
          "WARRNAMBOOL",
          "WELLINGTON",
          "WEST WIMMERA",
          "WHITEHORSE",
          "WHITTLESEA",
          "WODONGA",
          "WYNDHAM",
          "YARRA",
          "YARRA RANGES",
          "YARRIAMBIACK"
         ],
         "type": "scatter",
         "x": [
          12337,
          11600,
          101686,
          121865,
          32804,
          48479,
          97087,
          13861,
          167231,
          194319,
          6201,
          37061,
          94128,
          299301,
          12995,
          20972,
          16051,
          146719,
          45040,
          134143,
          10549,
          140875,
          19557,
          21688,
          110477,
          152050,
          233429,
          63837,
          15330,
          5721,
          88778,
          19642,
          197376,
          15952,
          151389,
          154110,
          73257,
          7516,
          46100,
          116255,
          8584,
          82288,
          110376,
          135959,
          135443,
          53878,
          40918,
          29112,
          182618,
          116671,
          31818,
          162558,
          154999,
          18761,
          16495,
          13732,
          61273,
          11439,
          100863,
          7238,
          2853,
          28703,
          15944,
          103832,
          10274,
          29397,
          20584,
          5985,
          28310,
          33655,
          42983,
          3903,
          162078,
          197491,
          39351,
          217122,
          86657,
          149537,
          6674
         ],
         "y": [
          431,
          270,
          265,
          182,
          266,
          327,
          213,
          310,
          235,
          243,
          278,
          257,
          240,
          199,
          252,
          414,
          330,
          253,
          329,
          215,
          261,
          214,
          273,
          245,
          260,
          334,
          222,
          281,
          296,
          233,
          224,
          248,
          216,
          286,
          239,
          212,
          249,
          415,
          228,
          160,
          577,
          246,
          215,
          689,
          159,
          236,
          308,
          236,
          231,
          203,
          278,
          266,
          227,
          276,
          297,
          660,
          212,
          297,
          301,
          413,
          93,
          366,
          243,
          310,
          501,
          273,
          227,
          507,
          243,
          187,
          292,
          344,
          185,
          178,
          175,
          138,
          397,
          289,
          171
         ]
        }
       ],
       "layout": {
        "annotations": [
         {
          "arrowhead": 2,
          "arrowsize": 1,
          "arrowwidth": 1.5,
          "ax": 0,
          "ay": -40,
          "showarrow": true,
          "text": "Melbourne LGA",
          "x": 135959,
          "xref": "x",
          "y": 689,
          "yref": "y"
         },
         {
          "arrowhead": 2,
          "arrowsize": 1,
          "arrowwidth": 1.5,
          "ax": 0,
          "ay": -40,
          "showarrow": true,
          "text": "Yarra LGA",
          "x": 86675,
          "xref": "x",
          "y": 397,
          "yref": "y"
         }
        ],
        "legend": {
         "orientation": "h",
         "x": 0.24,
         "y": 1.1
        },
        "title": "VicRoads Accident - Accidents per 100,000 people vs. 2016 population",
        "titlefont": {
         "family": "Open Sans",
         "size": 22
        },
        "xaxis": {
         "title": "2016 Population",
         "titlefont": {
          "family": "Open Sans",
          "size": 16
         }
        },
        "yaxis": {
         "title": "Accidents per 100,000 people",
         "titlefont": {
          "family": "Open Sans",
          "size": 16
         }
        }
       }
      },
      "text/html": [
       "<div id=\"0966e268-3c5d-4eab-a1ef-64899a947451\" style=\"height: 525px; width: 100%;\" class=\"plotly-graph-div\"></div><script type=\"text/javascript\">require([\"plotly\"], function(Plotly) { window.PLOTLYENV=window.PLOTLYENV || {};window.PLOTLYENV.BASE_URL=\"https://plot.ly\";Plotly.newPlot(\"0966e268-3c5d-4eab-a1ef-64899a947451\", [{\"type\": \"scatter\", \"y\": [431.0, 270.0, 265.0, 182.0, 266.0, 327.0, 213.0, 310.0, 235.0, 243.0, 278.0, 257.0, 240.0, 199.0, 252.0, 414.0, 330.0, 253.0, 329.0, 215.0, 261.0, 214.0, 273.0, 245.0, 260.0, 334.0, 222.0, 281.0, 296.0, 233.0, 224.0, 248.0, 216.0, 286.0, 239.0, 212.0, 249.0, 415.0, 228.0, 160.0, 577.0, 246.0, 215.0, 689.0, 159.0, 236.0, 308.0, 236.0, 231.0, 203.0, 278.0, 266.0, 227.0, 276.0, 297.0, 660.0, 212.0, 297.0, 301.0, 413.0, 93.0, 366.0, 243.0, 310.0, 501.0, 273.0, 227.0, 507.0, 243.0, 187.0, 292.0, 344.0, 185.0, 178.0, 175.0, 138.0, 397.0, 289.0, 171.0], \"x\": [12337, 11600, 101686, 121865, 32804, 48479, 97087, 13861, 167231, 194319, 6201, 37061, 94128, 299301, 12995, 20972, 16051, 146719, 45040, 134143, 10549, 140875, 19557, 21688, 110477, 152050, 233429, 63837, 15330, 5721, 88778, 19642, 197376, 15952, 151389, 154110, 73257, 7516, 46100, 116255, 8584, 82288, 110376, 135959, 135443, 53878, 40918, 29112, 182618, 116671, 31818, 162558, 154999, 18761, 16495, 13732, 61273, 11439, 100863, 7238, 2853, 28703, 15944, 103832, 10274, 29397, 20584, 5985, 28310, 33655, 42983, 3903, 162078, 197491, 39351, 217122, 86657, 149537, 6674], \"name\": \"Crashes Per 100k Population vs. Population\", \"mode\": \"markers\", \"text\": [\"ALPINE\", \"ARARAT\", \"BALLARAT\", \"BANYULE\", \"BASS COAST\", \"BAW BAW\", \"BAYSIDE\", \"BENALLA\", \"BOROONDARA\", \"BRIMBANK\", \"BULOKE\", \"CAMPASPE\", \"CARDINIA\", \"CASEY\", \"CENTRAL GOLDFIELDS\", \"COLAC-OTWAY\", \"CORANGAMITE\", \"DAREBIN\", \"EAST GIPPSLAND\", \"FRANKSTON\", \"GANNAWARRA\", \"GLEN EIRA\", \"GLENELG\", \"GOLDEN PLAINS\", \"GREATER BENDIGO\", \"GREATER DANDENONG\", \"GREATER GEELONG\", \"GREATER SHEPPARTON\", \"HEPBURN\", \"HINDMARSH\", \"HOBSONS BAY\", \"HORSHAM\", \"HUME\", \"INDIGO\", \"KINGSTON\", \"KNOX\", \"LATROBE\", \"LODDON\", \"MACEDON RANGES\", \"MANNINGHAM\", \"MANSFIELD\", \"MARIBYRNONG\", \"MAROONDAH\", \"MELBOURNE\", \"MELTON\", \"MILDURA\", \"MITCHELL\", \"MOIRA\", \"MONASH\", \"MOONEE VALLEY\", \"MOORABOOL\", \"MORELAND\", \"MORNINGTON PENINSULA\", \"MOUNT ALEXANDER\", \"MOYNE\", \"MURRINDINDI\", \"NILLUMBIK\", \"NORTHERN GRAMPIANS\", \"PORT PHILLIP\", \"PYRENEES\", \"QUEENSCLIFFE\", \"SOUTH GIPPSLAND\", \"SOUTHERN GRAMPIANS\", \"STONNINGTON\", \"STRATHBOGIE\", \"SURF COAST\", \"SWAN HILL\", \"TOWONG\", \"WANGARATTA\", \"WARRNAMBOOL\", \"WELLINGTON\", \"WEST WIMMERA\", \"WHITEHORSE\", \"WHITTLESEA\", \"WODONGA\", \"WYNDHAM\", \"YARRA\", \"YARRA RANGES\", \"YARRIAMBIACK\"]}], {\"title\": \"VicRoads Accident - Accidents per 100,000 people vs. 2016 population\", \"titlefont\": {\"family\": \"Open Sans\", \"size\": 22}, \"xaxis\": {\"title\": \"2016 Population\", \"titlefont\": {\"family\": \"Open Sans\", \"size\": 16}}, \"yaxis\": {\"title\": \"Accidents per 100,000 people\", \"titlefont\": {\"family\": \"Open Sans\", \"size\": 16}}, \"legend\": {\"orientation\": \"h\", \"x\": 0.24, \"y\": 1.1}, \"annotations\": [{\"x\": 135959, \"y\": 689, \"xref\": \"x\", \"yref\": \"y\", \"text\": \"Melbourne LGA\", \"showarrow\": true, \"arrowhead\": 2, \"arrowsize\": 1, \"arrowwidth\": 1.5, \"ax\": 0, \"ay\": -40}, {\"x\": 86675, \"y\": 397, \"xref\": \"x\", \"yref\": \"y\", \"text\": \"Yarra LGA\", \"showarrow\": true, \"arrowhead\": 2, \"arrowsize\": 1, \"arrowwidth\": 1.5, \"ax\": 0, \"ay\": -40}]}, {\"showLink\": true, \"linkText\": \"Export to plot.ly\"})});</script>"
      ],
      "text/vnd.plotly.v1+html": [
       "<div id=\"0966e268-3c5d-4eab-a1ef-64899a947451\" style=\"height: 525px; width: 100%;\" class=\"plotly-graph-div\"></div><script type=\"text/javascript\">require([\"plotly\"], function(Plotly) { window.PLOTLYENV=window.PLOTLYENV || {};window.PLOTLYENV.BASE_URL=\"https://plot.ly\";Plotly.newPlot(\"0966e268-3c5d-4eab-a1ef-64899a947451\", [{\"type\": \"scatter\", \"y\": [431.0, 270.0, 265.0, 182.0, 266.0, 327.0, 213.0, 310.0, 235.0, 243.0, 278.0, 257.0, 240.0, 199.0, 252.0, 414.0, 330.0, 253.0, 329.0, 215.0, 261.0, 214.0, 273.0, 245.0, 260.0, 334.0, 222.0, 281.0, 296.0, 233.0, 224.0, 248.0, 216.0, 286.0, 239.0, 212.0, 249.0, 415.0, 228.0, 160.0, 577.0, 246.0, 215.0, 689.0, 159.0, 236.0, 308.0, 236.0, 231.0, 203.0, 278.0, 266.0, 227.0, 276.0, 297.0, 660.0, 212.0, 297.0, 301.0, 413.0, 93.0, 366.0, 243.0, 310.0, 501.0, 273.0, 227.0, 507.0, 243.0, 187.0, 292.0, 344.0, 185.0, 178.0, 175.0, 138.0, 397.0, 289.0, 171.0], \"x\": [12337, 11600, 101686, 121865, 32804, 48479, 97087, 13861, 167231, 194319, 6201, 37061, 94128, 299301, 12995, 20972, 16051, 146719, 45040, 134143, 10549, 140875, 19557, 21688, 110477, 152050, 233429, 63837, 15330, 5721, 88778, 19642, 197376, 15952, 151389, 154110, 73257, 7516, 46100, 116255, 8584, 82288, 110376, 135959, 135443, 53878, 40918, 29112, 182618, 116671, 31818, 162558, 154999, 18761, 16495, 13732, 61273, 11439, 100863, 7238, 2853, 28703, 15944, 103832, 10274, 29397, 20584, 5985, 28310, 33655, 42983, 3903, 162078, 197491, 39351, 217122, 86657, 149537, 6674], \"name\": \"Crashes Per 100k Population vs. Population\", \"mode\": \"markers\", \"text\": [\"ALPINE\", \"ARARAT\", \"BALLARAT\", \"BANYULE\", \"BASS COAST\", \"BAW BAW\", \"BAYSIDE\", \"BENALLA\", \"BOROONDARA\", \"BRIMBANK\", \"BULOKE\", \"CAMPASPE\", \"CARDINIA\", \"CASEY\", \"CENTRAL GOLDFIELDS\", \"COLAC-OTWAY\", \"CORANGAMITE\", \"DAREBIN\", \"EAST GIPPSLAND\", \"FRANKSTON\", \"GANNAWARRA\", \"GLEN EIRA\", \"GLENELG\", \"GOLDEN PLAINS\", \"GREATER BENDIGO\", \"GREATER DANDENONG\", \"GREATER GEELONG\", \"GREATER SHEPPARTON\", \"HEPBURN\", \"HINDMARSH\", \"HOBSONS BAY\", \"HORSHAM\", \"HUME\", \"INDIGO\", \"KINGSTON\", \"KNOX\", \"LATROBE\", \"LODDON\", \"MACEDON RANGES\", \"MANNINGHAM\", \"MANSFIELD\", \"MARIBYRNONG\", \"MAROONDAH\", \"MELBOURNE\", \"MELTON\", \"MILDURA\", \"MITCHELL\", \"MOIRA\", \"MONASH\", \"MOONEE VALLEY\", \"MOORABOOL\", \"MORELAND\", \"MORNINGTON PENINSULA\", \"MOUNT ALEXANDER\", \"MOYNE\", \"MURRINDINDI\", \"NILLUMBIK\", \"NORTHERN GRAMPIANS\", \"PORT PHILLIP\", \"PYRENEES\", \"QUEENSCLIFFE\", \"SOUTH GIPPSLAND\", \"SOUTHERN GRAMPIANS\", \"STONNINGTON\", \"STRATHBOGIE\", \"SURF COAST\", \"SWAN HILL\", \"TOWONG\", \"WANGARATTA\", \"WARRNAMBOOL\", \"WELLINGTON\", \"WEST WIMMERA\", \"WHITEHORSE\", \"WHITTLESEA\", \"WODONGA\", \"WYNDHAM\", \"YARRA\", \"YARRA RANGES\", \"YARRIAMBIACK\"]}], {\"title\": \"VicRoads Accident - Accidents per 100,000 people vs. 2016 population\", \"titlefont\": {\"family\": \"Open Sans\", \"size\": 22}, \"xaxis\": {\"title\": \"2016 Population\", \"titlefont\": {\"family\": \"Open Sans\", \"size\": 16}}, \"yaxis\": {\"title\": \"Accidents per 100,000 people\", \"titlefont\": {\"family\": \"Open Sans\", \"size\": 16}}, \"legend\": {\"orientation\": \"h\", \"x\": 0.24, \"y\": 1.1}, \"annotations\": [{\"x\": 135959, \"y\": 689, \"xref\": \"x\", \"yref\": \"y\", \"text\": \"Melbourne LGA\", \"showarrow\": true, \"arrowhead\": 2, \"arrowsize\": 1, \"arrowwidth\": 1.5, \"ax\": 0, \"ay\": -40}, {\"x\": 86675, \"y\": 397, \"xref\": \"x\", \"yref\": \"y\", \"text\": \"Yarra LGA\", \"showarrow\": true, \"arrowhead\": 2, \"arrowsize\": 1, \"arrowwidth\": 1.5, \"ax\": 0, \"ay\": -40}]}, {\"showLink\": true, \"linkText\": \"Export to plot.ly\"})});</script>"
      ]
     },
     "metadata": {},
     "output_type": "display_data"
    }
   ],
   "source": [
    "py.iplot(figure8, filename='figure8')\n",
    "#pyonline.image.ishow(figure8, width=1500, height=750)"
   ]
  },
  {
   "cell_type": "markdown",
   "metadata": {},
   "source": [
    "### Are Melbourne and Yarra disproportionately likely to have minor accidents?\n"
   ]
  },
  {
   "cell_type": "code",
   "execution_count": 311,
   "metadata": {},
   "outputs": [],
   "source": [
    "# group by both lga and severity\n",
    "accidents_by_lga_by_severity = df_accident_node.groupby(\n",
    "    ['LGA_NAME','SEVERITY']\n",
    ").size()\n",
    "\n",
    "# work out % of lga accidents\n",
    "accidents_by_lga_by_severity_pc = accidents_by_lga_by_severity.groupby(level=0).apply(\n",
    "    lambda x:round( 100 * x / float(x.sum()),2)\n",
    ")\n",
    "\n",
    "accidents_by_lga_by_severity_pc = accidents_by_lga_by_severity_pc.reset_index(name = 'pc')\n",
    "\n",
    "# limit to just minor\n",
    "accidents_by_lga_by_severity_minor = accidents_by_lga_by_severity_pc[accidents_by_lga_by_severity_pc['SEVERITY'] == 3]\n",
    "\n",
    "# delete severity column\n",
    "del accidents_by_lga_by_severity_minor['SEVERITY']\n",
    "\n",
    "# sort by pc\n",
    "accidents_by_lga_by_severity_minor = accidents_by_lga_by_severity_minor.sort_values(by='pc', ascending=True)\n",
    "\n",
    "# make lower case\n",
    "# run on the lga column of our df, add to new column\n",
    "accidents_by_lga_by_severity_minor['LGA_NAME'] = accidents_by_lga_by_severity_minor['LGA_NAME'].apply(\n",
    "    lambda x: x.title()\n",
    ")\n",
    "\n",
    "# rank by % minor\n",
    "accidents_by_lga_by_severity_minor['rank'] = accidents_by_lga_by_severity_minor['pc'].rank(ascending=0)"
   ]
  },
  {
   "cell_type": "markdown",
   "metadata": {},
   "source": [
    "### Not really, Melbourne and Yarra rank 10th and 11th for minor accidents:"
   ]
  },
  {
   "cell_type": "code",
   "execution_count": 294,
   "metadata": {},
   "outputs": [
    {
     "data": {
      "text/html": [
       "<div>\n",
       "<style>\n",
       "    .dataframe thead tr:only-child th {\n",
       "        text-align: right;\n",
       "    }\n",
       "\n",
       "    .dataframe thead th {\n",
       "        text-align: left;\n",
       "    }\n",
       "\n",
       "    .dataframe tbody tr th {\n",
       "        vertical-align: top;\n",
       "    }\n",
       "</style>\n",
       "<table border=\"1\" class=\"dataframe\">\n",
       "  <thead>\n",
       "    <tr style=\"text-align: right;\">\n",
       "      <th></th>\n",
       "      <th>LGA_NAME</th>\n",
       "      <th>pc</th>\n",
       "      <th>rank</th>\n",
       "    </tr>\n",
       "  </thead>\n",
       "  <tbody>\n",
       "    <tr>\n",
       "      <th>149</th>\n",
       "      <td>Moonee Valley</td>\n",
       "      <td>71.10</td>\n",
       "      <td>1.0</td>\n",
       "    </tr>\n",
       "    <tr>\n",
       "      <th>8</th>\n",
       "      <td>Ballarat</td>\n",
       "      <td>70.83</td>\n",
       "      <td>2.0</td>\n",
       "    </tr>\n",
       "    <tr>\n",
       "      <th>95</th>\n",
       "      <td>Horsham</td>\n",
       "      <td>70.39</td>\n",
       "      <td>3.0</td>\n",
       "    </tr>\n",
       "    <tr>\n",
       "      <th>192</th>\n",
       "      <td>Stonnington</td>\n",
       "      <td>70.22</td>\n",
       "      <td>4.0</td>\n",
       "    </tr>\n",
       "    <tr>\n",
       "      <th>155</th>\n",
       "      <td>Moreland</td>\n",
       "      <td>69.65</td>\n",
       "      <td>5.0</td>\n",
       "    </tr>\n",
       "    <tr>\n",
       "      <th>11</th>\n",
       "      <td>Banyule</td>\n",
       "      <td>69.26</td>\n",
       "      <td>6.0</td>\n",
       "    </tr>\n",
       "    <tr>\n",
       "      <th>53</th>\n",
       "      <td>Darebin</td>\n",
       "      <td>68.49</td>\n",
       "      <td>7.0</td>\n",
       "    </tr>\n",
       "    <tr>\n",
       "      <th>225</th>\n",
       "      <td>Wodonga</td>\n",
       "      <td>68.23</td>\n",
       "      <td>8.0</td>\n",
       "    </tr>\n",
       "    <tr>\n",
       "      <th>107</th>\n",
       "      <td>Knox</td>\n",
       "      <td>68.13</td>\n",
       "      <td>9.0</td>\n",
       "    </tr>\n",
       "    <tr>\n",
       "      <th>131</th>\n",
       "      <td>Melbourne</td>\n",
       "      <td>67.58</td>\n",
       "      <td>10.0</td>\n",
       "    </tr>\n",
       "    <tr>\n",
       "      <th>231</th>\n",
       "      <td>Yarra</td>\n",
       "      <td>67.44</td>\n",
       "      <td>11.0</td>\n",
       "    </tr>\n",
       "    <tr>\n",
       "      <th>128</th>\n",
       "      <td>Maroondah</td>\n",
       "      <td>67.34</td>\n",
       "      <td>12.0</td>\n",
       "    </tr>\n",
       "  </tbody>\n",
       "</table>\n",
       "</div>"
      ],
      "text/plain": [
       "          LGA_NAME     pc  rank\n",
       "149  Moonee Valley  71.10   1.0\n",
       "8         Ballarat  70.83   2.0\n",
       "95         Horsham  70.39   3.0\n",
       "192    Stonnington  70.22   4.0\n",
       "155       Moreland  69.65   5.0\n",
       "11         Banyule  69.26   6.0\n",
       "53         Darebin  68.49   7.0\n",
       "225        Wodonga  68.23   8.0\n",
       "107           Knox  68.13   9.0\n",
       "131      Melbourne  67.58  10.0\n",
       "231          Yarra  67.44  11.0\n",
       "128      Maroondah  67.34  12.0"
      ]
     },
     "execution_count": 294,
     "metadata": {},
     "output_type": "execute_result"
    }
   ],
   "source": [
    "accidents_by_lga_by_severity_minor[\n",
    "    accidents_by_lga_by_severity_minor['rank'] <= 12\n",
    "].sort_values(by='rank', ascending=True)"
   ]
  },
  {
   "cell_type": "markdown",
   "metadata": {},
   "source": [
    "### Is that higher accident rate in less populous LGAs a country thing?"
   ]
  },
  {
   "cell_type": "code",
   "execution_count": 203,
   "metadata": {},
   "outputs": [
    {
     "name": "stdout",
     "output_type": "stream",
     "text": [
      "  LGA_NAME_2011  LGA_CODE_2011              RA_NAME_2011 LGA_NAME\n",
      "0    Alpine (S)          20110  Outer Regional Australia   ALPINE\n",
      "1   Ararat (RC)          20260  Inner Regional Australia   ARARAT\n"
     ]
    }
   ],
   "source": [
    "# read from ABS Excel series\n",
    "df_remoteness = pd.read_excel(\n",
    "    'abs_data/1270055006_CG_LGA_2011_RA_2011.xls', # file name and path\n",
    "    sheetname = 'Table 3',\n",
    "    #header = 0,\n",
    "    skiprows = 7,\n",
    "    names = ['LGA_CODE_2011','LGA_NAME_2011','RA_CODE_2011','RA_NAME_2011','RATIO','PERCENTAGE']\n",
    ")\n",
    "\n",
    "# throw away values if not int (there is a copywrite logo in column A in the spreadsheet which breaks things)\n",
    "df_remoteness = df_remoteness[df_remoteness['LGA_CODE_2011'].apply(lambda x: str(x).isdigit())]\n",
    "\n",
    "# convert lga_code_2011 to int\n",
    "df_remoteness['LGA_CODE_2011'] = df_remoteness['LGA_CODE_2011'].astype(int)\n",
    "\n",
    "# remove < 20000 or >29999 (limit to vic, there is a kingston outside vic)\n",
    "df_remoteness = df_remoteness[~(df_remoteness['LGA_CODE_2011'] < 20000)]\n",
    "df_remoteness = df_remoteness[~(df_remoteness['LGA_CODE_2011'] >= 30000)]\n",
    "\n",
    "## what's the value where percentage is at its maximum?\n",
    "df_remoteness_main = df_remoteness.groupby(\n",
    "    ['LGA_NAME_2011'],\n",
    "    sort=False\n",
    ")['PERCENTAGE'].max().reset_index(name='PERCENTAGE')\n",
    "\n",
    "## merge to get a data frame of JUST maximum\n",
    "df_remoteness_main = pd.merge(\n",
    "    df_remoteness_main,\n",
    "    df_remoteness,\n",
    "    how='left',\n",
    "    on=['LGA_NAME_2011','PERCENTAGE']\n",
    ")\n",
    "\n",
    "# drop redundant columns\n",
    "del df_remoteness_main['RATIO']\n",
    "del df_remoteness_main['PERCENTAGE']\n",
    "del df_remoteness_main['RA_CODE_2011']\n",
    "\n",
    "# lambda function = return all elemnts of string to the left of the first (, -1, then make it upper case\n",
    "cleanup_lga = lambda x: x[:x.find('(')-1].upper()\n",
    "\n",
    "# run on the lga column of our df, add to new column\n",
    "df_remoteness_main['LGA_NAME'] = df_remoteness_main['LGA_NAME_2011'].apply(cleanup_lga)\n",
    "\n",
    "print(df_remoteness_main.head(2))"
   ]
  },
  {
   "cell_type": "code",
   "execution_count": 204,
   "metadata": {},
   "outputs": [
    {
     "name": "stdout",
     "output_type": "stream",
     "text": [
      "  LGA_NAME  count   popn  crashes_per_100k_per_year LGA_NAME_2011  \\\n",
      "0   ALPINE    478  12337                      431.0    Alpine (S)   \n",
      "1   ARARAT    282  11600                      270.0   Ararat (RC)   \n",
      "\n",
      "   LGA_CODE_2011              RA_NAME_2011  \n",
      "0          20110  Outer Regional Australia  \n",
      "1          20260  Inner Regional Australia  \n"
     ]
    }
   ],
   "source": [
    "accidents_by_lga_with_popn_with_remoteness = pd.merge(\n",
    "    accidents_by_lga_with_popn,\n",
    "    df_remoteness_main,\n",
    "    how='left',\n",
    "    on='LGA_NAME'\n",
    ")\n",
    "\n",
    "print(accidents_by_lga_with_popn_with_remoteness.head(2))"
   ]
  },
  {
   "cell_type": "code",
   "execution_count": 300,
   "metadata": {},
   "outputs": [],
   "source": [
    "series_cities = go.Scatter(\n",
    "    y = accidents_by_lga_with_popn_with_remoteness['crashes_per_100k_per_year']\n",
    "        [accidents_by_lga_with_popn_with_remoteness['RA_NAME_2011'] == 'Major Cities of Australia'],\n",
    "    x = accidents_by_lga_with_popn_with_remoteness['popn']\n",
    "        [accidents_by_lga_with_popn_with_remoteness['RA_NAME_2011'] == 'Major Cities of Australia'],\n",
    "    name = 'City',\n",
    "    mode = 'markers',\n",
    "    text = accidents_by_lga_with_popn_with_remoteness['LGA_NAME']\n",
    "        [accidents_by_lga_with_popn_with_remoteness['RA_NAME_2011'] == 'Major Cities of Australia'],\n",
    "    marker = dict (\n",
    "        size = 10,\n",
    "        opacity = 0.7\n",
    "    )\n",
    ")\n",
    "\n",
    "series_ira = go.Scatter(\n",
    "    y = accidents_by_lga_with_popn_with_remoteness['crashes_per_100k_per_year']\n",
    "        [accidents_by_lga_with_popn_with_remoteness['RA_NAME_2011'] == 'Inner Regional Australia'],\n",
    "    x = accidents_by_lga_with_popn_with_remoteness['popn']\n",
    "        [accidents_by_lga_with_popn_with_remoteness['RA_NAME_2011'] == 'Inner Regional Australia'],\n",
    "    name = 'Regional',\n",
    "    mode = 'markers',\n",
    "    text = accidents_by_lga_with_popn_with_remoteness['LGA_NAME']\n",
    "        [accidents_by_lga_with_popn_with_remoteness['RA_NAME_2011'] == 'Inner Regional Australia'],\n",
    "    marker = dict (\n",
    "        size = 10,\n",
    "        opacity = 0.7\n",
    "    )\n",
    ")\n",
    "\n",
    "series_ora = go.Scatter(\n",
    "    y = accidents_by_lga_with_popn_with_remoteness['crashes_per_100k_per_year']\n",
    "        [accidents_by_lga_with_popn_with_remoteness['RA_NAME_2011'] == 'Outer Regional Australia'],\n",
    "    x = accidents_by_lga_with_popn_with_remoteness['popn']\n",
    "        [accidents_by_lga_with_popn_with_remoteness['RA_NAME_2011'] == 'Outer Regional Australia'],\n",
    "    name = 'Rural',\n",
    "    mode = 'markers',\n",
    "    text = accidents_by_lga_with_popn_with_remoteness['LGA_NAME']\n",
    "        [accidents_by_lga_with_popn_with_remoteness['RA_NAME_2011'] == 'Outer Regional Australia'],\n",
    "    marker = dict (\n",
    "        size = 10,\n",
    "        opacity = 0.7\n",
    "    )\n",
    ")\n",
    "\n",
    "layout = go.Layout(\n",
    "    title = 'VicRoads Accident - Accidents per 100,000 people vs. 2016 population',\n",
    "    titlefont=dict(\n",
    "            family='Open Sans',\n",
    "            size=22\n",
    "    ),\n",
    "    xaxis=dict(\n",
    "        title = '2016 Population',\n",
    "        titlefont=dict(\n",
    "            family='Open Sans',\n",
    "            size=16\n",
    "        )\n",
    "    ),\n",
    "    yaxis = dict(\n",
    "        title = 'Accidents per 100,000 people',\n",
    "        titlefont=dict(\n",
    "            family='Open Sans',\n",
    "            size=16\n",
    "        )\n",
    "    ),\n",
    "    legend=dict(\n",
    "        orientation=\"h\",\n",
    "        x=.35,\n",
    "        y=1.1\n",
    "    ),\n",
    "    annotations=[\n",
    "        dict(\n",
    "            x=101686,\n",
    "            y=265,\n",
    "            xref='x',\n",
    "            yref='y',\n",
    "            text='Ballarat',\n",
    "            showarrow=True,\n",
    "            arrowhead=2,\n",
    "            arrowsize=1,\n",
    "            arrowwidth=1.5,\n",
    "            ax=0,\n",
    "            ay=-40\n",
    "        ),\n",
    "        dict(\n",
    "            x=110477,\n",
    "            y=260,\n",
    "            xref='x',\n",
    "            yref='y',\n",
    "            text='Bendigo',\n",
    "            showarrow=True,\n",
    "            arrowhead=2,\n",
    "            arrowsize=1,\n",
    "            arrowwidth=1.5,\n",
    "            ax=0,\n",
    "            ay=40\n",
    "        )\n",
    "    ]\n",
    ")\n",
    "\n",
    "data = [series_ora, series_ira, series_cities]\n",
    "\n",
    "figure9 = go.Figure(data=data, layout=layout)"
   ]
  },
  {
   "cell_type": "markdown",
   "metadata": {},
   "source": [
    "### Accidents by LGA by ABS Remoteness Area\n",
    "\n",
    "* The chart below colours LGAs by the ABS Remoteness Area they fall most within\n",
    "    * Regional is the label used for Inner Regional Australia\n",
    "    * Rural is used for Outer Regional Australia\n",
    "\n",
    "### This is a nice visual way to confirm what the earlier chart told us - per capita, more accidents happen in the country\n",
    "\n",
    "* Interestingly, the two 'regional' councils with big populations, those based around Bendigo and Ballarat, fall in line with those of Melbourne's suburbs, we are seeing the effect of large parts of these LGAs being cities"
   ]
  },
  {
   "cell_type": "code",
   "execution_count": 301,
   "metadata": {},
   "outputs": [
    {
     "data": {
      "application/vnd.plotly.v1+json": {
       "data": [
        {
         "marker": {
          "opacity": 0.7,
          "size": 10
         },
         "mode": "markers",
         "name": "Rural",
         "text": [
          "ALPINE",
          "BULOKE",
          "EAST GIPPSLAND",
          "GANNAWARRA",
          "GLENELG",
          "HINDMARSH",
          "HORSHAM",
          "LODDON",
          "MANSFIELD",
          "MILDURA",
          "SWAN HILL",
          "TOWONG",
          "WEST WIMMERA",
          "YARRIAMBIACK"
         ],
         "type": "scatter",
         "x": [
          12337,
          6201,
          45040,
          10549,
          19557,
          5721,
          19642,
          7516,
          8584,
          53878,
          20584,
          5985,
          3903,
          6674
         ],
         "y": [
          431,
          278,
          329,
          261,
          273,
          233,
          248,
          415,
          577,
          236,
          227,
          507,
          344,
          171
         ]
        },
        {
         "marker": {
          "opacity": 0.7,
          "size": 10
         },
         "mode": "markers",
         "name": "Regional",
         "text": [
          "ARARAT",
          "BALLARAT",
          "BASS COAST",
          "BAW BAW",
          "BENALLA",
          "CAMPASPE",
          "CENTRAL GOLDFIELDS",
          "COLAC-OTWAY",
          "CORANGAMITE",
          "GOLDEN PLAINS",
          "GREATER BENDIGO",
          "GREATER SHEPPARTON",
          "HEPBURN",
          "INDIGO",
          "LATROBE",
          "MACEDON RANGES",
          "MITCHELL",
          "MOIRA",
          "MOORABOOL",
          "MOUNT ALEXANDER",
          "MOYNE",
          "MURRINDINDI",
          "NORTHERN GRAMPIANS",
          "PYRENEES",
          "QUEENSCLIFFE",
          "SOUTH GIPPSLAND",
          "SOUTHERN GRAMPIANS",
          "STRATHBOGIE",
          "SURF COAST",
          "WANGARATTA",
          "WARRNAMBOOL",
          "WELLINGTON",
          "WODONGA"
         ],
         "type": "scatter",
         "x": [
          11600,
          101686,
          32804,
          48479,
          13861,
          37061,
          12995,
          20972,
          16051,
          21688,
          110477,
          63837,
          15330,
          15952,
          73257,
          46100,
          40918,
          29112,
          31818,
          18761,
          16495,
          13732,
          11439,
          7238,
          2853,
          28703,
          15944,
          10274,
          29397,
          28310,
          33655,
          42983,
          39351
         ],
         "y": [
          270,
          265,
          266,
          327,
          310,
          257,
          252,
          414,
          330,
          245,
          260,
          281,
          296,
          286,
          249,
          228,
          308,
          236,
          278,
          276,
          297,
          660,
          297,
          413,
          93,
          366,
          243,
          501,
          273,
          243,
          187,
          292,
          175
         ]
        },
        {
         "marker": {
          "opacity": 0.7,
          "size": 10
         },
         "mode": "markers",
         "name": "City",
         "text": [
          "BANYULE",
          "BAYSIDE",
          "BOROONDARA",
          "BRIMBANK",
          "CARDINIA",
          "CASEY",
          "DAREBIN",
          "FRANKSTON",
          "GLEN EIRA",
          "GREATER DANDENONG",
          "GREATER GEELONG",
          "HOBSONS BAY",
          "HUME",
          "KINGSTON",
          "KNOX",
          "MANNINGHAM",
          "MARIBYRNONG",
          "MAROONDAH",
          "MELBOURNE",
          "MELTON",
          "MONASH",
          "MOONEE VALLEY",
          "MORELAND",
          "MORNINGTON PENINSULA",
          "NILLUMBIK",
          "PORT PHILLIP",
          "STONNINGTON",
          "WHITEHORSE",
          "WHITTLESEA",
          "WYNDHAM",
          "YARRA",
          "YARRA RANGES"
         ],
         "type": "scatter",
         "x": [
          121865,
          97087,
          167231,
          194319,
          94128,
          299301,
          146719,
          134143,
          140875,
          152050,
          233429,
          88778,
          197376,
          151389,
          154110,
          116255,
          82288,
          110376,
          135959,
          135443,
          182618,
          116671,
          162558,
          154999,
          61273,
          100863,
          103832,
          162078,
          197491,
          217122,
          86657,
          149537
         ],
         "y": [
          182,
          213,
          235,
          243,
          240,
          199,
          253,
          215,
          214,
          334,
          222,
          224,
          216,
          239,
          212,
          160,
          246,
          215,
          689,
          159,
          231,
          203,
          266,
          227,
          212,
          301,
          310,
          185,
          178,
          138,
          397,
          289
         ]
        }
       ],
       "layout": {
        "annotations": [
         {
          "arrowhead": 2,
          "arrowsize": 1,
          "arrowwidth": 1.5,
          "ax": 0,
          "ay": -40,
          "showarrow": true,
          "text": "Ballarat",
          "x": 101686,
          "xref": "x",
          "y": 265,
          "yref": "y"
         },
         {
          "arrowhead": 2,
          "arrowsize": 1,
          "arrowwidth": 1.5,
          "ax": 0,
          "ay": 40,
          "showarrow": true,
          "text": "Bendigo",
          "x": 110477,
          "xref": "x",
          "y": 260,
          "yref": "y"
         }
        ],
        "legend": {
         "orientation": "h",
         "x": 0.35,
         "y": 1.1
        },
        "title": "VicRoads Accident - Accidents per 100,000 people vs. 2016 population",
        "titlefont": {
         "family": "Open Sans",
         "size": 22
        },
        "xaxis": {
         "title": "2016 Population",
         "titlefont": {
          "family": "Open Sans",
          "size": 16
         }
        },
        "yaxis": {
         "title": "Accidents per 100,000 people",
         "titlefont": {
          "family": "Open Sans",
          "size": 16
         }
        }
       }
      },
      "text/html": [
       "<div id=\"e7964ce3-fbaf-472a-9d47-194037d0e3ec\" style=\"height: 525px; width: 100%;\" class=\"plotly-graph-div\"></div><script type=\"text/javascript\">require([\"plotly\"], function(Plotly) { window.PLOTLYENV=window.PLOTLYENV || {};window.PLOTLYENV.BASE_URL=\"https://plot.ly\";Plotly.newPlot(\"e7964ce3-fbaf-472a-9d47-194037d0e3ec\", [{\"type\": \"scatter\", \"y\": [431.0, 278.0, 329.0, 261.0, 273.0, 233.0, 248.0, 415.0, 577.0, 236.0, 227.0, 507.0, 344.0, 171.0], \"x\": [12337, 6201, 45040, 10549, 19557, 5721, 19642, 7516, 8584, 53878, 20584, 5985, 3903, 6674], \"name\": \"Rural\", \"mode\": \"markers\", \"text\": [\"ALPINE\", \"BULOKE\", \"EAST GIPPSLAND\", \"GANNAWARRA\", \"GLENELG\", \"HINDMARSH\", \"HORSHAM\", \"LODDON\", \"MANSFIELD\", \"MILDURA\", \"SWAN HILL\", \"TOWONG\", \"WEST WIMMERA\", \"YARRIAMBIACK\"], \"marker\": {\"size\": 10, \"opacity\": 0.7}}, {\"type\": \"scatter\", \"y\": [270.0, 265.0, 266.0, 327.0, 310.0, 257.0, 252.0, 414.0, 330.0, 245.0, 260.0, 281.0, 296.0, 286.0, 249.0, 228.0, 308.0, 236.0, 278.0, 276.0, 297.0, 660.0, 297.0, 413.0, 93.0, 366.0, 243.0, 501.0, 273.0, 243.0, 187.0, 292.0, 175.0], \"x\": [11600, 101686, 32804, 48479, 13861, 37061, 12995, 20972, 16051, 21688, 110477, 63837, 15330, 15952, 73257, 46100, 40918, 29112, 31818, 18761, 16495, 13732, 11439, 7238, 2853, 28703, 15944, 10274, 29397, 28310, 33655, 42983, 39351], \"name\": \"Regional\", \"mode\": \"markers\", \"text\": [\"ARARAT\", \"BALLARAT\", \"BASS COAST\", \"BAW BAW\", \"BENALLA\", \"CAMPASPE\", \"CENTRAL GOLDFIELDS\", \"COLAC-OTWAY\", \"CORANGAMITE\", \"GOLDEN PLAINS\", \"GREATER BENDIGO\", \"GREATER SHEPPARTON\", \"HEPBURN\", \"INDIGO\", \"LATROBE\", \"MACEDON RANGES\", \"MITCHELL\", \"MOIRA\", \"MOORABOOL\", \"MOUNT ALEXANDER\", \"MOYNE\", \"MURRINDINDI\", \"NORTHERN GRAMPIANS\", \"PYRENEES\", \"QUEENSCLIFFE\", \"SOUTH GIPPSLAND\", \"SOUTHERN GRAMPIANS\", \"STRATHBOGIE\", \"SURF COAST\", \"WANGARATTA\", \"WARRNAMBOOL\", \"WELLINGTON\", \"WODONGA\"], \"marker\": {\"size\": 10, \"opacity\": 0.7}}, {\"type\": \"scatter\", \"y\": [182.0, 213.0, 235.0, 243.0, 240.0, 199.0, 253.0, 215.0, 214.0, 334.0, 222.0, 224.0, 216.0, 239.0, 212.0, 160.0, 246.0, 215.0, 689.0, 159.0, 231.0, 203.0, 266.0, 227.0, 212.0, 301.0, 310.0, 185.0, 178.0, 138.0, 397.0, 289.0], \"x\": [121865, 97087, 167231, 194319, 94128, 299301, 146719, 134143, 140875, 152050, 233429, 88778, 197376, 151389, 154110, 116255, 82288, 110376, 135959, 135443, 182618, 116671, 162558, 154999, 61273, 100863, 103832, 162078, 197491, 217122, 86657, 149537], \"name\": \"City\", \"mode\": \"markers\", \"text\": [\"BANYULE\", \"BAYSIDE\", \"BOROONDARA\", \"BRIMBANK\", \"CARDINIA\", \"CASEY\", \"DAREBIN\", \"FRANKSTON\", \"GLEN EIRA\", \"GREATER DANDENONG\", \"GREATER GEELONG\", \"HOBSONS BAY\", \"HUME\", \"KINGSTON\", \"KNOX\", \"MANNINGHAM\", \"MARIBYRNONG\", \"MAROONDAH\", \"MELBOURNE\", \"MELTON\", \"MONASH\", \"MOONEE VALLEY\", \"MORELAND\", \"MORNINGTON PENINSULA\", \"NILLUMBIK\", \"PORT PHILLIP\", \"STONNINGTON\", \"WHITEHORSE\", \"WHITTLESEA\", \"WYNDHAM\", \"YARRA\", \"YARRA RANGES\"], \"marker\": {\"size\": 10, \"opacity\": 0.7}}], {\"title\": \"VicRoads Accident - Accidents per 100,000 people vs. 2016 population\", \"titlefont\": {\"family\": \"Open Sans\", \"size\": 22}, \"xaxis\": {\"title\": \"2016 Population\", \"titlefont\": {\"family\": \"Open Sans\", \"size\": 16}}, \"yaxis\": {\"title\": \"Accidents per 100,000 people\", \"titlefont\": {\"family\": \"Open Sans\", \"size\": 16}}, \"legend\": {\"orientation\": \"h\", \"x\": 0.35, \"y\": 1.1}, \"annotations\": [{\"x\": 101686, \"y\": 265, \"xref\": \"x\", \"yref\": \"y\", \"text\": \"Ballarat\", \"showarrow\": true, \"arrowhead\": 2, \"arrowsize\": 1, \"arrowwidth\": 1.5, \"ax\": 0, \"ay\": -40}, {\"x\": 110477, \"y\": 260, \"xref\": \"x\", \"yref\": \"y\", \"text\": \"Bendigo\", \"showarrow\": true, \"arrowhead\": 2, \"arrowsize\": 1, \"arrowwidth\": 1.5, \"ax\": 0, \"ay\": 40}]}, {\"showLink\": true, \"linkText\": \"Export to plot.ly\"})});</script>"
      ],
      "text/vnd.plotly.v1+html": [
       "<div id=\"e7964ce3-fbaf-472a-9d47-194037d0e3ec\" style=\"height: 525px; width: 100%;\" class=\"plotly-graph-div\"></div><script type=\"text/javascript\">require([\"plotly\"], function(Plotly) { window.PLOTLYENV=window.PLOTLYENV || {};window.PLOTLYENV.BASE_URL=\"https://plot.ly\";Plotly.newPlot(\"e7964ce3-fbaf-472a-9d47-194037d0e3ec\", [{\"type\": \"scatter\", \"y\": [431.0, 278.0, 329.0, 261.0, 273.0, 233.0, 248.0, 415.0, 577.0, 236.0, 227.0, 507.0, 344.0, 171.0], \"x\": [12337, 6201, 45040, 10549, 19557, 5721, 19642, 7516, 8584, 53878, 20584, 5985, 3903, 6674], \"name\": \"Rural\", \"mode\": \"markers\", \"text\": [\"ALPINE\", \"BULOKE\", \"EAST GIPPSLAND\", \"GANNAWARRA\", \"GLENELG\", \"HINDMARSH\", \"HORSHAM\", \"LODDON\", \"MANSFIELD\", \"MILDURA\", \"SWAN HILL\", \"TOWONG\", \"WEST WIMMERA\", \"YARRIAMBIACK\"], \"marker\": {\"size\": 10, \"opacity\": 0.7}}, {\"type\": \"scatter\", \"y\": [270.0, 265.0, 266.0, 327.0, 310.0, 257.0, 252.0, 414.0, 330.0, 245.0, 260.0, 281.0, 296.0, 286.0, 249.0, 228.0, 308.0, 236.0, 278.0, 276.0, 297.0, 660.0, 297.0, 413.0, 93.0, 366.0, 243.0, 501.0, 273.0, 243.0, 187.0, 292.0, 175.0], \"x\": [11600, 101686, 32804, 48479, 13861, 37061, 12995, 20972, 16051, 21688, 110477, 63837, 15330, 15952, 73257, 46100, 40918, 29112, 31818, 18761, 16495, 13732, 11439, 7238, 2853, 28703, 15944, 10274, 29397, 28310, 33655, 42983, 39351], \"name\": \"Regional\", \"mode\": \"markers\", \"text\": [\"ARARAT\", \"BALLARAT\", \"BASS COAST\", \"BAW BAW\", \"BENALLA\", \"CAMPASPE\", \"CENTRAL GOLDFIELDS\", \"COLAC-OTWAY\", \"CORANGAMITE\", \"GOLDEN PLAINS\", \"GREATER BENDIGO\", \"GREATER SHEPPARTON\", \"HEPBURN\", \"INDIGO\", \"LATROBE\", \"MACEDON RANGES\", \"MITCHELL\", \"MOIRA\", \"MOORABOOL\", \"MOUNT ALEXANDER\", \"MOYNE\", \"MURRINDINDI\", \"NORTHERN GRAMPIANS\", \"PYRENEES\", \"QUEENSCLIFFE\", \"SOUTH GIPPSLAND\", \"SOUTHERN GRAMPIANS\", \"STRATHBOGIE\", \"SURF COAST\", \"WANGARATTA\", \"WARRNAMBOOL\", \"WELLINGTON\", \"WODONGA\"], \"marker\": {\"size\": 10, \"opacity\": 0.7}}, {\"type\": \"scatter\", \"y\": [182.0, 213.0, 235.0, 243.0, 240.0, 199.0, 253.0, 215.0, 214.0, 334.0, 222.0, 224.0, 216.0, 239.0, 212.0, 160.0, 246.0, 215.0, 689.0, 159.0, 231.0, 203.0, 266.0, 227.0, 212.0, 301.0, 310.0, 185.0, 178.0, 138.0, 397.0, 289.0], \"x\": [121865, 97087, 167231, 194319, 94128, 299301, 146719, 134143, 140875, 152050, 233429, 88778, 197376, 151389, 154110, 116255, 82288, 110376, 135959, 135443, 182618, 116671, 162558, 154999, 61273, 100863, 103832, 162078, 197491, 217122, 86657, 149537], \"name\": \"City\", \"mode\": \"markers\", \"text\": [\"BANYULE\", \"BAYSIDE\", \"BOROONDARA\", \"BRIMBANK\", \"CARDINIA\", \"CASEY\", \"DAREBIN\", \"FRANKSTON\", \"GLEN EIRA\", \"GREATER DANDENONG\", \"GREATER GEELONG\", \"HOBSONS BAY\", \"HUME\", \"KINGSTON\", \"KNOX\", \"MANNINGHAM\", \"MARIBYRNONG\", \"MAROONDAH\", \"MELBOURNE\", \"MELTON\", \"MONASH\", \"MOONEE VALLEY\", \"MORELAND\", \"MORNINGTON PENINSULA\", \"NILLUMBIK\", \"PORT PHILLIP\", \"STONNINGTON\", \"WHITEHORSE\", \"WHITTLESEA\", \"WYNDHAM\", \"YARRA\", \"YARRA RANGES\"], \"marker\": {\"size\": 10, \"opacity\": 0.7}}], {\"title\": \"VicRoads Accident - Accidents per 100,000 people vs. 2016 population\", \"titlefont\": {\"family\": \"Open Sans\", \"size\": 22}, \"xaxis\": {\"title\": \"2016 Population\", \"titlefont\": {\"family\": \"Open Sans\", \"size\": 16}}, \"yaxis\": {\"title\": \"Accidents per 100,000 people\", \"titlefont\": {\"family\": \"Open Sans\", \"size\": 16}}, \"legend\": {\"orientation\": \"h\", \"x\": 0.35, \"y\": 1.1}, \"annotations\": [{\"x\": 101686, \"y\": 265, \"xref\": \"x\", \"yref\": \"y\", \"text\": \"Ballarat\", \"showarrow\": true, \"arrowhead\": 2, \"arrowsize\": 1, \"arrowwidth\": 1.5, \"ax\": 0, \"ay\": -40}, {\"x\": 110477, \"y\": 260, \"xref\": \"x\", \"yref\": \"y\", \"text\": \"Bendigo\", \"showarrow\": true, \"arrowhead\": 2, \"arrowsize\": 1, \"arrowwidth\": 1.5, \"ax\": 0, \"ay\": 40}]}, {\"showLink\": true, \"linkText\": \"Export to plot.ly\"})});</script>"
      ]
     },
     "metadata": {},
     "output_type": "display_data"
    }
   ],
   "source": [
    "py.iplot(figure9, filename='figure9')\n",
    "#pyonline.image.ishow(figure9, width=1500, height=750)"
   ]
  },
  {
   "cell_type": "markdown",
   "metadata": {},
   "source": [
    "### Does the pattern with the country repeat for deaths?\n"
   ]
  },
  {
   "cell_type": "code",
   "execution_count": 323,
   "metadata": {},
   "outputs": [],
   "source": [
    "# make df of just lethal accidents\n",
    "accidents_by_lga_by_severity_mod = accidents_by_lga_by_severity.reset_index(name='count')\n",
    "accidents_by_lga_lethal = accidents_by_lga_by_severity_mod[accidents_by_lga_by_severity_mod['SEVERITY'] == 1]\n",
    "del accidents_by_lga_lethal['SEVERITY']\n",
    "\n",
    "# merge in population\n",
    "accidents_by_lga_lethal_with_popn = pd.merge(accidents_by_lga_lethal, df_lga_population, on='LGA_NAME', how='left')\n",
    "\n",
    "# calculate figures per 100k\n",
    "accidents_by_lga_lethal_with_popn['crashes_per_100k_per_year'] = round(\n",
    "    100000 * (\n",
    "        accidents_by_lga_lethal_with_popn['count']/accidents_by_lga_with_popn['popn']/9\n",
    "    ),1\n",
    ")\n",
    "\n",
    "# merge in remoteness\n",
    "accidents_by_lga_lethal_with_popn_with_remoteness = pd.merge(\n",
    "    accidents_by_lga_lethal_with_popn,\n",
    "    df_remoteness_main,\n",
    "    how='left',\n",
    "    on='LGA_NAME'\n",
    ")"
   ]
  },
  {
   "cell_type": "code",
   "execution_count": 341,
   "metadata": {
    "collapsed": true
   },
   "outputs": [],
   "source": [
    "series_cities = go.Scatter(\n",
    "    y = accidents_by_lga_lethal_with_popn_with_remoteness['crashes_per_100k_per_year']\n",
    "        [accidents_by_lga_lethal_with_popn_with_remoteness['RA_NAME_2011'] == 'Major Cities of Australia'],\n",
    "    x = accidents_by_lga_lethal_with_popn_with_remoteness['popn']\n",
    "        [accidents_by_lga_lethal_with_popn_with_remoteness['RA_NAME_2011'] == 'Major Cities of Australia'],\n",
    "    name = 'City',\n",
    "    mode = 'markers',\n",
    "    text = accidents_by_lga_lethal_with_popn_with_remoteness['LGA_NAME']\n",
    "        [accidents_by_lga_lethal_with_popn_with_remoteness['RA_NAME_2011'] == 'Major Cities of Australia'],\n",
    "    marker = dict (\n",
    "        size = 10,\n",
    "        opacity = 0.7\n",
    "    )\n",
    ")\n",
    "\n",
    "series_ira = go.Scatter(\n",
    "    y = accidents_by_lga_lethal_with_popn_with_remoteness['crashes_per_100k_per_year']\n",
    "        [accidents_by_lga_lethal_with_popn_with_remoteness['RA_NAME_2011'] == 'Inner Regional Australia'],\n",
    "    x = accidents_by_lga_lethal_with_popn_with_remoteness['popn']\n",
    "        [accidents_by_lga_lethal_with_popn_with_remoteness['RA_NAME_2011'] == 'Inner Regional Australia'],\n",
    "    name = 'Regional',\n",
    "    mode = 'markers',\n",
    "    text = accidents_by_lga_lethal_with_popn_with_remoteness['LGA_NAME']\n",
    "        [accidents_by_lga_lethal_with_popn_with_remoteness['RA_NAME_2011'] == 'Inner Regional Australia'],\n",
    "    marker = dict (\n",
    "        size = 10,\n",
    "        opacity = 0.7\n",
    "    )\n",
    ")\n",
    "\n",
    "series_ora = go.Scatter(\n",
    "    y = accidents_by_lga_lethal_with_popn_with_remoteness['crashes_per_100k_per_year']\n",
    "        [accidents_by_lga_lethal_with_popn_with_remoteness['RA_NAME_2011'] == 'Outer Regional Australia'],\n",
    "    x = accidents_by_lga_lethal_with_popn_with_remoteness['popn']\n",
    "        [accidents_by_lga_lethal_with_popn_with_remoteness['RA_NAME_2011'] == 'Outer Regional Australia'],\n",
    "    name = 'Rural',\n",
    "    mode = 'markers',\n",
    "    text = accidents_by_lga_lethal_with_popn_with_remoteness['LGA_NAME']\n",
    "        [accidents_by_lga_lethal_with_popn_with_remoteness['RA_NAME_2011'] == 'Outer Regional Australia'],\n",
    "    marker = dict (\n",
    "        size = 10,\n",
    "        opacity = 0.7\n",
    "    )\n",
    ")\n",
    "\n",
    "layout = go.Layout(\n",
    "    title = 'VicRoads Accident - Lethal accidents per 100,000 people vs. 2016 population',\n",
    "    titlefont=dict(\n",
    "            family='Open Sans',\n",
    "            size=22\n",
    "    ),\n",
    "    xaxis=dict(\n",
    "        title = '2016 Population',\n",
    "        titlefont=dict(\n",
    "            family='Open Sans',\n",
    "            size=16\n",
    "        )\n",
    "    ),\n",
    "    yaxis = dict(\n",
    "        title = 'Lethal accidents per 100,000 people',\n",
    "        titlefont=dict(\n",
    "            family='Open Sans',\n",
    "            size=16\n",
    "        )\n",
    "    ),\n",
    "    legend=dict(\n",
    "        orientation=\"h\",\n",
    "        x=.35,\n",
    "        y=1.1\n",
    "    ),\n",
    "    annotations=[\n",
    "        dict(\n",
    "            x=10274,\n",
    "            y=34.6,\n",
    "            xref='x',\n",
    "            yref='y',\n",
    "            text='Strathbogie',\n",
    "            showarrow=True,\n",
    "            arrowhead=2,\n",
    "            arrowsize=1,\n",
    "            arrowwidth=1.5,\n",
    "            ax=75,\n",
    "            ay=0\n",
    "        ),\n",
    "        dict(\n",
    "            x=299301,\n",
    "            y=3.2,\n",
    "            xref='x',\n",
    "            yref='y',\n",
    "            text='Casey',\n",
    "            showarrow=True,\n",
    "            arrowhead=2,\n",
    "            arrowsize=1,\n",
    "            arrowwidth=1.5,\n",
    "            ax=0,\n",
    "            ay=-40\n",
    "        )\n",
    "    ]\n",
    ")\n",
    "\n",
    "data = [series_ora, series_ira, series_cities]\n",
    "\n",
    "figure10 = go.Figure(data=data, layout=layout)"
   ]
  },
  {
   "cell_type": "markdown",
   "metadata": {},
   "source": [
    "### Lethal accidents per 100k persons, versus total persons\n",
    "\n",
    "* This relationship is even stronger than that for accidents in general\n",
    "* Per capita, many more people die on country roads in Victoria than those in the cities\n",
    "* Per capita, 10 times as many lethal accidents occur on the roads of the Strathbogie LGA as do on those of the Casey LGA"
   ]
  },
  {
   "cell_type": "code",
   "execution_count": 340,
   "metadata": {},
   "outputs": [
    {
     "data": {
      "application/vnd.plotly.v1+json": {
       "data": [
        {
         "marker": {
          "opacity": 0.7,
          "size": 10
         },
         "mode": "markers",
         "name": "Rural",
         "text": [
          "ALPINE",
          "BULOKE",
          "EAST GIPPSLAND",
          "GANNAWARRA",
          "GLENELG",
          "HINDMARSH",
          "HORSHAM",
          "LODDON",
          "MANSFIELD",
          "MILDURA",
          "SWAN HILL",
          "TOWONG",
          "WEST WIMMERA",
          "YARRIAMBIACK"
         ],
         "type": "scatter",
         "x": [
          12337,
          6201,
          45040,
          10549,
          19557,
          5721,
          19642,
          7516,
          8584,
          53878,
          20584,
          5985,
          3903,
          6674
         ],
         "y": [
          15.3,
          25.1,
          17,
          14.7,
          14.2,
          7.8,
          10.2,
          26.6,
          22,
          7,
          15.1,
          9.3,
          34.2,
          10
         ]
        },
        {
         "marker": {
          "opacity": 0.7,
          "size": 10
         },
         "mode": "markers",
         "name": "Regional",
         "text": [
          "ARARAT",
          "BALLARAT",
          "BASS COAST",
          "BAW BAW",
          "BENALLA",
          "CAMPASPE",
          "CENTRAL GOLDFIELDS",
          "COLAC-OTWAY",
          "CORANGAMITE",
          "GOLDEN PLAINS",
          "GREATER BENDIGO",
          "GREATER SHEPPARTON",
          "HEPBURN",
          "INDIGO",
          "LATROBE",
          "MACEDON RANGES",
          "MITCHELL",
          "MOIRA",
          "MOORABOOL",
          "MOUNT ALEXANDER",
          "MOYNE",
          "MURRINDINDI",
          "NORTHERN GRAMPIANS",
          "PYRENEES",
          "QUEENSCLIFFE",
          "SOUTH GIPPSLAND",
          "SOUTHERN GRAMPIANS",
          "STRATHBOGIE",
          "SURF COAST",
          "WANGARATTA",
          "WARRNAMBOOL",
          "WELLINGTON",
          "WODONGA"
         ],
         "type": "scatter",
         "x": [
          11600,
          101686,
          32804,
          48479,
          13861,
          37061,
          12995,
          20972,
          16051,
          21688,
          110477,
          63837,
          15330,
          15952,
          73257,
          46100,
          40918,
          29112,
          31818,
          18761,
          16495,
          13732,
          11439,
          7238,
          2853,
          28703,
          15944,
          10274,
          29397,
          28310,
          33655,
          42983,
          39351
         ],
         "y": [
          14.4,
          4,
          8.8,
          12.1,
          15.2,
          11.4,
          16.2,
          17.5,
          18.7,
          10.2,
          6,
          10.3,
          12.3,
          19.5,
          8,
          9.6,
          10.6,
          16.8,
          11.5,
          11.3,
          12.8,
          33.2,
          15.5,
          15.4,
          7.8,
          12,
          8.4,
          34.6,
          12.1,
          14.1,
          3.3,
          11.9,
          3.1
         ]
        },
        {
         "marker": {
          "opacity": 0.7,
          "size": 10
         },
         "mode": "markers",
         "name": "City",
         "text": [
          "BANYULE",
          "BAYSIDE",
          "BOROONDARA",
          "BRIMBANK",
          "CARDINIA",
          "CASEY",
          "DAREBIN",
          "FRANKSTON",
          "GLEN EIRA",
          "GREATER DANDENONG",
          "GREATER GEELONG",
          "HOBSONS BAY",
          "HUME",
          "KINGSTON",
          "KNOX",
          "MANNINGHAM",
          "MARIBYRNONG",
          "MAROONDAH",
          "MELBOURNE",
          "MELTON",
          "MONASH",
          "MOONEE VALLEY",
          "MORELAND",
          "MORNINGTON PENINSULA",
          "NILLUMBIK",
          "PORT PHILLIP",
          "STONNINGTON",
          "WHITEHORSE",
          "WHITTLESEA",
          "WYNDHAM",
          "YARRA",
          "YARRA RANGES"
         ],
         "type": "scatter",
         "x": [
          121865,
          97087,
          167231,
          194319,
          94128,
          299301,
          146719,
          134143,
          140875,
          152050,
          233429,
          88778,
          197376,
          151389,
          154110,
          116255,
          82288,
          110376,
          135959,
          135443,
          182618,
          116671,
          162558,
          154999,
          61273,
          100863,
          103832,
          162078,
          197491,
          217122,
          86657,
          149537
         ],
         "y": [
          1.6,
          3,
          2.5,
          3.8,
          6.4,
          3.2,
          2.2,
          3.1,
          2,
          3.9,
          3.6,
          2.5,
          3.2,
          3.5,
          2.9,
          2.1,
          3,
          2.2,
          4.2,
          4.4,
          2.7,
          2.6,
          2.6,
          5.6,
          4.2,
          1.8,
          1.5,
          2.5,
          3,
          2.8,
          2.1,
          6
         ]
        }
       ],
       "layout": {
        "annotations": [
         {
          "arrowhead": 2,
          "arrowsize": 1,
          "arrowwidth": 1.5,
          "ax": 75,
          "ay": 0,
          "showarrow": true,
          "text": "Strathbogie",
          "x": 10274,
          "xref": "x",
          "y": 34.6,
          "yref": "y"
         },
         {
          "arrowhead": 2,
          "arrowsize": 1,
          "arrowwidth": 1.5,
          "ax": 0,
          "ay": -40,
          "showarrow": true,
          "text": "Casey",
          "x": 299301,
          "xref": "x",
          "y": 3.2,
          "yref": "y"
         }
        ],
        "legend": {
         "orientation": "h",
         "x": 0.35,
         "y": 1.1
        },
        "title": "VicRoads Accident - Lethal accidents per 100,000 people vs. 2016 population",
        "titlefont": {
         "family": "Open Sans",
         "size": 22
        },
        "xaxis": {
         "title": "2016 Population",
         "titlefont": {
          "family": "Open Sans",
          "size": 16
         }
        },
        "yaxis": {
         "title": "Accidents per 100,000 people",
         "titlefont": {
          "family": "Open Sans",
          "size": 16
         }
        }
       }
      },
      "text/html": [
       "<div id=\"b02cdf5b-fa83-49d4-b9b4-7eb45e8e3a63\" style=\"height: 525px; width: 100%;\" class=\"plotly-graph-div\"></div><script type=\"text/javascript\">require([\"plotly\"], function(Plotly) { window.PLOTLYENV=window.PLOTLYENV || {};window.PLOTLYENV.BASE_URL=\"https://plot.ly\";Plotly.newPlot(\"b02cdf5b-fa83-49d4-b9b4-7eb45e8e3a63\", [{\"type\": \"scatter\", \"y\": [15.3, 25.1, 17.0, 14.7, 14.2, 7.8, 10.2, 26.6, 22.0, 7.0, 15.1, 9.3, 34.2, 10.0], \"x\": [12337, 6201, 45040, 10549, 19557, 5721, 19642, 7516, 8584, 53878, 20584, 5985, 3903, 6674], \"name\": \"Rural\", \"mode\": \"markers\", \"text\": [\"ALPINE\", \"BULOKE\", \"EAST GIPPSLAND\", \"GANNAWARRA\", \"GLENELG\", \"HINDMARSH\", \"HORSHAM\", \"LODDON\", \"MANSFIELD\", \"MILDURA\", \"SWAN HILL\", \"TOWONG\", \"WEST WIMMERA\", \"YARRIAMBIACK\"], \"marker\": {\"size\": 10, \"opacity\": 0.7}}, {\"type\": \"scatter\", \"y\": [14.4, 4.0, 8.8, 12.1, 15.2, 11.4, 16.2, 17.5, 18.7, 10.2, 6.0, 10.3, 12.3, 19.5, 8.0, 9.6, 10.6, 16.8, 11.5, 11.3, 12.8, 33.2, 15.5, 15.4, 7.8, 12.0, 8.4, 34.6, 12.1, 14.1, 3.3, 11.9, 3.1], \"x\": [11600, 101686, 32804, 48479, 13861, 37061, 12995, 20972, 16051, 21688, 110477, 63837, 15330, 15952, 73257, 46100, 40918, 29112, 31818, 18761, 16495, 13732, 11439, 7238, 2853, 28703, 15944, 10274, 29397, 28310, 33655, 42983, 39351], \"name\": \"Regional\", \"mode\": \"markers\", \"text\": [\"ARARAT\", \"BALLARAT\", \"BASS COAST\", \"BAW BAW\", \"BENALLA\", \"CAMPASPE\", \"CENTRAL GOLDFIELDS\", \"COLAC-OTWAY\", \"CORANGAMITE\", \"GOLDEN PLAINS\", \"GREATER BENDIGO\", \"GREATER SHEPPARTON\", \"HEPBURN\", \"INDIGO\", \"LATROBE\", \"MACEDON RANGES\", \"MITCHELL\", \"MOIRA\", \"MOORABOOL\", \"MOUNT ALEXANDER\", \"MOYNE\", \"MURRINDINDI\", \"NORTHERN GRAMPIANS\", \"PYRENEES\", \"QUEENSCLIFFE\", \"SOUTH GIPPSLAND\", \"SOUTHERN GRAMPIANS\", \"STRATHBOGIE\", \"SURF COAST\", \"WANGARATTA\", \"WARRNAMBOOL\", \"WELLINGTON\", \"WODONGA\"], \"marker\": {\"size\": 10, \"opacity\": 0.7}}, {\"type\": \"scatter\", \"y\": [1.6, 3.0, 2.5, 3.8, 6.4, 3.2, 2.2, 3.1, 2.0, 3.9, 3.6, 2.5, 3.2, 3.5, 2.9, 2.1, 3.0, 2.2, 4.2, 4.4, 2.7, 2.6, 2.6, 5.6, 4.2, 1.8, 1.5, 2.5, 3.0, 2.8, 2.1, 6.0], \"x\": [121865, 97087, 167231, 194319, 94128, 299301, 146719, 134143, 140875, 152050, 233429, 88778, 197376, 151389, 154110, 116255, 82288, 110376, 135959, 135443, 182618, 116671, 162558, 154999, 61273, 100863, 103832, 162078, 197491, 217122, 86657, 149537], \"name\": \"City\", \"mode\": \"markers\", \"text\": [\"BANYULE\", \"BAYSIDE\", \"BOROONDARA\", \"BRIMBANK\", \"CARDINIA\", \"CASEY\", \"DAREBIN\", \"FRANKSTON\", \"GLEN EIRA\", \"GREATER DANDENONG\", \"GREATER GEELONG\", \"HOBSONS BAY\", \"HUME\", \"KINGSTON\", \"KNOX\", \"MANNINGHAM\", \"MARIBYRNONG\", \"MAROONDAH\", \"MELBOURNE\", \"MELTON\", \"MONASH\", \"MOONEE VALLEY\", \"MORELAND\", \"MORNINGTON PENINSULA\", \"NILLUMBIK\", \"PORT PHILLIP\", \"STONNINGTON\", \"WHITEHORSE\", \"WHITTLESEA\", \"WYNDHAM\", \"YARRA\", \"YARRA RANGES\"], \"marker\": {\"size\": 10, \"opacity\": 0.7}}], {\"title\": \"VicRoads Accident - Lethal accidents per 100,000 people vs. 2016 population\", \"titlefont\": {\"family\": \"Open Sans\", \"size\": 22}, \"xaxis\": {\"title\": \"2016 Population\", \"titlefont\": {\"family\": \"Open Sans\", \"size\": 16}}, \"yaxis\": {\"title\": \"Accidents per 100,000 people\", \"titlefont\": {\"family\": \"Open Sans\", \"size\": 16}}, \"legend\": {\"orientation\": \"h\", \"x\": 0.35, \"y\": 1.1}, \"annotations\": [{\"x\": 10274, \"y\": 34.6, \"xref\": \"x\", \"yref\": \"y\", \"text\": \"Strathbogie\", \"showarrow\": true, \"arrowhead\": 2, \"arrowsize\": 1, \"arrowwidth\": 1.5, \"ax\": 75, \"ay\": 0}, {\"x\": 299301, \"y\": 3.2, \"xref\": \"x\", \"yref\": \"y\", \"text\": \"Casey\", \"showarrow\": true, \"arrowhead\": 2, \"arrowsize\": 1, \"arrowwidth\": 1.5, \"ax\": 0, \"ay\": -40}]}, {\"showLink\": true, \"linkText\": \"Export to plot.ly\"})});</script>"
      ],
      "text/vnd.plotly.v1+html": [
       "<div id=\"b02cdf5b-fa83-49d4-b9b4-7eb45e8e3a63\" style=\"height: 525px; width: 100%;\" class=\"plotly-graph-div\"></div><script type=\"text/javascript\">require([\"plotly\"], function(Plotly) { window.PLOTLYENV=window.PLOTLYENV || {};window.PLOTLYENV.BASE_URL=\"https://plot.ly\";Plotly.newPlot(\"b02cdf5b-fa83-49d4-b9b4-7eb45e8e3a63\", [{\"type\": \"scatter\", \"y\": [15.3, 25.1, 17.0, 14.7, 14.2, 7.8, 10.2, 26.6, 22.0, 7.0, 15.1, 9.3, 34.2, 10.0], \"x\": [12337, 6201, 45040, 10549, 19557, 5721, 19642, 7516, 8584, 53878, 20584, 5985, 3903, 6674], \"name\": \"Rural\", \"mode\": \"markers\", \"text\": [\"ALPINE\", \"BULOKE\", \"EAST GIPPSLAND\", \"GANNAWARRA\", \"GLENELG\", \"HINDMARSH\", \"HORSHAM\", \"LODDON\", \"MANSFIELD\", \"MILDURA\", \"SWAN HILL\", \"TOWONG\", \"WEST WIMMERA\", \"YARRIAMBIACK\"], \"marker\": {\"size\": 10, \"opacity\": 0.7}}, {\"type\": \"scatter\", \"y\": [14.4, 4.0, 8.8, 12.1, 15.2, 11.4, 16.2, 17.5, 18.7, 10.2, 6.0, 10.3, 12.3, 19.5, 8.0, 9.6, 10.6, 16.8, 11.5, 11.3, 12.8, 33.2, 15.5, 15.4, 7.8, 12.0, 8.4, 34.6, 12.1, 14.1, 3.3, 11.9, 3.1], \"x\": [11600, 101686, 32804, 48479, 13861, 37061, 12995, 20972, 16051, 21688, 110477, 63837, 15330, 15952, 73257, 46100, 40918, 29112, 31818, 18761, 16495, 13732, 11439, 7238, 2853, 28703, 15944, 10274, 29397, 28310, 33655, 42983, 39351], \"name\": \"Regional\", \"mode\": \"markers\", \"text\": [\"ARARAT\", \"BALLARAT\", \"BASS COAST\", \"BAW BAW\", \"BENALLA\", \"CAMPASPE\", \"CENTRAL GOLDFIELDS\", \"COLAC-OTWAY\", \"CORANGAMITE\", \"GOLDEN PLAINS\", \"GREATER BENDIGO\", \"GREATER SHEPPARTON\", \"HEPBURN\", \"INDIGO\", \"LATROBE\", \"MACEDON RANGES\", \"MITCHELL\", \"MOIRA\", \"MOORABOOL\", \"MOUNT ALEXANDER\", \"MOYNE\", \"MURRINDINDI\", \"NORTHERN GRAMPIANS\", \"PYRENEES\", \"QUEENSCLIFFE\", \"SOUTH GIPPSLAND\", \"SOUTHERN GRAMPIANS\", \"STRATHBOGIE\", \"SURF COAST\", \"WANGARATTA\", \"WARRNAMBOOL\", \"WELLINGTON\", \"WODONGA\"], \"marker\": {\"size\": 10, \"opacity\": 0.7}}, {\"type\": \"scatter\", \"y\": [1.6, 3.0, 2.5, 3.8, 6.4, 3.2, 2.2, 3.1, 2.0, 3.9, 3.6, 2.5, 3.2, 3.5, 2.9, 2.1, 3.0, 2.2, 4.2, 4.4, 2.7, 2.6, 2.6, 5.6, 4.2, 1.8, 1.5, 2.5, 3.0, 2.8, 2.1, 6.0], \"x\": [121865, 97087, 167231, 194319, 94128, 299301, 146719, 134143, 140875, 152050, 233429, 88778, 197376, 151389, 154110, 116255, 82288, 110376, 135959, 135443, 182618, 116671, 162558, 154999, 61273, 100863, 103832, 162078, 197491, 217122, 86657, 149537], \"name\": \"City\", \"mode\": \"markers\", \"text\": [\"BANYULE\", \"BAYSIDE\", \"BOROONDARA\", \"BRIMBANK\", \"CARDINIA\", \"CASEY\", \"DAREBIN\", \"FRANKSTON\", \"GLEN EIRA\", \"GREATER DANDENONG\", \"GREATER GEELONG\", \"HOBSONS BAY\", \"HUME\", \"KINGSTON\", \"KNOX\", \"MANNINGHAM\", \"MARIBYRNONG\", \"MAROONDAH\", \"MELBOURNE\", \"MELTON\", \"MONASH\", \"MOONEE VALLEY\", \"MORELAND\", \"MORNINGTON PENINSULA\", \"NILLUMBIK\", \"PORT PHILLIP\", \"STONNINGTON\", \"WHITEHORSE\", \"WHITTLESEA\", \"WYNDHAM\", \"YARRA\", \"YARRA RANGES\"], \"marker\": {\"size\": 10, \"opacity\": 0.7}}], {\"title\": \"VicRoads Accident - Lethal accidents per 100,000 people vs. 2016 population\", \"titlefont\": {\"family\": \"Open Sans\", \"size\": 22}, \"xaxis\": {\"title\": \"2016 Population\", \"titlefont\": {\"family\": \"Open Sans\", \"size\": 16}}, \"yaxis\": {\"title\": \"Accidents per 100,000 people\", \"titlefont\": {\"family\": \"Open Sans\", \"size\": 16}}, \"legend\": {\"orientation\": \"h\", \"x\": 0.35, \"y\": 1.1}, \"annotations\": [{\"x\": 10274, \"y\": 34.6, \"xref\": \"x\", \"yref\": \"y\", \"text\": \"Strathbogie\", \"showarrow\": true, \"arrowhead\": 2, \"arrowsize\": 1, \"arrowwidth\": 1.5, \"ax\": 75, \"ay\": 0}, {\"x\": 299301, \"y\": 3.2, \"xref\": \"x\", \"yref\": \"y\", \"text\": \"Casey\", \"showarrow\": true, \"arrowhead\": 2, \"arrowsize\": 1, \"arrowwidth\": 1.5, \"ax\": 0, \"ay\": -40}]}, {\"showLink\": true, \"linkText\": \"Export to plot.ly\"})});</script>"
      ]
     },
     "metadata": {},
     "output_type": "display_data"
    }
   ],
   "source": [
    "py.iplot(figure10, filename='figure10')\n",
    "#pyonline.image.ishow(figure10, width=1500, height=750)"
   ]
  },
  {
   "cell_type": "markdown",
   "metadata": {},
   "source": [
    "# Vehicle statistics"
   ]
  },
  {
   "cell_type": "code",
   "execution_count": 354,
   "metadata": {},
   "outputs": [],
   "source": [
    "df_vehicle = pd.read_csv(\n",
    "    'vicroads_data/ACCIDENT/VEHICLE.csv', # file name and path\n",
    "    sep=',', # separated by commas\n",
    "    low_memory = False\n",
    ")"
   ]
  },
  {
   "cell_type": "code",
   "execution_count": 351,
   "metadata": {},
   "outputs": [],
   "source": [
    "colours = df_vehicle.groupby('VEHICLE_COLOUR_1').size().reset_index(name='count')\n",
    "\n",
    "df_colour_labels = pd.read_csv(\n",
    "    'colours.csv',\n",
    "    sep=','\n",
    ")\n",
    "\n",
    "colours = pd.merge(colours, df_colour_labels, on='VEHICLE_COLOUR_1', how='left')\n",
    "\n",
    "del colours['VEHICLE_COLOUR_1']"
   ]
  },
  {
   "cell_type": "markdown",
   "metadata": {},
   "source": [
    "### What colour cars are most frequently involved in crashes?"
   ]
  },
  {
   "cell_type": "code",
   "execution_count": 353,
   "metadata": {},
   "outputs": [
    {
     "data": {
      "text/html": [
       "<div>\n",
       "<style>\n",
       "    .dataframe thead tr:only-child th {\n",
       "        text-align: right;\n",
       "    }\n",
       "\n",
       "    .dataframe thead th {\n",
       "        text-align: left;\n",
       "    }\n",
       "\n",
       "    .dataframe tbody tr th {\n",
       "        vertical-align: top;\n",
       "    }\n",
       "</style>\n",
       "<table border=\"1\" class=\"dataframe\">\n",
       "  <thead>\n",
       "    <tr style=\"text-align: right;\">\n",
       "      <th></th>\n",
       "      <th>count</th>\n",
       "      <th>colour</th>\n",
       "    </tr>\n",
       "  </thead>\n",
       "  <tbody>\n",
       "    <tr>\n",
       "      <th>15</th>\n",
       "      <td>61342</td>\n",
       "      <td>White</td>\n",
       "    </tr>\n",
       "    <tr>\n",
       "      <th>14</th>\n",
       "      <td>41002</td>\n",
       "      <td>Silver</td>\n",
       "    </tr>\n",
       "    <tr>\n",
       "      <th>1</th>\n",
       "      <td>35507</td>\n",
       "      <td>Blue</td>\n",
       "    </tr>\n",
       "    <tr>\n",
       "      <th>0</th>\n",
       "      <td>28473</td>\n",
       "      <td>Black</td>\n",
       "    </tr>\n",
       "    <tr>\n",
       "      <th>13</th>\n",
       "      <td>27880</td>\n",
       "      <td>Red</td>\n",
       "    </tr>\n",
       "  </tbody>\n",
       "</table>\n",
       "</div>"
      ],
      "text/plain": [
       "    count  colour\n",
       "15  61342   White\n",
       "14  41002  Silver\n",
       "1   35507    Blue\n",
       "0   28473   Black\n",
       "13  27880     Red"
      ]
     },
     "execution_count": 353,
     "metadata": {},
     "output_type": "execute_result"
    }
   ],
   "source": [
    "colours.sort_values(by='count',ascending=False).head(5)"
   ]
  },
  {
   "cell_type": "markdown",
   "metadata": {},
   "source": [
    "# Person statistics"
   ]
  },
  {
   "cell_type": "code",
   "execution_count": 396,
   "metadata": {},
   "outputs": [
    {
     "name": "stdout",
     "output_type": "stream",
     "text": [
      "         ACCIDENT_NO PERSON_ID VEHICLE_ID SEX   AGE Age Group  INJ_LEVEL  \\\n",
      "3       T20060000010        A           A   M  72.0       70+          4   \n",
      "4       T20060000010        B           B   F  62.0     60-64          3   \n",
      "5       T20060000010        C           C   M  39.0     30-39          4   \n",
      "8       T20060000018        A           A   M  30.0     30-39          4   \n",
      "9       T20060000018        B           B   F  20.0     17-21          3   \n",
      "11      T20060000022        A           A   M  45.0     40-49          4   \n",
      "12      T20060000023        A           A   M  43.0     40-49          2   \n",
      "13      T20060000023        B           B   M  42.0     40-49          4   \n",
      "15      T20060000026        A           A   M  84.0       70+          3   \n",
      "16      T20060000026        B           B   M  51.0     50-59          3   \n",
      "17      T20060000028        A           A   M  85.0       70+          4   \n",
      "18      T20060000028        B           B   M  57.0     50-59          2   \n",
      "19      T20060000035        A           A   F  50.0     50-59          2   \n",
      "20      T20060000042        A           A   M  28.0     26-29          2   \n",
      "24      T20060000044        A           A   F  18.0     17-21          2   \n",
      "25      T20060000044        B           B   M  61.0     60-64          2   \n",
      "27      T20060000046        A           A   F  32.0     30-39          4   \n",
      "29      T20060000047        A           A   M  31.0     30-39          4   \n",
      "31      T20060000050        A           A   F  81.0       70+          2   \n",
      "32      T20060000050        B           B   F  53.0     50-59          3   \n",
      "33      T20060000050        C           C   M  41.0     40-49          4   \n",
      "35      T20060000066        A           A   U   NaN   unknown          4   \n",
      "36      T20060000094        A           A   M  72.0       70+          2   \n",
      "37      T20060000094        B           B   F  54.0     50-59          4   \n",
      "40      T20060000095        A           A   F  51.0     50-59          4   \n",
      "41      T20060000095        B           B   F  38.0     30-39          3   \n",
      "42      T20060000096        A           A   F  23.0     22-25          3   \n",
      "46      T20060000105        A           A   F  18.0     17-21          3   \n",
      "47      T20060000111        A           A   M  28.0     26-29          2   \n",
      "48      T20060000111        B           B   M  30.0     30-39          2   \n",
      "...              ...       ...        ...  ..   ...       ...        ...   \n",
      "374475  T20170008251        A           A   F  31.0     30-39          2   \n",
      "374476  T20170008251        B           B   M  69.0     64-69          4   \n",
      "374477  T20170008270        A           A   M  60.0     60-64          2   \n",
      "374478  T20170008284        A           A   F  32.0     30-39          2   \n",
      "374479  T20170008284        B           B   F  20.0     17-21          4   \n",
      "374480  T20170008284        C           C   F  59.0     50-59          4   \n",
      "374482  T20170008311        A           A   M  20.0     17-21          4   \n",
      "374483  T20170008315        A           A   M  62.0     60-64          3   \n",
      "374484  T20170008322        A           A   M  47.0     40-49          4   \n",
      "374485  T20170008322        B           B   M  25.0     22-25          3   \n",
      "374486  T20170008325        A           A   M  37.0     30-39          3   \n",
      "374487  T20170008348        A           A   F  44.0     40-49          2   \n",
      "374488  T20170008348        B           B   F  20.0     17-21          4   \n",
      "374489  T20170008351        A           A   M  19.0     17-21          4   \n",
      "374490  T20170008351        B           B   F  27.0     26-29          3   \n",
      "374491  T20170008372        A           A   F  65.0     64-69          2   \n",
      "374492  T20170008372        B           B   F  42.0     40-49          4   \n",
      "374493  T20170008393        A           A   M  21.0     17-21          2   \n",
      "374494  T20170008393        B           B   M  41.0     40-49          4   \n",
      "374495  T20170008408        A           A   M  23.0     22-25          4   \n",
      "374496  T20170008408        B           B   M  48.0     40-49          3   \n",
      "374500  T20170008439        A           A   F  29.0     26-29          3   \n",
      "374501  T20170008439        B           B   M  36.0     30-39          4   \n",
      "374502  T20170008439        C           C   M  44.0     40-49          4   \n",
      "374503  T20170008448        A           A   F  59.0     50-59          3   \n",
      "374506  T20170008493        A           A   M  43.0     40-49          2   \n",
      "374507  T20170008547        A           A   M  18.0     17-21          4   \n",
      "374508  T20170008547        B           B   M  67.0     64-69          2   \n",
      "374509  T20170008556        A           A   F  70.0       70+          4   \n",
      "374510  T20170008556        B           B   F  33.0     30-39          3   \n",
      "\n",
      "        Inj Level Desc SEATING_POSITION  HELMET_BELT_WORN ROAD_USER_TYPE  \\\n",
      "3          Not injured               D                  1             2    \n",
      "4         Other injury               D                  1             2    \n",
      "5          Not injured               D                  1             2    \n",
      "8          Not injured               D                  1             2    \n",
      "9         Other injury               D                  1             2    \n",
      "11         Not injured               D                  6             4    \n",
      "12      Serious injury               D                  1             2    \n",
      "13         Not injured               D                  1             2    \n",
      "15        Other injury               D                  1             2    \n",
      "16        Other injury               D                  1             2    \n",
      "17         Not injured               D                  1             2    \n",
      "18      Serious injury               D                  6             4    \n",
      "19      Serious injury               D                  1             2    \n",
      "20      Serious injury               D                  9             2    \n",
      "24      Serious injury               D                  1             2    \n",
      "25      Serious injury               D                  1             2    \n",
      "27         Not injured               D                  1             2    \n",
      "29         Not injured               D                  9             2    \n",
      "31      Serious injury               D                  1             2    \n",
      "32        Other injury               D                  1             2    \n",
      "33         Not injured               D                  1             2    \n",
      "35         Not injured               D                  9             2    \n",
      "36      Serious injury               D                  6             4    \n",
      "37         Not injured               D                  6             4    \n",
      "40         Not injured               D                  1             2    \n",
      "41        Other injury               D                  1             2    \n",
      "42        Other injury               D                  1             2    \n",
      "46        Other injury               D                  1             2    \n",
      "47      Serious injury               D                  1             2    \n",
      "48      Serious injury               D                  1             2    \n",
      "...                ...              ...               ...            ...   \n",
      "374475  Serious injury               D                  2             2    \n",
      "374476     Not injured               D                  1             2    \n",
      "374477  Serious injury               D                  6             4    \n",
      "374478  Serious injury               D                  1             2    \n",
      "374479     Not injured               D                  1             2    \n",
      "374480     Not injured               D                  1             2    \n",
      "374482     Not injured               D                  1             2    \n",
      "374483    Other injury               D                  9             4    \n",
      "374484     Not injured               D                  1             2    \n",
      "374485    Other injury               D                  1             2    \n",
      "374486    Other injury               D                  9             4    \n",
      "374487  Serious injury               D                  1             2    \n",
      "374488     Not injured               D                  1             2    \n",
      "374489     Not injured               D                  9             2    \n",
      "374490    Other injury               D                  9             2    \n",
      "374491  Serious injury               D                  1             2    \n",
      "374492     Not injured               D                  1             2    \n",
      "374493  Serious injury               D                  6             4    \n",
      "374494     Not injured               D                  1             2    \n",
      "374495     Not injured               D                  1             2    \n",
      "374496    Other injury               D                  1             2    \n",
      "374500    Other injury               D                  9             2    \n",
      "374501     Not injured               D                  9             2    \n",
      "374502     Not injured               D                  9             2    \n",
      "374503    Other injury               D                  1             2    \n",
      "374506  Serious injury               D                  6             4    \n",
      "374507     Not injured               D                  1             2    \n",
      "374508  Serious injury               D                  6             4    \n",
      "374509     Not injured               D                  9             2    \n",
      "374510    Other injury               D                  9             2    \n",
      "\n",
      "       Road User Type Desc LICENCE_STATE PEDEST_MOVEMENT  POSTCODE  \\\n",
      "3                  Drivers             V               0    3130.0   \n",
      "4                  Drivers             V               0       NaN   \n",
      "5                  Drivers             V               0    3804.0   \n",
      "8                  Drivers             V               0    3782.0   \n",
      "9                  Drivers             V               0    3805.0   \n",
      "11           Motorcyclists             V               0    3941.0   \n",
      "12                 Drivers             V               0    3171.0   \n",
      "13                 Drivers             V               0    3976.0   \n",
      "15                 Drivers             V               0    3940.0   \n",
      "16                 Drivers             V               0       NaN   \n",
      "17                 Drivers             V               0       NaN   \n",
      "18           Motorcyclists             V               0       NaN   \n",
      "19                 Drivers             V               0       NaN   \n",
      "20                 Drivers             V               0    3910.0   \n",
      "24                 Drivers             V               0    3160.0   \n",
      "25                 Drivers             V               0    3805.0   \n",
      "27                 Drivers             V               0    3910.0   \n",
      "29                 Drivers             V               0       NaN   \n",
      "31                 Drivers             V               0    3980.0   \n",
      "32                 Drivers             V               0    3977.0   \n",
      "33                 Drivers             V               0    3919.0   \n",
      "35                 Drivers             Z               0       NaN   \n",
      "36           Motorcyclists             V               0    3824.0   \n",
      "37           Motorcyclists             V               0       NaN   \n",
      "40                 Drivers             V               0       NaN   \n",
      "41                 Drivers             V               0    3802.0   \n",
      "42                 Drivers             V               0    3030.0   \n",
      "46                 Drivers             V               0    3199.0   \n",
      "47                 Drivers             V               0    3150.0   \n",
      "48                 Drivers             V               0    3802.0   \n",
      "...                    ...           ...             ...       ...   \n",
      "374475             Drivers             V               0    3178.0   \n",
      "374476             Drivers             V               0    3833.0   \n",
      "374477       Motorcyclists             V               0    3551.0   \n",
      "374478             Drivers             V               0    3420.0   \n",
      "374479             Drivers             V               0    3116.0   \n",
      "374480             Drivers             V               0    3138.0   \n",
      "374482             Drivers             V               0    3875.0   \n",
      "374483       Motorcyclists             V               0    3127.0   \n",
      "374484             Drivers             V               0    3931.0   \n",
      "374485             Drivers             V               0    3174.0   \n",
      "374486       Motorcyclists             V               0    3440.0   \n",
      "374487             Drivers             V               0    3977.0   \n",
      "374488             Drivers             V               0    3977.0   \n",
      "374489             Drivers             V               0    3084.0   \n",
      "374490             Drivers             V               0    3099.0   \n",
      "374491             Drivers             V               0    3551.0   \n",
      "374492             Drivers             V               0    3550.0   \n",
      "374493       Motorcyclists             V               0    3093.0   \n",
      "374494             Drivers             V               0    3084.0   \n",
      "374495             Drivers             V               0    3216.0   \n",
      "374496             Drivers             V               0    3223.0   \n",
      "374500             Drivers             V               0    3012.0   \n",
      "374501             Drivers             V               0    3910.0   \n",
      "374502             Drivers             V               0    3218.0   \n",
      "374503             Drivers             V               0    3357.0   \n",
      "374506       Motorcyclists             V               0    3030.0   \n",
      "374507             Drivers             V               0    3929.0   \n",
      "374508       Motorcyclists             V               0    3135.0   \n",
      "374509             Drivers             V               0    3978.0   \n",
      "374510             Drivers             V               0    3978.0   \n",
      "\n",
      "       TAKEN_HOSPITAL EJECTED_CODE  \n",
      "3                                0  \n",
      "4                   N            0  \n",
      "5                                0  \n",
      "8                                0  \n",
      "9                   N            0  \n",
      "11                               0  \n",
      "12                  Y            0  \n",
      "13                               0  \n",
      "15                  N            0  \n",
      "16                  Y            0  \n",
      "17                               0  \n",
      "18                  Y            1  \n",
      "19                  Y            0  \n",
      "20                  Y            0  \n",
      "24                  Y            0  \n",
      "25                  Y            0  \n",
      "27                               0  \n",
      "29                               0  \n",
      "31                  Y            0  \n",
      "32                  N            0  \n",
      "33                               0  \n",
      "35                               0  \n",
      "36                  Y            1  \n",
      "37                               0  \n",
      "40                               0  \n",
      "41                  N            0  \n",
      "42                  N            0  \n",
      "46                  N            0  \n",
      "47                  Y            0  \n",
      "48                  Y            0  \n",
      "...               ...          ...  \n",
      "374475              Y            0  \n",
      "374476                           0  \n",
      "374477              Y            1  \n",
      "374478              Y            0  \n",
      "374479                           0  \n",
      "374480                           0  \n",
      "374482                           0  \n",
      "374483                           1  \n",
      "374484                           0  \n",
      "374485                           0  \n",
      "374486              N            9  \n",
      "374487              Y            0  \n",
      "374488                           0  \n",
      "374489                           0  \n",
      "374490                           0  \n",
      "374491              Y            0  \n",
      "374492                           0  \n",
      "374493              Y            1  \n",
      "374494                           0  \n",
      "374495                           0  \n",
      "374496                           0  \n",
      "374500                           0  \n",
      "374501                           0  \n",
      "374502                           0  \n",
      "374503                           0  \n",
      "374506              Y            1  \n",
      "374507                           0  \n",
      "374508              Y            1  \n",
      "374509                           0  \n",
      "374510                           0  \n",
      "\n",
      "[247548 rows x 17 columns]\n"
     ]
    }
   ],
   "source": [
    "df_person = pd.read_csv(\n",
    "    'vicroads_data/ACCIDENT/PERSON.csv', # file name and path\n",
    "    sep=',', # separated by commas\n",
    "    low_memory = False\n",
    ")\n",
    "\n",
    "drivers = ['Drivers','Motorcyclists']\n",
    "\n",
    "df_person_drivers = df_person[df_person['Road User Type Desc'].isin(drivers)]\n",
    "print(df_person_drivers)\n",
    "\n",
    "df_person_notdrivers = df_person[ ~(df_person['Road User Type Desc'].isin(drivers) )]"
   ]
  },
  {
   "cell_type": "markdown",
   "metadata": {},
   "source": [
    "### Ages"
   ]
  },
  {
   "cell_type": "code",
   "execution_count": 395,
   "metadata": {},
   "outputs": [
    {
     "name": "stdout",
     "output_type": "stream",
     "text": [
      "   Age Group    all  drivers\n",
      "0        0-4   8040        4\n",
      "1      13-15   6779      257\n",
      "2      16-17   8118     1423\n",
      "3      17-21  43341    29018\n",
      "4      22-25  37522    26652\n",
      "5      26-29  31465    23059\n",
      "6      30-39  63851    49117\n",
      "7      40-49  55493    44033\n",
      "8       5-12  13528       47\n",
      "9      50-59  41947    32679\n",
      "10     60-64  15012    11284\n",
      "11     64-69  10714     7643\n",
      "12       70+  21851    14398\n",
      "13   unknown  16850     7934\n"
     ]
    }
   ],
   "source": [
    "age_all_people = df_person.groupby('Age Group').size().reset_index(name='all')\n",
    "age_drivers = df_person_drivers.groupby('Age Group').size().reset_index(name='drivers')\n",
    "\n",
    "age = pd.merge(age_all_people, age_drivers, how='left', on='Age Group').sort_values(by='Age Group')\n",
    "print(age)"
   ]
  },
  {
   "cell_type": "code",
   "execution_count": 397,
   "metadata": {},
   "outputs": [],
   "source": [
    "series_all_people = go.Bar(\n",
    "    y = age['all'],\n",
    "    x = age['Age Group'],\n",
    "    name = 'All People',\n",
    "    marker = dict(\n",
    "        color = '#FF6900'\n",
    "    )\n",
    ")\n",
    "\n",
    "series_drivers = go.Bar(\n",
    "    y = age['drivers'],\n",
    "    x = age['Age Group'],\n",
    "    name = 'Drivers',\n",
    "    marker = dict(\n",
    "        color = '#0077C8'\n",
    "    )\n",
    ")\n",
    "\n",
    "layout = go.Layout(\n",
    "    barmode = 'group',\n",
    "    title = 'VicRoads Accident - Accidents by Hour',\n",
    "    titlefont=dict(\n",
    "            family='Open Sans',\n",
    "            size=22\n",
    "    ),\n",
    "    xaxis=dict(\n",
    "        #tickangle = -45, # angle lables at 45 deg\n",
    "        dtick = 1,\n",
    "        title = 'Age Ranges',\n",
    "            titlefont=dict(\n",
    "                family='Open Sans',\n",
    "                size=16\n",
    "            )\n",
    "    ),\n",
    "    yaxis = dict(\n",
    "        title = 'Number of People',\n",
    "        titlefont=dict(\n",
    "            family='Open Sans',\n",
    "            size=16\n",
    "        )\n",
    "    )\n",
    ")\n",
    "\n",
    "data = [series_all_people, series_drivers]\n",
    "\n",
    "figure11 = go.Figure(data=data, layout=layout)"
   ]
  },
  {
   "cell_type": "markdown",
   "metadata": {},
   "source": [
    "### Older people are more likely to be drivers, thoroughly unsurprisingly"
   ]
  },
  {
   "cell_type": "code",
   "execution_count": 398,
   "metadata": {},
   "outputs": [
    {
     "data": {
      "application/vnd.plotly.v1+json": {
       "data": [
        {
         "marker": {
          "color": "#FF6900"
         },
         "name": "All People",
         "type": "bar",
         "x": [
          "0-4",
          "13-15",
          "16-17",
          "17-21",
          "22-25",
          "26-29",
          "30-39",
          "40-49",
          "5-12",
          "50-59",
          "60-64",
          "64-69",
          "70+",
          "unknown"
         ],
         "y": [
          8040,
          6779,
          8118,
          43341,
          37522,
          31465,
          63851,
          55493,
          13528,
          41947,
          15012,
          10714,
          21851,
          16850
         ]
        },
        {
         "marker": {
          "color": "#0077C8"
         },
         "name": "Drivers",
         "type": "bar",
         "x": [
          "0-4",
          "13-15",
          "16-17",
          "17-21",
          "22-25",
          "26-29",
          "30-39",
          "40-49",
          "5-12",
          "50-59",
          "60-64",
          "64-69",
          "70+",
          "unknown"
         ],
         "y": [
          4,
          257,
          1423,
          29018,
          26652,
          23059,
          49117,
          44033,
          47,
          32679,
          11284,
          7643,
          14398,
          7934
         ]
        }
       ],
       "layout": {
        "barmode": "group",
        "title": "VicRoads Accident - Accidents by Hour",
        "titlefont": {
         "family": "Open Sans",
         "size": 22
        },
        "xaxis": {
         "dtick": 1,
         "title": "Age Ranges",
         "titlefont": {
          "family": "Open Sans",
          "size": 16
         }
        },
        "yaxis": {
         "title": "Number of People",
         "titlefont": {
          "family": "Open Sans",
          "size": 16
         }
        }
       }
      },
      "text/html": [
       "<div id=\"26ed2a28-d0c0-486d-8735-9d2584e2ffa1\" style=\"height: 525px; width: 100%;\" class=\"plotly-graph-div\"></div><script type=\"text/javascript\">require([\"plotly\"], function(Plotly) { window.PLOTLYENV=window.PLOTLYENV || {};window.PLOTLYENV.BASE_URL=\"https://plot.ly\";Plotly.newPlot(\"26ed2a28-d0c0-486d-8735-9d2584e2ffa1\", [{\"type\": \"bar\", \"y\": [8040, 6779, 8118, 43341, 37522, 31465, 63851, 55493, 13528, 41947, 15012, 10714, 21851, 16850], \"x\": [\"0-4\", \"13-15\", \"16-17\", \"17-21\", \"22-25\", \"26-29\", \"30-39\", \"40-49\", \"5-12\", \"50-59\", \"60-64\", \"64-69\", \"70+\", \"unknown\"], \"name\": \"All People\", \"marker\": {\"color\": \"#FF6900\"}}, {\"type\": \"bar\", \"y\": [4, 257, 1423, 29018, 26652, 23059, 49117, 44033, 47, 32679, 11284, 7643, 14398, 7934], \"x\": [\"0-4\", \"13-15\", \"16-17\", \"17-21\", \"22-25\", \"26-29\", \"30-39\", \"40-49\", \"5-12\", \"50-59\", \"60-64\", \"64-69\", \"70+\", \"unknown\"], \"name\": \"Drivers\", \"marker\": {\"color\": \"#0077C8\"}}], {\"barmode\": \"group\", \"title\": \"VicRoads Accident - Accidents by Hour\", \"titlefont\": {\"family\": \"Open Sans\", \"size\": 22}, \"xaxis\": {\"dtick\": 1, \"title\": \"Age Ranges\", \"titlefont\": {\"family\": \"Open Sans\", \"size\": 16}}, \"yaxis\": {\"title\": \"Number of People\", \"titlefont\": {\"family\": \"Open Sans\", \"size\": 16}}}, {\"showLink\": true, \"linkText\": \"Export to plot.ly\"})});</script>"
      ],
      "text/vnd.plotly.v1+html": [
       "<div id=\"26ed2a28-d0c0-486d-8735-9d2584e2ffa1\" style=\"height: 525px; width: 100%;\" class=\"plotly-graph-div\"></div><script type=\"text/javascript\">require([\"plotly\"], function(Plotly) { window.PLOTLYENV=window.PLOTLYENV || {};window.PLOTLYENV.BASE_URL=\"https://plot.ly\";Plotly.newPlot(\"26ed2a28-d0c0-486d-8735-9d2584e2ffa1\", [{\"type\": \"bar\", \"y\": [8040, 6779, 8118, 43341, 37522, 31465, 63851, 55493, 13528, 41947, 15012, 10714, 21851, 16850], \"x\": [\"0-4\", \"13-15\", \"16-17\", \"17-21\", \"22-25\", \"26-29\", \"30-39\", \"40-49\", \"5-12\", \"50-59\", \"60-64\", \"64-69\", \"70+\", \"unknown\"], \"name\": \"All People\", \"marker\": {\"color\": \"#FF6900\"}}, {\"type\": \"bar\", \"y\": [4, 257, 1423, 29018, 26652, 23059, 49117, 44033, 47, 32679, 11284, 7643, 14398, 7934], \"x\": [\"0-4\", \"13-15\", \"16-17\", \"17-21\", \"22-25\", \"26-29\", \"30-39\", \"40-49\", \"5-12\", \"50-59\", \"60-64\", \"64-69\", \"70+\", \"unknown\"], \"name\": \"Drivers\", \"marker\": {\"color\": \"#0077C8\"}}], {\"barmode\": \"group\", \"title\": \"VicRoads Accident - Accidents by Hour\", \"titlefont\": {\"family\": \"Open Sans\", \"size\": 22}, \"xaxis\": {\"dtick\": 1, \"title\": \"Age Ranges\", \"titlefont\": {\"family\": \"Open Sans\", \"size\": 16}}, \"yaxis\": {\"title\": \"Number of People\", \"titlefont\": {\"family\": \"Open Sans\", \"size\": 16}}}, {\"showLink\": true, \"linkText\": \"Export to plot.ly\"})});</script>"
      ]
     },
     "metadata": {},
     "output_type": "display_data"
    }
   ],
   "source": [
    "py.iplot(figure11, filename='figure10')\n",
    "#pyonline.image.ishow(figure10, width=1500, height=750)"
   ]
  }
 ],
 "metadata": {
  "kernelspec": {
   "display_name": "Python 3",
   "language": "python",
   "name": "python3"
  },
  "language_info": {
   "codemirror_mode": {
    "name": "ipython",
    "version": 3
   },
   "file_extension": ".py",
   "mimetype": "text/x-python",
   "name": "python",
   "nbconvert_exporter": "python",
   "pygments_lexer": "ipython3",
   "version": "3.6.1"
  }
 },
 "nbformat": 4,
 "nbformat_minor": 2
}
