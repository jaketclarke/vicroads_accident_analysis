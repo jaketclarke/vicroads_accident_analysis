{
 "cells": [
  {
   "cell_type": "markdown",
   "metadata": {
    "collapsed": true
   },
   "source": [
    "# Some interesting things from VicRoads Crash Stats"
   ]
  },
  {
   "cell_type": "markdown",
   "metadata": {},
   "source": [
    "#### Import some data"
   ]
  },
  {
   "cell_type": "code",
   "execution_count": 3,
   "metadata": {
    "collapsed": true
   },
   "outputs": [],
   "source": [
    "import pandas as pd\n",
    "\n",
    "df_accident = pd.read_csv(\n",
    "    'vicroads_data/ACCIDENT/ACCIDENT.csv', # file name and path\n",
    "    sep=',', # separated by commas\n",
    "    index_col=0 # first column should be primary key\n",
    ")"
   ]
  },
  {
   "cell_type": "code",
   "execution_count": 4,
   "metadata": {},
   "outputs": [
    {
     "name": "stdout",
     "output_type": "stream",
     "text": [
      "             ACCIDENTDATE ACCIDENTTIME  ACCIDENT_TYPE  \\\n",
      "ACCIDENT_NO                                             \n",
      "T20060000010   13/01/2006     12.42.00              1   \n",
      "T20060000018   13/01/2006     19.10.00              1   \n",
      "T20060000022   14/01/2006     12.10.00              7   \n",
      "\n",
      "                          Accident Type Desc  DAY_OF_WEEK  \\\n",
      "ACCIDENT_NO                                                 \n",
      "T20060000010          Collision with vehicle            6   \n",
      "T20060000018          Collision with vehicle            6   \n",
      "T20060000022  Fall from or in moving vehicle            7   \n",
      "\n",
      "             Day Week Description  DCA_CODE  \\\n",
      "ACCIDENT_NO                                   \n",
      "T20060000010               Friday       113   \n",
      "T20060000018               Friday       113   \n",
      "T20060000022             Saturday       190   \n",
      "\n",
      "                                             DCA Description DIRECTORY  \\\n",
      "ACCIDENT_NO                                                              \n",
      "T20060000010  RIGHT NEAR (INTERSECTIONS ONLY)                      MEL   \n",
      "T20060000018  RIGHT NEAR (INTERSECTIONS ONLY)                      MEL   \n",
      "T20060000022        FELL IN/FROM VEHICLE                           MEL   \n",
      "\n",
      "              EDITION     ...     NO_PERSONS NO_PERSONS_INJ_2  \\\n",
      "ACCIDENT_NO               ...                                   \n",
      "T20060000010     40.0     ...              6                0   \n",
      "T20060000018     40.0     ...              4                0   \n",
      "T20060000022     40.0     ...              2                1   \n",
      "\n",
      "              NO_PERSONS_INJ_3  NO_PERSONS_KILLED NO_PERSONS_NOT_INJ  \\\n",
      "ACCIDENT_NO                                                            \n",
      "T20060000010                 1                  0                  5   \n",
      "T20060000018                 1                  0                  3   \n",
      "T20060000022                 0                  0                  1   \n",
      "\n",
      "              POLICE_ATTEND  ROAD_GEOMETRY   Road Geometry Desc  SEVERITY  \\\n",
      "ACCIDENT_NO                                                                 \n",
      "T20060000010              1              1   Cross intersection         3   \n",
      "T20060000018              1              2       T intersection         3   \n",
      "T20060000022              1              5  Not at intersection         2   \n",
      "\n",
      "              SPEED_ZONE  \n",
      "ACCIDENT_NO               \n",
      "T20060000010          60  \n",
      "T20060000018          70  \n",
      "T20060000022         100  \n",
      "\n",
      "[3 rows x 27 columns]\n"
     ]
    }
   ],
   "source": [
    "# data read okay?\n",
    "print(df_accident.head(3))"
   ]
  },
  {
   "cell_type": "markdown",
   "metadata": {},
   "source": [
    "## charts"
   ]
  },
  {
   "cell_type": "markdown",
   "metadata": {},
   "source": [
    "#### Include Libraries"
   ]
  },
  {
   "cell_type": "code",
   "execution_count": 5,
   "metadata": {},
   "outputs": [
    {
     "data": {
      "text/html": [
       "<script>requirejs.config({paths: { 'plotly': ['https://cdn.plot.ly/plotly-latest.min']},});if(!window.Plotly) {{require(['plotly'],function(plotly) {window.Plotly=plotly;});}}</script>"
      ],
      "text/vnd.plotly.v1+html": [
       "<script>requirejs.config({paths: { 'plotly': ['https://cdn.plot.ly/plotly-latest.min']},});if(!window.Plotly) {{require(['plotly'],function(plotly) {window.Plotly=plotly;});}}</script>"
      ]
     },
     "metadata": {},
     "output_type": "display_data"
    }
   ],
   "source": [
    "import pandas as pd\n",
    "import numpy as np\n",
    "import plotly.offline as py\n",
    "from plotly.offline import *\n",
    "import plotly.graph_objs as go\n",
    "\n",
    "init_notebook_mode(connected=True) # render plotly charts in the notebook on the fly"
   ]
  },
  {
   "cell_type": "markdown",
   "metadata": {},
   "source": [
    "#### data prep\n",
    "\n",
    "Manipulate data: create a copy of df_accident, add columns for:\n",
    "* Year\n",
    "* Month\n",
    "\n",
    "Filter out 2006 and 2017, as they are incomplete in this data"
   ]
  },
  {
   "cell_type": "code",
   "execution_count": 6,
   "metadata": {},
   "outputs": [
    {
     "name": "stdout",
     "output_type": "stream",
     "text": [
      "             ACCIDENTDATE ACCIDENTTIME  ACCIDENT_TYPE  \\\n",
      "ACCIDENT_NO                                             \n",
      "T20070000004    1/01/2007     02.55.00              4   \n",
      "T20070000008    1/01/2007     03.59.00              1   \n",
      "T20070000009    1/01/2007     03.30.00              4   \n",
      "\n",
      "                         Accident Type Desc  DAY_OF_WEEK Day Week Description  \\\n",
      "ACCIDENT_NO                                                                     \n",
      "T20070000004  Collision with a fixed object            2               Monday   \n",
      "T20070000008         Collision with vehicle            2               Monday   \n",
      "T20070000009  Collision with a fixed object            2               Monday   \n",
      "\n",
      "              DCA_CODE                                    DCA Description  \\\n",
      "ACCIDENT_NO                                                                 \n",
      "T20070000004       171  LEFT OFF CARRIAGEWAY INTO OBJECT/PARKED VEHICL...   \n",
      "T20070000008       140                  U TURN                              \n",
      "T20070000009       181  OFF RIGHT BEND INTO OBJECT/PARKED VEHICLE     ...   \n",
      "\n",
      "             DIRECTORY  EDITION  ...  NO_PERSONS_NOT_INJ POLICE_ATTEND  \\\n",
      "ACCIDENT_NO                      ...                                     \n",
      "T20070000004       VCS      9.0  ...                   0             1   \n",
      "T20070000008       MEL     40.0  ...                   2             1   \n",
      "T20070000009       MEL     40.0  ...                   0             1   \n",
      "\n",
      "              ROAD_GEOMETRY   Road Geometry Desc SEVERITY  SPEED_ZONE  \\\n",
      "ACCIDENT_NO                                                             \n",
      "T20070000004              5  Not at intersection        2          50   \n",
      "T20070000008              2       T intersection        2          60   \n",
      "T20070000009              5  Not at intersection        3          50   \n",
      "\n",
      "                            date  year  month  hour  \n",
      "ACCIDENT_NO                                          \n",
      "T20070000004 2007-01-01 02:55:00  2007      1     2  \n",
      "T20070000008 2007-01-01 03:59:00  2007      1     3  \n",
      "T20070000009 2007-01-01 03:30:00  2007      1     3  \n",
      "\n",
      "[3 rows x 31 columns]\n"
     ]
    }
   ],
   "source": [
    "# Manipulate data\n",
    "df_accident_mod = df_accident\n",
    "#print(df_accident_mod.head(3))\n",
    "\n",
    "## DATES\n",
    "\n",
    "# make a string representing date time\n",
    "df_accident_mod['date'] = df_accident_mod['ACCIDENTDATE'] + ' ' + df_accident_mod['ACCIDENTTIME']\n",
    "\n",
    "# convert to datetime\n",
    "df_accident_mod['date'] = pd.to_datetime(df_accident_mod['date'], format=\"%d/%m/%Y %H.%M.%S\")\n",
    "\n",
    "# make some useful date fields\n",
    "df_accident_mod['year'] = pd.DatetimeIndex(df_accident_mod['date']).year\n",
    "df_accident_mod['month'] = pd.DatetimeIndex(df_accident_mod['date']).month\n",
    "df_accident_mod['hour'] = pd.DatetimeIndex(df_accident_mod['date']).hour\n",
    "\n",
    "#print(df_accident_mod.head(3))\n",
    "\n",
    "## FILTER\n",
    "\n",
    "# remove < 2007 and > 2016, as 2006 and 2017 are incomplete years\n",
    "df_accident_mod = df_accident_mod[df_accident_mod['year'] >= 2007]\n",
    "df_accident_mod = df_accident_mod[df_accident_mod['year'] <= 2016]\n",
    "\n",
    "# remove speed limits > 110 km/h - 777, 888, and 999 are used to code:\n",
    "# 777 = other\n",
    "# 888 = camping grounds or off road\n",
    "# 999 = not known\n",
    "\n",
    "df_accident_mod = df_accident_mod[df_accident_mod['SPEED_ZONE'] <= 110]\n",
    "\n",
    "print(df_accident_mod.head(3))"
   ]
  },
  {
   "cell_type": "markdown",
   "metadata": {},
   "source": [
    "#### Make some charts\n",
    "\n",
    "* run group bys in pandas\n",
    "* configure chart layout\n",
    "* display"
   ]
  },
  {
   "cell_type": "code",
   "execution_count": 7,
   "metadata": {},
   "outputs": [
    {
     "name": "stdout",
     "output_type": "stream",
     "text": [
      "   year    cnt\n",
      "0  2007  12980\n",
      "1  2008  13494\n",
      "2  2009  13097\n"
     ]
    }
   ],
   "source": [
    "accidents_by_year =  df_accident_mod.groupby([ 'year']).size().reset_index(name=\"cnt\")\n",
    "print(accidents_by_year.head(3))"
   ]
  },
  {
   "cell_type": "code",
   "execution_count": 8,
   "metadata": {
    "collapsed": true
   },
   "outputs": [],
   "source": [
    "seriesCrashesbyYearBar = go.Bar(\n",
    "    x = accidents_by_year['year'],\n",
    "    y = accidents_by_year['cnt'],\n",
    "    #mode = 'scatter',\n",
    "    name = 'Crashes per Year',\n",
    "    marker = dict(\n",
    "        color = '#ee2737'\n",
    "    )\n",
    ")\n",
    "\n",
    "layout = go.Layout(\n",
    "    title = 'VicRoads Accident - Accidents per Year',\n",
    "    titlefont=dict(\n",
    "            family='Open Sans',\n",
    "            size=22#,\n",
    "            #color='#7f7f7f'\n",
    "    ),\n",
    "    xaxis=dict(\n",
    "        tickangle = -45, # angle lables at 45 deg\n",
    "        dtick = 1, # label every 1 bars\n",
    "        title = 'Year',\n",
    "            titlefont=dict(\n",
    "                family='Open Sans',\n",
    "                size=16#,\n",
    "                #color='#7f7f7f'\n",
    "            )\n",
    "    ),\n",
    "    yaxis = dict(\n",
    "        title = 'Count',\n",
    "        titlefont=dict(\n",
    "            family='Open Sans',\n",
    "            size=16#,\n",
    "            #color='#7f7f7f'\n",
    "        )\n",
    "    )\n",
    ")\n",
    "\n",
    "data = [seriesCrashesbyYearBar] # can be multiple series\n",
    "\n",
    "fig = go.Figure(data=data, layout=layout)"
   ]
  },
  {
   "cell_type": "markdown",
   "metadata": {},
   "source": [
    "### Number of accidents over time\n",
    "The number of accidents per year has been relatively steady for the last decade"
   ]
  },
  {
   "cell_type": "code",
   "execution_count": 9,
   "metadata": {},
   "outputs": [
    {
     "data": {
      "application/vnd.plotly.v1+json": {
       "data": [
        {
         "marker": {
          "color": "#ee2737"
         },
         "name": "Crashes per Year",
         "type": "bar",
         "x": [
          2007,
          2008,
          2009,
          2010,
          2011,
          2012,
          2013,
          2014,
          2015,
          2016
         ],
         "y": [
          12980,
          13494,
          13097,
          12842,
          12762,
          12925,
          13001,
          13289,
          13360,
          12858
         ]
        }
       ],
       "layout": {
        "title": "VicRoads Accident - Accidents per Year",
        "titlefont": {
         "family": "Open Sans",
         "size": 22
        },
        "xaxis": {
         "dtick": 1,
         "tickangle": -45,
         "title": "Year",
         "titlefont": {
          "family": "Open Sans",
          "size": 16
         }
        },
        "yaxis": {
         "title": "Count",
         "titlefont": {
          "family": "Open Sans",
          "size": 16
         }
        }
       }
      },
      "text/html": [
       "<div id=\"47749605-56c7-4700-bc90-9737870d117b\" style=\"height: 525px; width: 100%;\" class=\"plotly-graph-div\"></div><script type=\"text/javascript\">require([\"plotly\"], function(Plotly) { window.PLOTLYENV=window.PLOTLYENV || {};window.PLOTLYENV.BASE_URL=\"https://plot.ly\";Plotly.newPlot(\"47749605-56c7-4700-bc90-9737870d117b\", [{\"type\": \"bar\", \"x\": [2007, 2008, 2009, 2010, 2011, 2012, 2013, 2014, 2015, 2016], \"y\": [12980, 13494, 13097, 12842, 12762, 12925, 13001, 13289, 13360, 12858], \"name\": \"Crashes per Year\", \"marker\": {\"color\": \"#ee2737\"}}], {\"title\": \"VicRoads Accident - Accidents per Year\", \"titlefont\": {\"family\": \"Open Sans\", \"size\": 22}, \"xaxis\": {\"tickangle\": -45, \"dtick\": 1, \"title\": \"Year\", \"titlefont\": {\"family\": \"Open Sans\", \"size\": 16}}, \"yaxis\": {\"title\": \"Count\", \"titlefont\": {\"family\": \"Open Sans\", \"size\": 16}}}, {\"showLink\": true, \"linkText\": \"Export to plot.ly\"})});</script>"
      ],
      "text/vnd.plotly.v1+html": [
       "<div id=\"47749605-56c7-4700-bc90-9737870d117b\" style=\"height: 525px; width: 100%;\" class=\"plotly-graph-div\"></div><script type=\"text/javascript\">require([\"plotly\"], function(Plotly) { window.PLOTLYENV=window.PLOTLYENV || {};window.PLOTLYENV.BASE_URL=\"https://plot.ly\";Plotly.newPlot(\"47749605-56c7-4700-bc90-9737870d117b\", [{\"type\": \"bar\", \"x\": [2007, 2008, 2009, 2010, 2011, 2012, 2013, 2014, 2015, 2016], \"y\": [12980, 13494, 13097, 12842, 12762, 12925, 13001, 13289, 13360, 12858], \"name\": \"Crashes per Year\", \"marker\": {\"color\": \"#ee2737\"}}], {\"title\": \"VicRoads Accident - Accidents per Year\", \"titlefont\": {\"family\": \"Open Sans\", \"size\": 22}, \"xaxis\": {\"tickangle\": -45, \"dtick\": 1, \"title\": \"Year\", \"titlefont\": {\"family\": \"Open Sans\", \"size\": 16}}, \"yaxis\": {\"title\": \"Count\", \"titlefont\": {\"family\": \"Open Sans\", \"size\": 16}}}, {\"showLink\": true, \"linkText\": \"Export to plot.ly\"})});</script>"
      ]
     },
     "metadata": {},
     "output_type": "display_data"
    }
   ],
   "source": [
    "py.iplot(fig, filename='figureYear')"
   ]
  },
  {
   "cell_type": "markdown",
   "metadata": {},
   "source": [
    "#### Accidents by Month"
   ]
  },
  {
   "cell_type": "markdown",
   "metadata": {},
   "source": [
    "# TODO\n",
    "* Control for days in month\n",
    "* label months Jan, Feb, etc"
   ]
  },
  {
   "cell_type": "code",
   "execution_count": 10,
   "metadata": {},
   "outputs": [
    {
     "name": "stdout",
     "output_type": "stream",
     "text": [
      "   month    cnt\n",
      "0      1  10048\n",
      "1      2  10993\n",
      "2      3  11963\n"
     ]
    }
   ],
   "source": [
    "accidents_by_month =  df_accident_mod.groupby([ 'month']).size().reset_index(name=\"cnt\")\n",
    "print(accidents_by_month.head(3))\n",
    "\n",
    "monthSeries = go.Bar(\n",
    "    x = accidents_by_month['cnt'],\n",
    "    y = accidents_by_month['month'],\n",
    "    \n",
    "    #mode = 'scatter',\n",
    "    name = 'Crashes per Month',\n",
    "    marker = dict(\n",
    "        color = '#ee2737'\n",
    "    ),\n",
    "    orientation = 'h'\n",
    ")\n",
    "\n",
    "layout = go.Layout(\n",
    "    title = 'VicRoads Accident - Accidents per Month',\n",
    "    titlefont=dict(\n",
    "            family='Open Sans',\n",
    "            size=22#,\n",
    "            #color='#7f7f7f'\n",
    "    ),\n",
    "    xaxis=dict(\n",
    "        tickangle = -45, # angle lables at 45 deg\n",
    "        dtick = 1, # label every 1 bars\n",
    "        title = 'Month',\n",
    "            titlefont=dict(\n",
    "                family='Open Sans',\n",
    "                size=16#,\n",
    "                #color='#7f7f7f'\n",
    "            )\n",
    "    ),\n",
    "    yaxis = dict(\n",
    "        title = 'Count',\n",
    "        titlefont=dict(\n",
    "            family='Open Sans',\n",
    "            size=16#,\n",
    "            #color='#7f7f7f'\n",
    "        )\n",
    "    )\n",
    ")\n",
    "\n",
    "data = [monthSeries] # can be multiple series\n",
    "\n",
    "figureMonth = go.Figure(data=data, layout=layout)\n",
    "\n",
    "#py.iplot(figureMonth, filename='figureMonth')"
   ]
  },
  {
   "cell_type": "markdown",
   "metadata": {},
   "source": [
    "#### Accidents by Speed Zone"
   ]
  },
  {
   "cell_type": "code",
   "execution_count": 11,
   "metadata": {},
   "outputs": [
    {
     "name": "stdout",
     "output_type": "stream",
     "text": [
      "   SPEED_ZONE    cnt\n",
      "0          30    170\n",
      "1          40   5388\n",
      "2          50  25395\n"
     ]
    }
   ],
   "source": [
    "# 777, 888, and 999 exist in the SPEED_ZONE column\n",
    "# remove >110\n",
    "\n",
    "\n",
    "accidents_by_speed =  df_accident_mod.groupby([ 'SPEED_ZONE']).size().reset_index(name=\"cnt\")\n",
    "print(accidents_by_speed.head(3))\n",
    "\n",
    "speedLimitZoneSeries = go.Bar(\n",
    "    y = accidents_by_speed['cnt'],\n",
    "    x = accidents_by_speed['SPEED_ZONE'],\n",
    "    name = 'Num. Crashes',\n",
    "    marker = dict(\n",
    "        color = '#ee2737'\n",
    "    )\n",
    ")\n",
    "\n",
    "layout = go.Layout(\n",
    "    title = 'VicRoads Accident - Accidents by Speed Limit Zone',\n",
    "    titlefont=dict(\n",
    "            family='Open Sans',\n",
    "            size=22#,\n",
    "            #color='#7f7f7f'\n",
    "    ),\n",
    "    xaxis=dict(\n",
    "        tickangle = -45, # angle lables at 45 deg\n",
    "        dtick = 10, # label every 1 bars\n",
    "        title = 'Speed Limit Zone',\n",
    "            titlefont=dict(\n",
    "                family='Open Sans',\n",
    "                size=16#,\n",
    "                #color='#7f7f7f'\n",
    "            )\n",
    "    ),\n",
    "    yaxis = dict(\n",
    "        title = 'Count',\n",
    "        titlefont=dict(\n",
    "            family='Open Sans',\n",
    "            size=16#,\n",
    "            #color='#7f7f7f'\n",
    "        )\n",
    "    )\n",
    ")\n",
    "\n",
    "data = [speedLimitZoneSeries] # can be multiple series\n",
    "\n",
    "figurespeedLimitZone = go.Figure(data=data, layout=layout)"
   ]
  },
  {
   "cell_type": "markdown",
   "metadata": {},
   "source": [
    "### Most accidents happen at lower speeds"
   ]
  },
  {
   "cell_type": "code",
   "execution_count": 12,
   "metadata": {},
   "outputs": [
    {
     "data": {
      "application/vnd.plotly.v1+json": {
       "data": [
        {
         "marker": {
          "color": "#ee2737"
         },
         "name": "Num. Crashes",
         "type": "bar",
         "x": [
          30,
          40,
          50,
          60,
          70,
          75,
          80,
          90,
          100,
          110
         ],
         "y": [
          170,
          5388,
          25395,
          47005,
          10801,
          28,
          18206,
          716,
          21454,
          1445
         ]
        }
       ],
       "layout": {
        "title": "VicRoads Accident - Accidents by Speed Limit Zone",
        "titlefont": {
         "family": "Open Sans",
         "size": 22
        },
        "xaxis": {
         "dtick": 10,
         "tickangle": -45,
         "title": "Speed Limit Zone",
         "titlefont": {
          "family": "Open Sans",
          "size": 16
         }
        },
        "yaxis": {
         "title": "Count",
         "titlefont": {
          "family": "Open Sans",
          "size": 16
         }
        }
       }
      },
      "text/html": [
       "<div id=\"f015ac0e-c176-4736-813c-6bdd0d94bda2\" style=\"height: 525px; width: 100%;\" class=\"plotly-graph-div\"></div><script type=\"text/javascript\">require([\"plotly\"], function(Plotly) { window.PLOTLYENV=window.PLOTLYENV || {};window.PLOTLYENV.BASE_URL=\"https://plot.ly\";Plotly.newPlot(\"f015ac0e-c176-4736-813c-6bdd0d94bda2\", [{\"type\": \"bar\", \"y\": [170, 5388, 25395, 47005, 10801, 28, 18206, 716, 21454, 1445], \"x\": [30, 40, 50, 60, 70, 75, 80, 90, 100, 110], \"name\": \"Num. Crashes\", \"marker\": {\"color\": \"#ee2737\"}}], {\"title\": \"VicRoads Accident - Accidents by Speed Limit Zone\", \"titlefont\": {\"family\": \"Open Sans\", \"size\": 22}, \"xaxis\": {\"tickangle\": -45, \"dtick\": 10, \"title\": \"Speed Limit Zone\", \"titlefont\": {\"family\": \"Open Sans\", \"size\": 16}}, \"yaxis\": {\"title\": \"Count\", \"titlefont\": {\"family\": \"Open Sans\", \"size\": 16}}}, {\"showLink\": true, \"linkText\": \"Export to plot.ly\"})});</script>"
      ],
      "text/vnd.plotly.v1+html": [
       "<div id=\"f015ac0e-c176-4736-813c-6bdd0d94bda2\" style=\"height: 525px; width: 100%;\" class=\"plotly-graph-div\"></div><script type=\"text/javascript\">require([\"plotly\"], function(Plotly) { window.PLOTLYENV=window.PLOTLYENV || {};window.PLOTLYENV.BASE_URL=\"https://plot.ly\";Plotly.newPlot(\"f015ac0e-c176-4736-813c-6bdd0d94bda2\", [{\"type\": \"bar\", \"y\": [170, 5388, 25395, 47005, 10801, 28, 18206, 716, 21454, 1445], \"x\": [30, 40, 50, 60, 70, 75, 80, 90, 100, 110], \"name\": \"Num. Crashes\", \"marker\": {\"color\": \"#ee2737\"}}], {\"title\": \"VicRoads Accident - Accidents by Speed Limit Zone\", \"titlefont\": {\"family\": \"Open Sans\", \"size\": 22}, \"xaxis\": {\"tickangle\": -45, \"dtick\": 10, \"title\": \"Speed Limit Zone\", \"titlefont\": {\"family\": \"Open Sans\", \"size\": 16}}, \"yaxis\": {\"title\": \"Count\", \"titlefont\": {\"family\": \"Open Sans\", \"size\": 16}}}, {\"showLink\": true, \"linkText\": \"Export to plot.ly\"})});</script>"
      ]
     },
     "metadata": {},
     "output_type": "display_data"
    }
   ],
   "source": [
    "py.iplot(figurespeedLimitZone, filename='figurespeedLimitZone')"
   ]
  },
  {
   "cell_type": "markdown",
   "metadata": {},
   "source": [
    "#### All accidents vs Fatal accidents"
   ]
  },
  {
   "cell_type": "code",
   "execution_count": 13,
   "metadata": {},
   "outputs": [
    {
     "name": "stdout",
     "output_type": "stream",
     "text": [
      "   SPEED_ZONE  SEVERITY  cnt\n",
      "0          30         1    1\n",
      "1          30         2   52\n",
      "2          30         3  117\n",
      "   SPEED_ZONE  SEVERITY  cnt\n",
      "0          30         1    1\n",
      "3          40         1   24\n",
      "6          50         1  222\n"
     ]
    },
    {
     "data": {
      "application/vnd.plotly.v1+json": {
       "data": [
        {
         "marker": {
          "color": "#ee2737"
         },
         "name": "Num. Crashes",
         "type": "bar",
         "x": [
          30,
          40,
          50,
          60,
          70,
          75,
          80,
          90,
          100,
          110
         ],
         "y": [
          170,
          5388,
          25395,
          47005,
          10801,
          28,
          18206,
          716,
          21454,
          1445
         ]
        },
        {
         "marker": {
          "color": "#0077c8"
         },
         "name": "Severe Crashes by Speed Limit Zone",
         "type": "bar",
         "x": [
          30,
          40,
          50,
          60,
          70,
          75,
          80,
          90,
          100,
          110
         ],
         "y": [
          1,
          24,
          222,
          475,
          188,
          1,
          385,
          27,
          1131,
          90
         ]
        }
       ],
       "layout": {
        "title": "VicRoads Accident - Accidents by Speed Limit Zone",
        "titlefont": {
         "family": "Open Sans",
         "size": 22
        },
        "xaxis": {
         "dtick": 10,
         "tickangle": -45,
         "title": "Speed Limit Zone",
         "titlefont": {
          "family": "Open Sans",
          "size": 16
         }
        },
        "yaxis": {
         "title": "Count",
         "titlefont": {
          "family": "Open Sans",
          "size": 16
         }
        }
       }
      },
      "text/html": [
       "<div id=\"7e984925-647b-4272-83e3-120ac355b26b\" style=\"height: 525px; width: 100%;\" class=\"plotly-graph-div\"></div><script type=\"text/javascript\">require([\"plotly\"], function(Plotly) { window.PLOTLYENV=window.PLOTLYENV || {};window.PLOTLYENV.BASE_URL=\"https://plot.ly\";Plotly.newPlot(\"7e984925-647b-4272-83e3-120ac355b26b\", [{\"type\": \"bar\", \"y\": [170, 5388, 25395, 47005, 10801, 28, 18206, 716, 21454, 1445], \"x\": [30, 40, 50, 60, 70, 75, 80, 90, 100, 110], \"name\": \"Num. Crashes\", \"marker\": {\"color\": \"#ee2737\"}}, {\"type\": \"bar\", \"y\": [1, 24, 222, 475, 188, 1, 385, 27, 1131, 90], \"x\": [30, 40, 50, 60, 70, 75, 80, 90, 100, 110], \"name\": \"Severe Crashes by Speed Limit Zone\", \"marker\": {\"color\": \"#0077c8\"}}], {\"title\": \"VicRoads Accident - Accidents by Speed Limit Zone\", \"titlefont\": {\"family\": \"Open Sans\", \"size\": 22}, \"xaxis\": {\"tickangle\": -45, \"dtick\": 10, \"title\": \"Speed Limit Zone\", \"titlefont\": {\"family\": \"Open Sans\", \"size\": 16}}, \"yaxis\": {\"title\": \"Count\", \"titlefont\": {\"family\": \"Open Sans\", \"size\": 16}}}, {\"showLink\": true, \"linkText\": \"Export to plot.ly\"})});</script>"
      ],
      "text/vnd.plotly.v1+html": [
       "<div id=\"7e984925-647b-4272-83e3-120ac355b26b\" style=\"height: 525px; width: 100%;\" class=\"plotly-graph-div\"></div><script type=\"text/javascript\">require([\"plotly\"], function(Plotly) { window.PLOTLYENV=window.PLOTLYENV || {};window.PLOTLYENV.BASE_URL=\"https://plot.ly\";Plotly.newPlot(\"7e984925-647b-4272-83e3-120ac355b26b\", [{\"type\": \"bar\", \"y\": [170, 5388, 25395, 47005, 10801, 28, 18206, 716, 21454, 1445], \"x\": [30, 40, 50, 60, 70, 75, 80, 90, 100, 110], \"name\": \"Num. Crashes\", \"marker\": {\"color\": \"#ee2737\"}}, {\"type\": \"bar\", \"y\": [1, 24, 222, 475, 188, 1, 385, 27, 1131, 90], \"x\": [30, 40, 50, 60, 70, 75, 80, 90, 100, 110], \"name\": \"Severe Crashes by Speed Limit Zone\", \"marker\": {\"color\": \"#0077c8\"}}], {\"title\": \"VicRoads Accident - Accidents by Speed Limit Zone\", \"titlefont\": {\"family\": \"Open Sans\", \"size\": 22}, \"xaxis\": {\"tickangle\": -45, \"dtick\": 10, \"title\": \"Speed Limit Zone\", \"titlefont\": {\"family\": \"Open Sans\", \"size\": 16}}, \"yaxis\": {\"title\": \"Count\", \"titlefont\": {\"family\": \"Open Sans\", \"size\": 16}}}, {\"showLink\": true, \"linkText\": \"Export to plot.ly\"})});</script>"
      ]
     },
     "metadata": {},
     "output_type": "display_data"
    }
   ],
   "source": [
    "# group by severity and speed zone\n",
    "accidents_by_speed_by_severity =  df_accident_mod.groupby(['SPEED_ZONE','SEVERITY']).size().reset_index(name=\"cnt\")\n",
    "print(accidents_by_speed_by_severity.head(3))\n",
    "\n",
    "# only keep severe\n",
    "accidents_by_speed_severity_1 = accidents_by_speed_by_severity[accidents_by_speed_by_severity['SEVERITY'] == 1]\n",
    "print(accidents_by_speed_severity_1.head(3))\n",
    "\n",
    "speedLimitZoneSeriesSevere = go.Bar(\n",
    "    y = accidents_by_speed_severity_1['cnt'],\n",
    "    x = accidents_by_speed_severity_1['SPEED_ZONE'],\n",
    "    name = 'Severe Crashes by Speed Limit Zone',\n",
    "    marker = dict(\n",
    "        color = '#0077c8'\n",
    "    )\n",
    ")\n",
    "\n",
    "layout = go.Layout(\n",
    "    #barmode = 'stack',\n",
    "    title = 'VicRoads Accident - Accidents by Speed Limit Zone',\n",
    "    titlefont=dict(\n",
    "            family='Open Sans',\n",
    "            size=22#,\n",
    "            #color='#7f7f7f'\n",
    "    ),\n",
    "    xaxis=dict(\n",
    "        tickangle = -45, # angle lables at 45 deg\n",
    "        dtick = 10, # label every 1 bars\n",
    "        title = 'Speed Limit Zone',\n",
    "            titlefont=dict(\n",
    "                family='Open Sans',\n",
    "                size=16#,\n",
    "                #color='#7f7f7f'\n",
    "            )\n",
    "    ),\n",
    "    yaxis = dict(\n",
    "        title = 'Count',\n",
    "        titlefont=dict(\n",
    "            family='Open Sans',\n",
    "            size=16#,\n",
    "            #color='#7f7f7f'\n",
    "        )\n",
    "    )\n",
    ")\n",
    "\n",
    "data = [speedLimitZoneSeries, speedLimitZoneSeriesSevere] # can be multiple series\n",
    "\n",
    "figurespeedLimitZoneSevere = go.Figure(data=data, layout=layout)\n",
    "\n",
    "py.iplot(figurespeedLimitZoneSevere, filename='figurespeedLimitZoneSevere')"
   ]
  },
  {
   "cell_type": "markdown",
   "metadata": {},
   "source": [
    "#### % Crashes Lethal\n",
    "\n",
    "This snippet of code:\n",
    "* Groups by both Speed Zone and Severity\n",
    "* Applys a function to calculate a fields percentage of the first group by field (speed zone), so all speed zone 30 sum to 100, all speed zone 40 sum to 100, etc\n",
    "* filter for just severe crashes (severity = 1), indicating someone died"
   ]
  },
  {
   "cell_type": "code",
   "execution_count": 14,
   "metadata": {
    "scrolled": true
   },
   "outputs": [
    {
     "name": "stdout",
     "output_type": "stream",
     "text": [
      "    SPEED_ZONE  count\n",
      "0           30   0.59\n",
      "3           40   0.45\n",
      "6           50   0.87\n",
      "9           60   1.01\n",
      "13          70   1.74\n",
      "16          75   3.57\n",
      "19          80   2.11\n",
      "22          90   3.77\n",
      "25         100   5.27\n",
      "28         110   6.23\n"
     ]
    }
   ],
   "source": [
    "# group by severity and speed zone\n",
    "accidents_by_speed_by_severity =  df_accident_mod.groupby(['SPEED_ZONE','SEVERITY']).size()\n",
    "# divide by the first level you grouped by, multiply by 100, to end up with each severitys % of speed zone crashes\n",
    "accidents_by_speed_by_severity_pc = accidents_by_speed_by_severity.groupby(level=0).apply(lambda x:round(\n",
    "                                                 100 * x / float(x.sum()),2))\n",
    "\n",
    "# reset index and name the new column count\n",
    "accidents_by_speed_by_severity_pc = accidents_by_speed_by_severity_pc.reset_index(name=\"count\")\n",
    "\n",
    "# filter for just severe\n",
    "accidents_by_speed_severe_pc = accidents_by_speed_by_severity_pc[accidents_by_speed_by_severity_pc['SEVERITY'] == 1]\n",
    "\n",
    "# drop now-redundant column\n",
    "del accidents_by_speed_severe_pc['SEVERITY']\n",
    "\n",
    "print(accidents_by_speed_severe_pc)\n"
   ]
  },
  {
   "cell_type": "code",
   "execution_count": 15,
   "metadata": {
    "collapsed": true
   },
   "outputs": [],
   "source": [
    "speedLimitZoneSeriesSeverePc = go.Scatter(\n",
    "    y = accidents_by_speed_severe_pc['count'],\n",
    "    x = accidents_by_speed_severe_pc['SPEED_ZONE'],\n",
    "    name = '% Crashes Lethal',\n",
    "    marker = dict(\n",
    "        color = '#0077c8'\n",
    "    ),\n",
    "    yaxis='y2'\n",
    ")\n",
    "\n",
    "layout = go.Layout(\n",
    "    barmode = 'group',\n",
    "    title = 'VicRoads Accident - Accidents by Speed Limit Zone',\n",
    "    titlefont=dict(\n",
    "            family='Open Sans',\n",
    "            size=22\n",
    "    ),\n",
    "    xaxis=dict(\n",
    "        tickangle = -45, # angle lables at 45 deg\n",
    "        dtick = 10, # label every 10th number after 0\n",
    "        title = 'Speed Limit Zone',\n",
    "            titlefont=dict(\n",
    "                family='Open Sans',\n",
    "                size=16\n",
    "            )\n",
    "    ),\n",
    "    yaxis = dict(\n",
    "        title = 'Num. Crashes',\n",
    "        titlefont=dict(\n",
    "            family='Open Sans',\n",
    "            size=16\n",
    "        ),\n",
    "        dtick=5000,\n",
    "        range=[0,65000]\n",
    "    ),\n",
    "    yaxis2=dict(\n",
    "        title='% Crashes Lethal',\n",
    "        overlaying='y',\n",
    "        side='right',\n",
    "        titlefont=dict(\n",
    "            family='Open Sans',\n",
    "            size=16\n",
    "        ),\n",
    "        range=[0,6.5],\n",
    "        dtick = 1\n",
    "    )\n",
    ")\n",
    "\n",
    "data = [speedLimitZoneSeries, speedLimitZoneSeriesSeverePc] # can be multiple series\n",
    "\n",
    "figurespeedLimitZoneSeverePc = go.Figure(data=data, layout=layout)"
   ]
  },
  {
   "cell_type": "markdown",
   "metadata": {},
   "source": [
    "### While most accidents happen at slower speeds, accidents in higher-speed zones are more likely to be deadly"
   ]
  },
  {
   "cell_type": "code",
   "execution_count": 16,
   "metadata": {},
   "outputs": [
    {
     "data": {
      "application/vnd.plotly.v1+json": {
       "data": [
        {
         "marker": {
          "color": "#ee2737"
         },
         "name": "Num. Crashes",
         "type": "bar",
         "x": [
          30,
          40,
          50,
          60,
          70,
          75,
          80,
          90,
          100,
          110
         ],
         "y": [
          170,
          5388,
          25395,
          47005,
          10801,
          28,
          18206,
          716,
          21454,
          1445
         ]
        },
        {
         "marker": {
          "color": "#0077c8"
         },
         "name": "% Crashes Lethal",
         "type": "scatter",
         "x": [
          30,
          40,
          50,
          60,
          70,
          75,
          80,
          90,
          100,
          110
         ],
         "y": [
          0.59,
          0.45,
          0.87,
          1.01,
          1.74,
          3.57,
          2.11,
          3.77,
          5.27,
          6.23
         ],
         "yaxis": "y2"
        }
       ],
       "layout": {
        "barmode": "group",
        "title": "VicRoads Accident - Accidents by Speed Limit Zone",
        "titlefont": {
         "family": "Open Sans",
         "size": 22
        },
        "xaxis": {
         "dtick": 10,
         "tickangle": -45,
         "title": "Speed Limit Zone",
         "titlefont": {
          "family": "Open Sans",
          "size": 16
         }
        },
        "yaxis": {
         "dtick": 5000,
         "range": [
          0,
          65000
         ],
         "title": "Num. Crashes",
         "titlefont": {
          "family": "Open Sans",
          "size": 16
         }
        },
        "yaxis2": {
         "dtick": 1,
         "overlaying": "y",
         "range": [
          0,
          6.5
         ],
         "side": "right",
         "title": "% Crashes Lethal",
         "titlefont": {
          "family": "Open Sans",
          "size": 16
         }
        }
       }
      },
      "text/html": [
       "<div id=\"9c448458-3019-43bf-b72f-be9d84c893eb\" style=\"height: 525px; width: 100%;\" class=\"plotly-graph-div\"></div><script type=\"text/javascript\">require([\"plotly\"], function(Plotly) { window.PLOTLYENV=window.PLOTLYENV || {};window.PLOTLYENV.BASE_URL=\"https://plot.ly\";Plotly.newPlot(\"9c448458-3019-43bf-b72f-be9d84c893eb\", [{\"type\": \"bar\", \"y\": [170, 5388, 25395, 47005, 10801, 28, 18206, 716, 21454, 1445], \"x\": [30, 40, 50, 60, 70, 75, 80, 90, 100, 110], \"name\": \"Num. Crashes\", \"marker\": {\"color\": \"#ee2737\"}}, {\"type\": \"scatter\", \"y\": [0.59, 0.45, 0.87, 1.01, 1.74, 3.57, 2.11, 3.77, 5.27, 6.23], \"x\": [30, 40, 50, 60, 70, 75, 80, 90, 100, 110], \"name\": \"% Crashes Lethal\", \"marker\": {\"color\": \"#0077c8\"}, \"yaxis\": \"y2\"}], {\"barmode\": \"group\", \"title\": \"VicRoads Accident - Accidents by Speed Limit Zone\", \"titlefont\": {\"family\": \"Open Sans\", \"size\": 22}, \"xaxis\": {\"tickangle\": -45, \"dtick\": 10, \"title\": \"Speed Limit Zone\", \"titlefont\": {\"family\": \"Open Sans\", \"size\": 16}}, \"yaxis\": {\"title\": \"Num. Crashes\", \"titlefont\": {\"family\": \"Open Sans\", \"size\": 16}, \"dtick\": 5000, \"range\": [0, 65000]}, \"yaxis2\": {\"title\": \"% Crashes Lethal\", \"overlaying\": \"y\", \"side\": \"right\", \"titlefont\": {\"family\": \"Open Sans\", \"size\": 16}, \"range\": [0, 6.5], \"dtick\": 1}}, {\"showLink\": true, \"linkText\": \"Export to plot.ly\"})});</script>"
      ],
      "text/vnd.plotly.v1+html": [
       "<div id=\"9c448458-3019-43bf-b72f-be9d84c893eb\" style=\"height: 525px; width: 100%;\" class=\"plotly-graph-div\"></div><script type=\"text/javascript\">require([\"plotly\"], function(Plotly) { window.PLOTLYENV=window.PLOTLYENV || {};window.PLOTLYENV.BASE_URL=\"https://plot.ly\";Plotly.newPlot(\"9c448458-3019-43bf-b72f-be9d84c893eb\", [{\"type\": \"bar\", \"y\": [170, 5388, 25395, 47005, 10801, 28, 18206, 716, 21454, 1445], \"x\": [30, 40, 50, 60, 70, 75, 80, 90, 100, 110], \"name\": \"Num. Crashes\", \"marker\": {\"color\": \"#ee2737\"}}, {\"type\": \"scatter\", \"y\": [0.59, 0.45, 0.87, 1.01, 1.74, 3.57, 2.11, 3.77, 5.27, 6.23], \"x\": [30, 40, 50, 60, 70, 75, 80, 90, 100, 110], \"name\": \"% Crashes Lethal\", \"marker\": {\"color\": \"#0077c8\"}, \"yaxis\": \"y2\"}], {\"barmode\": \"group\", \"title\": \"VicRoads Accident - Accidents by Speed Limit Zone\", \"titlefont\": {\"family\": \"Open Sans\", \"size\": 22}, \"xaxis\": {\"tickangle\": -45, \"dtick\": 10, \"title\": \"Speed Limit Zone\", \"titlefont\": {\"family\": \"Open Sans\", \"size\": 16}}, \"yaxis\": {\"title\": \"Num. Crashes\", \"titlefont\": {\"family\": \"Open Sans\", \"size\": 16}, \"dtick\": 5000, \"range\": [0, 65000]}, \"yaxis2\": {\"title\": \"% Crashes Lethal\", \"overlaying\": \"y\", \"side\": \"right\", \"titlefont\": {\"family\": \"Open Sans\", \"size\": 16}, \"range\": [0, 6.5], \"dtick\": 1}}, {\"showLink\": true, \"linkText\": \"Export to plot.ly\"})});</script>"
      ]
     },
     "metadata": {},
     "output_type": "display_data"
    }
   ],
   "source": [
    "py.iplot(figurespeedLimitZoneSeverePc, filename='figurespeedLimitZoneSeverePc')"
   ]
  },
  {
   "cell_type": "markdown",
   "metadata": {},
   "source": [
    "### Crashes by Hour"
   ]
  },
  {
   "cell_type": "code",
   "execution_count": 17,
   "metadata": {},
   "outputs": [
    {
     "name": "stdout",
     "output_type": "stream",
     "text": [
      "   hour   cnt\n",
      "0     0  2067\n",
      "1     1  1755\n",
      "2     2  1415\n"
     ]
    }
   ],
   "source": [
    "accidents_by_hour = df_accident_mod.groupby(['hour']).size().reset_index(name=\"cnt\")\n",
    "print(accidents_by_hour.head(3))"
   ]
  },
  {
   "cell_type": "code",
   "execution_count": 18,
   "metadata": {
    "collapsed": true
   },
   "outputs": [],
   "source": [
    "seriesAccidentsByHourBar = go.Bar(\n",
    "    y = accidents_by_hour['cnt'],\n",
    "    x = accidents_by_hour['hour'],\n",
    "    name = 'Num. Crashes',\n",
    "    marker = dict(\n",
    "        color = '#FF6900'\n",
    "    )\n",
    ")\n",
    "\n",
    "layout = go.Layout(\n",
    "    barmode = 'group',\n",
    "    title = 'VicRoads Accident - Accidents by Hour',\n",
    "    titlefont=dict(\n",
    "            family='Open Sans',\n",
    "            size=22\n",
    "    ),\n",
    "    xaxis=dict(\n",
    "        #tickangle = -45, # angle lables at 45 deg\n",
    "        dtick = 1,\n",
    "        title = 'Speed Limit Zone',\n",
    "            titlefont=dict(\n",
    "                family='Open Sans',\n",
    "                size=16\n",
    "            )\n",
    "    ),\n",
    "    yaxis = dict(\n",
    "        title = 'Num. Crashes',\n",
    "        titlefont=dict(\n",
    "            family='Open Sans',\n",
    "            size=16\n",
    "        )\n",
    "    )\n",
    ")\n",
    "\n",
    "data = [seriesAccidentsByHourBar]\n",
    "\n",
    "figureAccidentsByHour = go.Figure(data=data, layout=layout)"
   ]
  },
  {
   "cell_type": "markdown",
   "metadata": {},
   "source": [
    "### Most accidents happen during daylight hours\n",
    "(presumably this reflects more people being on the road)"
   ]
  },
  {
   "cell_type": "code",
   "execution_count": 19,
   "metadata": {},
   "outputs": [
    {
     "data": {
      "application/vnd.plotly.v1+json": {
       "data": [
        {
         "marker": {
          "color": "#FF6900"
         },
         "name": "Num. Crashes",
         "type": "bar",
         "x": [
          0,
          1,
          2,
          3,
          4,
          5,
          6,
          7,
          8,
          9,
          10,
          11,
          12,
          13,
          14,
          15,
          16,
          17,
          18,
          19,
          20,
          21,
          22,
          23
         ],
         "y": [
          2067,
          1755,
          1415,
          1276,
          1146,
          1723,
          3775,
          5541,
          8624,
          6807,
          6429,
          7261,
          7620,
          7545,
          7762,
          10289,
          10346,
          10852,
          8961,
          5611,
          4084,
          3811,
          3203,
          2705
         ]
        }
       ],
       "layout": {
        "barmode": "group",
        "title": "VicRoads Accident - Accidents by Hour",
        "titlefont": {
         "family": "Open Sans",
         "size": 22
        },
        "xaxis": {
         "dtick": 1,
         "title": "Speed Limit Zone",
         "titlefont": {
          "family": "Open Sans",
          "size": 16
         }
        },
        "yaxis": {
         "title": "Num. Crashes",
         "titlefont": {
          "family": "Open Sans",
          "size": 16
         }
        }
       }
      },
      "text/html": [
       "<div id=\"afa8a45d-6614-4f49-8aa9-bcc8676137b4\" style=\"height: 525px; width: 100%;\" class=\"plotly-graph-div\"></div><script type=\"text/javascript\">require([\"plotly\"], function(Plotly) { window.PLOTLYENV=window.PLOTLYENV || {};window.PLOTLYENV.BASE_URL=\"https://plot.ly\";Plotly.newPlot(\"afa8a45d-6614-4f49-8aa9-bcc8676137b4\", [{\"type\": \"bar\", \"y\": [2067, 1755, 1415, 1276, 1146, 1723, 3775, 5541, 8624, 6807, 6429, 7261, 7620, 7545, 7762, 10289, 10346, 10852, 8961, 5611, 4084, 3811, 3203, 2705], \"x\": [0, 1, 2, 3, 4, 5, 6, 7, 8, 9, 10, 11, 12, 13, 14, 15, 16, 17, 18, 19, 20, 21, 22, 23], \"name\": \"Num. Crashes\", \"marker\": {\"color\": \"#FF6900\"}}], {\"barmode\": \"group\", \"title\": \"VicRoads Accident - Accidents by Hour\", \"titlefont\": {\"family\": \"Open Sans\", \"size\": 22}, \"xaxis\": {\"dtick\": 1, \"title\": \"Speed Limit Zone\", \"titlefont\": {\"family\": \"Open Sans\", \"size\": 16}}, \"yaxis\": {\"title\": \"Num. Crashes\", \"titlefont\": {\"family\": \"Open Sans\", \"size\": 16}}}, {\"showLink\": true, \"linkText\": \"Export to plot.ly\"})});</script>"
      ],
      "text/vnd.plotly.v1+html": [
       "<div id=\"afa8a45d-6614-4f49-8aa9-bcc8676137b4\" style=\"height: 525px; width: 100%;\" class=\"plotly-graph-div\"></div><script type=\"text/javascript\">require([\"plotly\"], function(Plotly) { window.PLOTLYENV=window.PLOTLYENV || {};window.PLOTLYENV.BASE_URL=\"https://plot.ly\";Plotly.newPlot(\"afa8a45d-6614-4f49-8aa9-bcc8676137b4\", [{\"type\": \"bar\", \"y\": [2067, 1755, 1415, 1276, 1146, 1723, 3775, 5541, 8624, 6807, 6429, 7261, 7620, 7545, 7762, 10289, 10346, 10852, 8961, 5611, 4084, 3811, 3203, 2705], \"x\": [0, 1, 2, 3, 4, 5, 6, 7, 8, 9, 10, 11, 12, 13, 14, 15, 16, 17, 18, 19, 20, 21, 22, 23], \"name\": \"Num. Crashes\", \"marker\": {\"color\": \"#FF6900\"}}], {\"barmode\": \"group\", \"title\": \"VicRoads Accident - Accidents by Hour\", \"titlefont\": {\"family\": \"Open Sans\", \"size\": 22}, \"xaxis\": {\"dtick\": 1, \"title\": \"Speed Limit Zone\", \"titlefont\": {\"family\": \"Open Sans\", \"size\": 16}}, \"yaxis\": {\"title\": \"Num. Crashes\", \"titlefont\": {\"family\": \"Open Sans\", \"size\": 16}}}, {\"showLink\": true, \"linkText\": \"Export to plot.ly\"})});</script>"
      ]
     },
     "metadata": {},
     "output_type": "display_data"
    }
   ],
   "source": [
    "py.iplot(figureAccidentsByHour, filename='figureAccidentsByHour')"
   ]
  },
  {
   "cell_type": "markdown",
   "metadata": {},
   "source": [
    "### Crashes by Hour by Severity"
   ]
  },
  {
   "cell_type": "code",
   "execution_count": 20,
   "metadata": {},
   "outputs": [
    {
     "name": "stdout",
     "output_type": "stream",
     "text": [
      "   hour  count\n",
      "0     0   3.97\n",
      "3     1   4.33\n",
      "6     2   4.59\n"
     ]
    }
   ],
   "source": [
    "# group by hour by severity\n",
    "accidents_by_hour_by_severity =  df_accident_mod.groupby(['hour','SEVERITY']).size()\n",
    "\n",
    "# divide by the first level you grouped by, multiply by 100, to end up with each severitys % of speed zone crashes\n",
    "accidents_by_hour_by_severity_pc = accidents_by_hour_by_severity.groupby(level=0).apply(lambda x:round(\n",
    "                                                 100 * x / float(x.sum()),2))\n",
    "# reset index and name the new column count\n",
    "accidents_by_hour_by_severity_pc = accidents_by_hour_by_severity_pc.reset_index(name=\"count\")\n",
    "\n",
    "# filter for just severe\n",
    "accidents_by_hour_by_severity_1 = accidents_by_hour_by_severity_pc[accidents_by_hour_by_severity_pc['SEVERITY'] == 1]\n",
    "\n",
    "# drop now-redundant column\n",
    "del accidents_by_hour_by_severity_1['SEVERITY']\n",
    "\n",
    "print(accidents_by_hour_by_severity_1.head(3))"
   ]
  },
  {
   "cell_type": "code",
   "execution_count": 21,
   "metadata": {
    "collapsed": true
   },
   "outputs": [],
   "source": [
    "seriesAccidentsByHourSevereLine = go.Scatter(\n",
    "    y = accidents_by_hour_by_severity_1['count'],\n",
    "    x = accidents_by_hour_by_severity_1['hour'],\n",
    "    name = 'Num. Crashes',\n",
    "    marker = dict(\n",
    "        color = '#0077C8'\n",
    "    ),\n",
    "    yaxis = 'y2'\n",
    ")\n",
    "\n",
    "layout = go.Layout(\n",
    "    barmode = 'group',\n",
    "    title = 'VicRoads Accident - Accidents by Hour - Lethal vs All',\n",
    "    titlefont=dict(\n",
    "            family='Open Sans',\n",
    "            size=22\n",
    "    ),\n",
    "    xaxis=dict(\n",
    "        title = 'Speed Limit Zone',\n",
    "        titlefont=dict(\n",
    "            family='Open Sans',\n",
    "            size=16\n",
    "        )\n",
    "    ),\n",
    "    yaxis = dict(\n",
    "        title = 'Num. Crashes',\n",
    "        titlefont=dict(\n",
    "            family='Open Sans',\n",
    "            size=16\n",
    "        ),\n",
    "        range=[0,12000]\n",
    "    ),\n",
    "    yaxis2=dict(\n",
    "        title='% Crashes Lethal',\n",
    "        overlaying='y',\n",
    "        side='right',\n",
    "        titlefont=dict(\n",
    "            family='Open Sans',\n",
    "            size=16\n",
    "        ),\n",
    "        range=[0,6],\n",
    "        dtick = 1\n",
    "    )\n",
    ")\n",
    "\n",
    "data = [seriesAccidentsByHourBar, seriesAccidentsByHourSevereLine]\n",
    "\n",
    "figureAccidentsByHourWithSeverePc = go.Figure(data=data, layout=layout)"
   ]
  },
  {
   "cell_type": "markdown",
   "metadata": {},
   "source": [
    "### While more accidents do happen during the day, those at night are more likley to be lethal"
   ]
  },
  {
   "cell_type": "code",
   "execution_count": 22,
   "metadata": {},
   "outputs": [
    {
     "data": {
      "application/vnd.plotly.v1+json": {
       "data": [
        {
         "marker": {
          "color": "#FF6900"
         },
         "name": "Num. Crashes",
         "type": "bar",
         "x": [
          0,
          1,
          2,
          3,
          4,
          5,
          6,
          7,
          8,
          9,
          10,
          11,
          12,
          13,
          14,
          15,
          16,
          17,
          18,
          19,
          20,
          21,
          22,
          23
         ],
         "y": [
          2067,
          1755,
          1415,
          1276,
          1146,
          1723,
          3775,
          5541,
          8624,
          6807,
          6429,
          7261,
          7620,
          7545,
          7762,
          10289,
          10346,
          10852,
          8961,
          5611,
          4084,
          3811,
          3203,
          2705
         ]
        },
        {
         "marker": {
          "color": "#0077C8"
         },
         "name": "Num. Crashes",
         "type": "scatter",
         "x": [
          0,
          1,
          2,
          3,
          4,
          5,
          6,
          7,
          8,
          9,
          10,
          11,
          12,
          13,
          14,
          15,
          16,
          17,
          18,
          19,
          20,
          21,
          22,
          23
         ],
         "y": [
          3.97,
          4.33,
          4.59,
          4.39,
          4.36,
          4.06,
          2.81,
          1.55,
          1.43,
          1.48,
          1.71,
          1.71,
          1.78,
          1.64,
          1.82,
          1.74,
          1.56,
          1.21,
          1.55,
          1.66,
          2.91,
          2.39,
          2.56,
          3.66
         ],
         "yaxis": "y2"
        }
       ],
       "layout": {
        "barmode": "group",
        "title": "VicRoads Accident - Accidents by Hour - Lethal vs All",
        "titlefont": {
         "family": "Open Sans",
         "size": 22
        },
        "xaxis": {
         "title": "Speed Limit Zone",
         "titlefont": {
          "family": "Open Sans",
          "size": 16
         }
        },
        "yaxis": {
         "range": [
          0,
          12000
         ],
         "title": "Num. Crashes",
         "titlefont": {
          "family": "Open Sans",
          "size": 16
         }
        },
        "yaxis2": {
         "dtick": 1,
         "overlaying": "y",
         "range": [
          0,
          6
         ],
         "side": "right",
         "title": "% Crashes Lethal",
         "titlefont": {
          "family": "Open Sans",
          "size": 16
         }
        }
       }
      },
      "text/html": [
       "<div id=\"823fdff8-348d-4bad-ab09-d4cf501c3d67\" style=\"height: 525px; width: 100%;\" class=\"plotly-graph-div\"></div><script type=\"text/javascript\">require([\"plotly\"], function(Plotly) { window.PLOTLYENV=window.PLOTLYENV || {};window.PLOTLYENV.BASE_URL=\"https://plot.ly\";Plotly.newPlot(\"823fdff8-348d-4bad-ab09-d4cf501c3d67\", [{\"type\": \"bar\", \"y\": [2067, 1755, 1415, 1276, 1146, 1723, 3775, 5541, 8624, 6807, 6429, 7261, 7620, 7545, 7762, 10289, 10346, 10852, 8961, 5611, 4084, 3811, 3203, 2705], \"x\": [0, 1, 2, 3, 4, 5, 6, 7, 8, 9, 10, 11, 12, 13, 14, 15, 16, 17, 18, 19, 20, 21, 22, 23], \"name\": \"Num. Crashes\", \"marker\": {\"color\": \"#FF6900\"}}, {\"type\": \"scatter\", \"y\": [3.97, 4.33, 4.59, 4.39, 4.36, 4.06, 2.81, 1.55, 1.43, 1.48, 1.71, 1.71, 1.78, 1.64, 1.82, 1.74, 1.56, 1.21, 1.55, 1.66, 2.91, 2.39, 2.56, 3.66], \"x\": [0, 1, 2, 3, 4, 5, 6, 7, 8, 9, 10, 11, 12, 13, 14, 15, 16, 17, 18, 19, 20, 21, 22, 23], \"name\": \"Num. Crashes\", \"marker\": {\"color\": \"#0077C8\"}, \"yaxis\": \"y2\"}], {\"barmode\": \"group\", \"title\": \"VicRoads Accident - Accidents by Hour - Lethal vs All\", \"titlefont\": {\"family\": \"Open Sans\", \"size\": 22}, \"xaxis\": {\"title\": \"Speed Limit Zone\", \"titlefont\": {\"family\": \"Open Sans\", \"size\": 16}}, \"yaxis\": {\"title\": \"Num. Crashes\", \"titlefont\": {\"family\": \"Open Sans\", \"size\": 16}, \"range\": [0, 12000]}, \"yaxis2\": {\"title\": \"% Crashes Lethal\", \"overlaying\": \"y\", \"side\": \"right\", \"titlefont\": {\"family\": \"Open Sans\", \"size\": 16}, \"range\": [0, 6], \"dtick\": 1}}, {\"showLink\": true, \"linkText\": \"Export to plot.ly\"})});</script>"
      ],
      "text/vnd.plotly.v1+html": [
       "<div id=\"823fdff8-348d-4bad-ab09-d4cf501c3d67\" style=\"height: 525px; width: 100%;\" class=\"plotly-graph-div\"></div><script type=\"text/javascript\">require([\"plotly\"], function(Plotly) { window.PLOTLYENV=window.PLOTLYENV || {};window.PLOTLYENV.BASE_URL=\"https://plot.ly\";Plotly.newPlot(\"823fdff8-348d-4bad-ab09-d4cf501c3d67\", [{\"type\": \"bar\", \"y\": [2067, 1755, 1415, 1276, 1146, 1723, 3775, 5541, 8624, 6807, 6429, 7261, 7620, 7545, 7762, 10289, 10346, 10852, 8961, 5611, 4084, 3811, 3203, 2705], \"x\": [0, 1, 2, 3, 4, 5, 6, 7, 8, 9, 10, 11, 12, 13, 14, 15, 16, 17, 18, 19, 20, 21, 22, 23], \"name\": \"Num. Crashes\", \"marker\": {\"color\": \"#FF6900\"}}, {\"type\": \"scatter\", \"y\": [3.97, 4.33, 4.59, 4.39, 4.36, 4.06, 2.81, 1.55, 1.43, 1.48, 1.71, 1.71, 1.78, 1.64, 1.82, 1.74, 1.56, 1.21, 1.55, 1.66, 2.91, 2.39, 2.56, 3.66], \"x\": [0, 1, 2, 3, 4, 5, 6, 7, 8, 9, 10, 11, 12, 13, 14, 15, 16, 17, 18, 19, 20, 21, 22, 23], \"name\": \"Num. Crashes\", \"marker\": {\"color\": \"#0077C8\"}, \"yaxis\": \"y2\"}], {\"barmode\": \"group\", \"title\": \"VicRoads Accident - Accidents by Hour - Lethal vs All\", \"titlefont\": {\"family\": \"Open Sans\", \"size\": 22}, \"xaxis\": {\"title\": \"Speed Limit Zone\", \"titlefont\": {\"family\": \"Open Sans\", \"size\": 16}}, \"yaxis\": {\"title\": \"Num. Crashes\", \"titlefont\": {\"family\": \"Open Sans\", \"size\": 16}, \"range\": [0, 12000]}, \"yaxis2\": {\"title\": \"% Crashes Lethal\", \"overlaying\": \"y\", \"side\": \"right\", \"titlefont\": {\"family\": \"Open Sans\", \"size\": 16}, \"range\": [0, 6], \"dtick\": 1}}, {\"showLink\": true, \"linkText\": \"Export to plot.ly\"})});</script>"
      ]
     },
     "metadata": {},
     "output_type": "display_data"
    }
   ],
   "source": [
    "py.iplot(figureAccidentsByHourWithSeverePc, filename='figureAccidentsByHourWithSeverePc')"
   ]
  },
  {
   "cell_type": "markdown",
   "metadata": {},
   "source": [
    "### Crashes by Population Estimates\n",
    "\n",
    "Crashes look pretty stable over this period, but we know Victoria has grown a lot.\n",
    "\n",
    "Have more or less crashes happened per person?\n",
    "\n",
    "To estimate, I:\n",
    "* Import the ABS ERP dataset for Victoria, code 3101.0\n",
    "    * Available at: http://www.abs.gov.au/AUSSTATS/abs@.nsf/DetailsPage/3101.0Jun%202016?OpenDocument\n",
    "* Tidy that up, and average by year (as it is quarterly)\n",
    "* Join to crash dataset, and divide crashes by population to estimate crashes per population"
   ]
  },
  {
   "cell_type": "markdown",
   "metadata": {},
   "source": [
    "#### Get ERP Data"
   ]
  },
  {
   "cell_type": "code",
   "execution_count": 23,
   "metadata": {},
   "outputs": [
    {
     "name": "stdout",
     "output_type": "stream",
     "text": [
      "        date      erp  year\n",
      "0 1981-06-01  3946917  1981\n",
      "1 1981-09-01  3957333  1981\n",
      "2 1981-12-01  3968398  1981\n",
      "   year        erp\n",
      "0  1981  3957549.0\n",
      "1  1982  3997278.0\n",
      "2  1983  4040160.0\n"
     ]
    }
   ],
   "source": [
    "# read from ABS Excel series\n",
    "df_erp = pd.read_excel(\n",
    "    'abs_data/erp_2016.xlsx', # file name and path\n",
    "    sheetname = 'Data1',\n",
    "    header = 0,\n",
    "    skiprows = 9,\n",
    "    index_col=0 # first column should be primary key\n",
    ")\n",
    "\n",
    "# just keep the Victoria Persons series, which has the id A2060844K\n",
    "df_erp = df_erp['A2060844K']\n",
    "\n",
    "# fix column headers\n",
    "df_erp = df_erp.reset_index()\n",
    "\n",
    "# rename columns\n",
    "df_erp.columns = ['date','erp']\n",
    "\n",
    "# add a year column\n",
    "df_erp['year'] = pd.DatetimeIndex(df_erp['date']).year\n",
    "\n",
    "print(df_erp.head(3))\n",
    "\n",
    "# group by year\n",
    "erp_by_year = df_erp.groupby(['year']).mean().round()\n",
    "\n",
    "# stop pandas displaying output in sceintific notation\n",
    "# pinched from https://stackoverflow.com/questions/21137150/format-suppress-scientific-notation-from-python-pandas-aggregation-results/21140339\n",
    "\n",
    "#pd.set_option('display.float_format', lambda x: '%.0f' % x) # .0f is to 0 decimal places\n",
    "\n",
    "# fix column headers\n",
    "erp_by_year = erp_by_year.reset_index()\n",
    "\n",
    "print(erp_by_year.head(3))"
   ]
  },
  {
   "cell_type": "markdown",
   "metadata": {},
   "source": [
    "#### Merge ERP data with Crash data"
   ]
  },
  {
   "cell_type": "code",
   "execution_count": 24,
   "metadata": {},
   "outputs": [
    {
     "name": "stdout",
     "output_type": "stream",
     "text": [
      "   year    cnt\n",
      "0  2007  12980\n",
      "1  2008  13494\n",
      "2  2009  13097\n",
      "   year        erp\n",
      "0  1981  3957549.0\n",
      "1  1982  3997278.0\n",
      "2  1983  4040160.0\n",
      "   year    cnt        erp\n",
      "0  2007  12980  5166404.0\n",
      "1  2008  13494  5272302.0\n",
      "2  2009  13097  5384432.0\n"
     ]
    }
   ],
   "source": [
    "# dataframe accidents_by_year defined earlier in the file\n",
    "print(accidents_by_year.head(3))\n",
    "print(erp_by_year.head(3))\n",
    "\n",
    "# take all rows from accidents by year, left join with erp_by_year on year=year\n",
    "df_accidents_by_year_with_erp = pd.merge(accidents_by_year, erp_by_year, on='year', how='left')\n",
    "\n",
    "# did we get what we expect?\n",
    "print(df_accidents_by_year_with_erp.head(3))\n",
    "\n",
    "# make column for crashes per thousand people\n",
    "df_accidents_by_year_with_erp['crashes_per_100k'] = round(\n",
    "    100000 * (\n",
    "        df_accidents_by_year_with_erp['cnt']/df_accidents_by_year_with_erp['erp']\n",
    "    ),0\n",
    ")"
   ]
  },
  {
   "cell_type": "code",
   "execution_count": 25,
   "metadata": {
    "collapsed": true
   },
   "outputs": [],
   "source": [
    "# seriesCrashesbyYearBar defined above\n",
    "\n",
    "seriesCrashesbyYearBy100KPopulationScatter = go.Scatter(\n",
    "    y = df_accidents_by_year_with_erp['crashes_per_100k'],\n",
    "    x = df_accidents_by_year_with_erp['year'],\n",
    "    name = 'Crashes Per 100k Population',\n",
    "    marker = dict(\n",
    "        color = '#0077C8',\n",
    "        size=10\n",
    "    ),\n",
    "    yaxis = 'y2',\n",
    "    line = dict(\n",
    "        color = '#0077C8',\n",
    "        width=4\n",
    "    )\n",
    ")\n",
    "\n",
    "layout = go.Layout(\n",
    "    title = 'VicRoads Accident - Crashes by Year',\n",
    "    titlefont=dict(\n",
    "            family='Open Sans',\n",
    "            size=22\n",
    "    ),\n",
    "    xaxis=dict(\n",
    "        title = 'Year',\n",
    "        titlefont=dict(\n",
    "            family='Open Sans',\n",
    "            size=16\n",
    "        )\n",
    "    ),\n",
    "    yaxis = dict(\n",
    "        title = 'Num. Crashes',\n",
    "        titlefont=dict(\n",
    "            family='Open Sans',\n",
    "            size=16\n",
    "        ),\n",
    "        range=[0,15000],\n",
    "        dtick = 2500\n",
    "    ),\n",
    "    yaxis2=dict(\n",
    "        title='Crashes per 100k Popn',\n",
    "        overlaying='y',\n",
    "        side='right',\n",
    "        titlefont=dict(\n",
    "            family='Open Sans',\n",
    "            size=16\n",
    "        ),\n",
    "        range=[0,300]\n",
    "    ),\n",
    "    legend=dict(\n",
    "        orientation=\"h\",\n",
    "        x=.24,\n",
    "        y=1.1\n",
    "    )\n",
    ")\n",
    "\n",
    "data = [seriesCrashesbyYearBar, seriesCrashesbyYearBy100KPopulationScatter]\n",
    "\n",
    "figureCrashesbyYearWithPer100k = go.Figure(data=data, layout=layout)"
   ]
  },
  {
   "cell_type": "markdown",
   "metadata": {},
   "source": [
    "## Accidents per population are steadily declining\n",
    "While the number of Accidents has remained relatively steady, the number of acidents per 100,000 population has fallen from a peak of 256 per 100,000 in 2008 to 208 in 2016, a fall of 19%"
   ]
  },
  {
   "cell_type": "code",
   "execution_count": 26,
   "metadata": {},
   "outputs": [
    {
     "data": {
      "application/vnd.plotly.v1+json": {
       "data": [
        {
         "marker": {
          "color": "#ee2737"
         },
         "name": "Crashes per Year",
         "type": "bar",
         "x": [
          2007,
          2008,
          2009,
          2010,
          2011,
          2012,
          2013,
          2014,
          2015,
          2016
         ],
         "y": [
          12980,
          13494,
          13097,
          12842,
          12762,
          12925,
          13001,
          13289,
          13360,
          12858
         ]
        },
        {
         "line": {
          "color": "#0077C8",
          "width": 4
         },
         "marker": {
          "color": "#0077C8",
          "size": 10
         },
         "name": "Crashes Per 100k Population",
         "type": "scatter",
         "x": [
          2007,
          2008,
          2009,
          2010,
          2011,
          2012,
          2013,
          2014,
          2015,
          2016
         ],
         "y": [
          251,
          256,
          243,
          235,
          230,
          228,
          224,
          224,
          221,
          208
         ],
         "yaxis": "y2"
        }
       ],
       "layout": {
        "legend": {
         "orientation": "h",
         "x": 0.24,
         "y": 1.1
        },
        "title": "VicRoads Accident - Crashes by Year",
        "titlefont": {
         "family": "Open Sans",
         "size": 22
        },
        "xaxis": {
         "title": "Year",
         "titlefont": {
          "family": "Open Sans",
          "size": 16
         }
        },
        "yaxis": {
         "dtick": 2500,
         "range": [
          0,
          15000
         ],
         "title": "Num. Crashes",
         "titlefont": {
          "family": "Open Sans",
          "size": 16
         }
        },
        "yaxis2": {
         "overlaying": "y",
         "range": [
          0,
          300
         ],
         "side": "right",
         "title": "Crashes per 100k Popn",
         "titlefont": {
          "family": "Open Sans",
          "size": 16
         }
        }
       }
      },
      "text/html": [
       "<div id=\"a5d62a89-213a-49c4-abb9-07f717831f0c\" style=\"height: 525px; width: 100%;\" class=\"plotly-graph-div\"></div><script type=\"text/javascript\">require([\"plotly\"], function(Plotly) { window.PLOTLYENV=window.PLOTLYENV || {};window.PLOTLYENV.BASE_URL=\"https://plot.ly\";Plotly.newPlot(\"a5d62a89-213a-49c4-abb9-07f717831f0c\", [{\"type\": \"bar\", \"x\": [2007, 2008, 2009, 2010, 2011, 2012, 2013, 2014, 2015, 2016], \"y\": [12980, 13494, 13097, 12842, 12762, 12925, 13001, 13289, 13360, 12858], \"name\": \"Crashes per Year\", \"marker\": {\"color\": \"#ee2737\"}}, {\"type\": \"scatter\", \"y\": [251.0, 256.0, 243.0, 235.0, 230.0, 228.0, 224.0, 224.0, 221.0, 208.0], \"x\": [2007, 2008, 2009, 2010, 2011, 2012, 2013, 2014, 2015, 2016], \"name\": \"Crashes Per 100k Population\", \"marker\": {\"color\": \"#0077C8\", \"size\": 10}, \"yaxis\": \"y2\", \"line\": {\"color\": \"#0077C8\", \"width\": 4}}], {\"title\": \"VicRoads Accident - Crashes by Year\", \"titlefont\": {\"family\": \"Open Sans\", \"size\": 22}, \"xaxis\": {\"title\": \"Year\", \"titlefont\": {\"family\": \"Open Sans\", \"size\": 16}}, \"yaxis\": {\"title\": \"Num. Crashes\", \"titlefont\": {\"family\": \"Open Sans\", \"size\": 16}, \"range\": [0, 15000], \"dtick\": 2500}, \"yaxis2\": {\"title\": \"Crashes per 100k Popn\", \"overlaying\": \"y\", \"side\": \"right\", \"titlefont\": {\"family\": \"Open Sans\", \"size\": 16}, \"range\": [0, 300]}, \"legend\": {\"orientation\": \"h\", \"x\": 0.24, \"y\": 1.1}}, {\"showLink\": true, \"linkText\": \"Export to plot.ly\"})});</script>"
      ],
      "text/vnd.plotly.v1+html": [
       "<div id=\"a5d62a89-213a-49c4-abb9-07f717831f0c\" style=\"height: 525px; width: 100%;\" class=\"plotly-graph-div\"></div><script type=\"text/javascript\">require([\"plotly\"], function(Plotly) { window.PLOTLYENV=window.PLOTLYENV || {};window.PLOTLYENV.BASE_URL=\"https://plot.ly\";Plotly.newPlot(\"a5d62a89-213a-49c4-abb9-07f717831f0c\", [{\"type\": \"bar\", \"x\": [2007, 2008, 2009, 2010, 2011, 2012, 2013, 2014, 2015, 2016], \"y\": [12980, 13494, 13097, 12842, 12762, 12925, 13001, 13289, 13360, 12858], \"name\": \"Crashes per Year\", \"marker\": {\"color\": \"#ee2737\"}}, {\"type\": \"scatter\", \"y\": [251.0, 256.0, 243.0, 235.0, 230.0, 228.0, 224.0, 224.0, 221.0, 208.0], \"x\": [2007, 2008, 2009, 2010, 2011, 2012, 2013, 2014, 2015, 2016], \"name\": \"Crashes Per 100k Population\", \"marker\": {\"color\": \"#0077C8\", \"size\": 10}, \"yaxis\": \"y2\", \"line\": {\"color\": \"#0077C8\", \"width\": 4}}], {\"title\": \"VicRoads Accident - Crashes by Year\", \"titlefont\": {\"family\": \"Open Sans\", \"size\": 22}, \"xaxis\": {\"title\": \"Year\", \"titlefont\": {\"family\": \"Open Sans\", \"size\": 16}}, \"yaxis\": {\"title\": \"Num. Crashes\", \"titlefont\": {\"family\": \"Open Sans\", \"size\": 16}, \"range\": [0, 15000], \"dtick\": 2500}, \"yaxis2\": {\"title\": \"Crashes per 100k Popn\", \"overlaying\": \"y\", \"side\": \"right\", \"titlefont\": {\"family\": \"Open Sans\", \"size\": 16}, \"range\": [0, 300]}, \"legend\": {\"orientation\": \"h\", \"x\": 0.24, \"y\": 1.1}}, {\"showLink\": true, \"linkText\": \"Export to plot.ly\"})});</script>"
      ]
     },
     "metadata": {},
     "output_type": "display_data"
    }
   ],
   "source": [
    "py.iplot(figureCrashesbyYearWithPer100k, filename='figureCrashesbyYearWithPer100k')"
   ]
  },
  {
   "cell_type": "markdown",
   "metadata": {},
   "source": [
    "# Accident Locations"
   ]
  },
  {
   "cell_type": "markdown",
   "metadata": {},
   "source": [
    "### Data prep"
   ]
  },
  {
   "cell_type": "code",
   "execution_count": 27,
   "metadata": {},
   "outputs": [
    {
     "name": "stdout",
     "output_type": "stream",
     "text": [
      "    ACCIDENT_NO ACCIDENTDATE ACCIDENTTIME  ACCIDENT_TYPE  \\\n",
      "0  T20070000004    1/01/2007     02.55.00              4   \n",
      "1  T20070000008    1/01/2007     03.59.00              1   \n",
      "2  T20070000009    1/01/2007     03.30.00              4   \n",
      "\n",
      "              Accident Type Desc  DAY_OF_WEEK Day Week Description  DCA_CODE  \\\n",
      "0  Collision with a fixed object            2               Monday       171   \n",
      "1         Collision with vehicle            2               Monday       140   \n",
      "2  Collision with a fixed object            2               Monday       181   \n",
      "\n",
      "                                     DCA Description DIRECTORY     ...       \\\n",
      "0  LEFT OFF CARRIAGEWAY INTO OBJECT/PARKED VEHICL...       VCS     ...        \n",
      "1                  U TURN                                  MEL     ...        \n",
      "2  OFF RIGHT BEND INTO OBJECT/PARKED VEHICLE     ...       MEL     ...        \n",
      "\n",
      "   NODE_TYPE        AMG_X        AMG_Y  LGA_NAME  Lga Name All  \\\n",
      "0          N  2477943.291  2596972.868  CAMPASPE      CAMPASPE   \n",
      "1          I  2498777.753  2414803.894   DAREBIN       DAREBIN   \n",
      "2          N  2526955.229  2365580.343     CASEY         CASEY   \n",
      "\n",
      "                      Region Name              Deg Urban Name       Lat  \\\n",
      "0                 NORTHERN REGION     Small Provincial Cities -36.12578   \n",
      "1  METROPOLITAN NORTH WEST REGION  Metropolitan Excluding CBD -37.76773   \n",
      "2  METROPOLITAN SOUTH EAST REGION                 Small Towns -38.21081   \n",
      "\n",
      "        Long  Postcode No  \n",
      "0  144.75497       3564.0  \n",
      "1  144.98613       3070.0  \n",
      "2  145.30776       3977.0  \n",
      "\n",
      "[3 rows x 43 columns]\n"
     ]
    }
   ],
   "source": [
    "df_node = pd.read_csv(\n",
    "    'vicroads_data/ACCIDENT/NODE.csv', # file name and path\n",
    "    sep=','#, # separated by commas\n",
    "    #index_col=0, # first column should be primary key\n",
    "    #low_memory = False\n",
    ")\n",
    "\n",
    "# filter out all values in the LGA_NAME column that don't represent LGAs\n",
    "# read valid lga list\n",
    "valid_lgas = pd.read_csv(\n",
    "    'vic_lgas.csv',\n",
    "    names=['LGA']                        \n",
    ")\n",
    "\n",
    "# make upper case to match vicroads data\n",
    "valid_lgas['LGA'] = valid_lgas['LGA'].str.upper()\n",
    "\n",
    "# convert to a list\n",
    "valid_lgas = valid_lgas['LGA'].values.tolist()\n",
    "\n",
    "# normalise LGA names\n",
    "df_node['LGA_NAME'].replace('DANDENONG', 'GREATER DANDENONG',inplace=True)\n",
    "df_node['LGA_NAME'].replace('GEELONG', 'GREATER GEELONG',inplace=True)\n",
    "df_node['LGA_NAME'].replace('COLAC OTWAY', 'COLAC-OTWAY',inplace=True)\n",
    "df_node['LGA_NAME'].replace('SHEPPARTON', 'GREATER SHEPPARTON',inplace=True)\n",
    "df_node['LGA_NAME'].replace('BENDIGO', 'GREATER BENDIGO',inplace=True)\n",
    "\n",
    "# filter where name not in list\n",
    "df_node = df_node[df_node['LGA_NAME'].isin(valid_lgas)]\n",
    "\n",
    "# merge node columns onto limited dataset\n",
    "df_tmp = df_accident_mod.reset_index()\n",
    "df_accident_node = pd.merge(df_tmp, df_node, on='ACCIDENT_NO', how='left')\n",
    "\n",
    "print(df_accident_node.head(3))"
   ]
  },
  {
   "cell_type": "markdown",
   "metadata": {},
   "source": [
    "## LGA"
   ]
  },
  {
   "cell_type": "code",
   "execution_count": 28,
   "metadata": {
    "collapsed": true
   },
   "outputs": [],
   "source": [
    "# group by hour by severity\n",
    "accidents_by_lga =  df_accident_node.groupby(['LGA_NAME']).size()\n",
    "\n",
    "# reset index and name the new column count\n",
    "accidents_by_lga = accidents_by_lga.reset_index(name=\"count\")"
   ]
  },
  {
   "cell_type": "markdown",
   "metadata": {},
   "source": [
    "### The most accidents occur in the following LGAs:"
   ]
  },
  {
   "cell_type": "code",
   "execution_count": 29,
   "metadata": {},
   "outputs": [
    {
     "data": {
      "text/html": [
       "<div>\n",
       "<style>\n",
       "    .dataframe thead tr:only-child th {\n",
       "        text-align: right;\n",
       "    }\n",
       "\n",
       "    .dataframe thead th {\n",
       "        text-align: left;\n",
       "    }\n",
       "\n",
       "    .dataframe tbody tr th {\n",
       "        vertical-align: top;\n",
       "    }\n",
       "</style>\n",
       "<table border=\"1\" class=\"dataframe\">\n",
       "  <thead>\n",
       "    <tr style=\"text-align: right;\">\n",
       "      <th></th>\n",
       "      <th>LGA_NAME</th>\n",
       "      <th>count</th>\n",
       "    </tr>\n",
       "  </thead>\n",
       "  <tbody>\n",
       "    <tr>\n",
       "      <th>43</th>\n",
       "      <td>MELBOURNE</td>\n",
       "      <td>8430</td>\n",
       "    </tr>\n",
       "    <tr>\n",
       "      <th>13</th>\n",
       "      <td>CASEY</td>\n",
       "      <td>5348</td>\n",
       "    </tr>\n",
       "    <tr>\n",
       "      <th>26</th>\n",
       "      <td>GREATER GEELONG</td>\n",
       "      <td>4673</td>\n",
       "    </tr>\n",
       "    <tr>\n",
       "      <th>25</th>\n",
       "      <td>GREATER DANDENONG</td>\n",
       "      <td>4577</td>\n",
       "    </tr>\n",
       "    <tr>\n",
       "      <th>9</th>\n",
       "      <td>BRIMBANK</td>\n",
       "      <td>4257</td>\n",
       "    </tr>\n",
       "  </tbody>\n",
       "</table>\n",
       "</div>"
      ],
      "text/plain": [
       "             LGA_NAME  count\n",
       "43          MELBOURNE   8430\n",
       "13              CASEY   5348\n",
       "26    GREATER GEELONG   4673\n",
       "25  GREATER DANDENONG   4577\n",
       "9            BRIMBANK   4257"
      ]
     },
     "execution_count": 29,
     "metadata": {},
     "output_type": "execute_result"
    }
   ],
   "source": [
    "accidents_by_lga.nlargest(5,'count')"
   ]
  },
  {
   "cell_type": "markdown",
   "metadata": {},
   "source": [
    "### And the least occur in:"
   ]
  },
  {
   "cell_type": "code",
   "execution_count": 30,
   "metadata": {},
   "outputs": [
    {
     "data": {
      "text/html": [
       "<div>\n",
       "<style>\n",
       "    .dataframe thead tr:only-child th {\n",
       "        text-align: right;\n",
       "    }\n",
       "\n",
       "    .dataframe thead th {\n",
       "        text-align: left;\n",
       "    }\n",
       "\n",
       "    .dataframe tbody tr th {\n",
       "        vertical-align: top;\n",
       "    }\n",
       "</style>\n",
       "<table border=\"1\" class=\"dataframe\">\n",
       "  <thead>\n",
       "    <tr style=\"text-align: right;\">\n",
       "      <th></th>\n",
       "      <th>LGA_NAME</th>\n",
       "      <th>count</th>\n",
       "    </tr>\n",
       "  </thead>\n",
       "  <tbody>\n",
       "    <tr>\n",
       "      <th>60</th>\n",
       "      <td>QUEENSCLIFFE</td>\n",
       "      <td>24</td>\n",
       "    </tr>\n",
       "    <tr>\n",
       "      <th>78</th>\n",
       "      <td>YARRIAMBIACK</td>\n",
       "      <td>103</td>\n",
       "    </tr>\n",
       "    <tr>\n",
       "      <th>29</th>\n",
       "      <td>HINDMARSH</td>\n",
       "      <td>120</td>\n",
       "    </tr>\n",
       "    <tr>\n",
       "      <th>71</th>\n",
       "      <td>WEST WIMMERA</td>\n",
       "      <td>121</td>\n",
       "    </tr>\n",
       "    <tr>\n",
       "      <th>10</th>\n",
       "      <td>BULOKE</td>\n",
       "      <td>155</td>\n",
       "    </tr>\n",
       "  </tbody>\n",
       "</table>\n",
       "</div>"
      ],
      "text/plain": [
       "        LGA_NAME  count\n",
       "60  QUEENSCLIFFE     24\n",
       "78  YARRIAMBIACK    103\n",
       "29     HINDMARSH    120\n",
       "71  WEST WIMMERA    121\n",
       "10        BULOKE    155"
      ]
     },
     "execution_count": 30,
     "metadata": {},
     "output_type": "execute_result"
    }
   ],
   "source": [
    "accidents_by_lga.nsmallest(5,'count')"
   ]
  },
  {
   "cell_type": "markdown",
   "metadata": {},
   "source": [
    "### This is fairly unsurprising given that the Borough of Queenscliffe had only 2,853 residents as at the 2016 census!"
   ]
  },
  {
   "cell_type": "markdown",
   "metadata": {},
   "source": [
    "### Number of accidents versus population by LGA\n",
    "\n",
    "It should be more informative to compare accident rates to population.\n",
    "\n",
    "For the sake of simplicity, this compares accidents from 2007 to 2016 against 2016 census population counts by LGA.\n",
    "\n",
    "This doesn't account for the boundary changes that may have happened to LGAs in that time."
   ]
  },
  {
   "cell_type": "code",
   "execution_count": 31,
   "metadata": {
    "collapsed": true
   },
   "outputs": [],
   "source": [
    "df_lga_population = pd.read_csv(\n",
    "    'abs_data/popn_by_lga_vic_census_2016.csv',\n",
    "    names = ['LGA_NAME','popn'],\n",
    "    skiprows=1 # first row is names, which we're setting manually\n",
    ")\n",
    "\n",
    "# make upper case to match vicroads data\n",
    "df_lga_population['LGA_NAME'] = df_lga_population['LGA_NAME'].str.upper()\n",
    "\n",
    "# merge into new data frame\n",
    "accidents_by_lga_with_popn = pd.merge(accidents_by_lga, df_lga_population, on='LGA_NAME', how='left')\n",
    "\n",
    "# rate per popn\n",
    "accidents_by_lga_with_popn['crashes_per_100k_per_year'] = round(\n",
    "    100000 * (\n",
    "        accidents_by_lga_with_popn['count']/accidents_by_lga_with_popn['popn']/9\n",
    "    ),0\n",
    ")\n",
    "\n",
    "#print(accidents_by_lga_with_popn)"
   ]
  },
  {
   "cell_type": "code",
   "execution_count": 37,
   "metadata": {},
   "outputs": [
    {
     "ename": "SyntaxError",
     "evalue": "invalid syntax (<ipython-input-37-bd15a6f3585b>, line 29)",
     "output_type": "error",
     "traceback": [
      "\u001b[1;36m  File \u001b[1;32m\"<ipython-input-37-bd15a6f3585b>\"\u001b[1;36m, line \u001b[1;32m29\u001b[0m\n\u001b[1;33m    legend=dict(\u001b[0m\n\u001b[1;37m         ^\u001b[0m\n\u001b[1;31mSyntaxError\u001b[0m\u001b[1;31m:\u001b[0m invalid syntax\n"
     ]
    }
   ],
   "source": [
    "seriesLGAPopnVsCrashesPer100K = go.Scatter(\n",
    "    y = accidents_by_lga_with_popn['crashes_per_100k_per_year'],\n",
    "    x = accidents_by_lga_with_popn['popn'],\n",
    "    name = 'Crashes Per 100k Population vs. Population',\n",
    "    mode = 'markers',\n",
    "    text= accidents_by_lga_with_popn['LGA_NAME']\n",
    ")\n",
    "\n",
    "layout = go.Layout(\n",
    "    title = 'VicRoads Accident - Accidents per 100,000 population vs. Population',\n",
    "    titlefont=dict(\n",
    "            family='Open Sans',\n",
    "            size=22\n",
    "    ),\n",
    "    xaxis=dict(\n",
    "        title = '2016 Population',\n",
    "        titlefont=dict(\n",
    "            family='Open Sans',\n",
    "            size=16\n",
    "        )\n",
    "    ),\n",
    "    yaxis = dict(\n",
    "        title = 'Accidents per 100,000 people',\n",
    "        titlefont=dict(\n",
    "            family='Open Sans',\n",
    "            size=16\n",
    "        )\n",
    "    )\n",
    "    legend=dict(\n",
    "        orientation=\"h\",\n",
    "        x=.24,\n",
    "        y=1.1\n",
    "    ),\n",
    "    annotations=[\n",
    "        dict(\n",
    "            x=135959,\n",
    "            y=689,\n",
    "            xref='x',\n",
    "            yref='y',\n",
    "            text='Melbourne LGA',\n",
    "            showarrow=True,\n",
    "            arrowhead=2,\n",
    "            arrowsize=1,\n",
    "            arrowwidth=1.5,\n",
    "            ax=0,\n",
    "            ay=-40\n",
    "        ),\n",
    "        dict(\n",
    "            x=86675,\n",
    "            y=397,\n",
    "            xref='x',\n",
    "            yref='y',\n",
    "            text='Yarra LGA',\n",
    "            showarrow=True,\n",
    "            arrowhead=2,\n",
    "            arrowsize=1,\n",
    "            arrowwidth=1.5,\n",
    "            ax=0,\n",
    "            ay=-40\n",
    "        )\n",
    "    ]\n",
    ")\n",
    "\n",
    "data = [seriesLGAPopnVsCrashesPer100K]\n",
    "\n",
    "figureLGAPopnVsCrashesPer100K = go.Figure(data=data, layout=layout)"
   ]
  },
  {
   "cell_type": "markdown",
   "metadata": {},
   "source": [
    "### Smaller LGAs have more accidents per person\n",
    "\n",
    "* This would align with the hypothesis that country roads are more dangerous\n",
    "* Outliers\n",
    "    * Melbourne LGA is a clear outlier\n",
    "    * Yarra is more marginal\n",
    "    * Is it perhaps the case minor accidents are more likely to be reported in the city?"
   ]
  },
  {
   "cell_type": "code",
   "execution_count": 33,
   "metadata": {},
   "outputs": [
    {
     "data": {
      "application/vnd.plotly.v1+json": {
       "data": [
        {
         "mode": "markers",
         "name": "Crashes Per 100k Population vs. Population",
         "text": [
          "ALPINE",
          "ARARAT",
          "BALLARAT",
          "BANYULE",
          "BASS COAST",
          "BAW BAW",
          "BAYSIDE",
          "BENALLA",
          "BOROONDARA",
          "BRIMBANK",
          "BULOKE",
          "CAMPASPE",
          "CARDINIA",
          "CASEY",
          "CENTRAL GOLDFIELDS",
          "COLAC-OTWAY",
          "CORANGAMITE",
          "DAREBIN",
          "EAST GIPPSLAND",
          "FRANKSTON",
          "GANNAWARRA",
          "GLEN EIRA",
          "GLENELG",
          "GOLDEN PLAINS",
          "GREATER BENDIGO",
          "GREATER DANDENONG",
          "GREATER GEELONG",
          "GREATER SHEPPARTON",
          "HEPBURN",
          "HINDMARSH",
          "HOBSONS BAY",
          "HORSHAM",
          "HUME",
          "INDIGO",
          "KINGSTON",
          "KNOX",
          "LATROBE",
          "LODDON",
          "MACEDON RANGES",
          "MANNINGHAM",
          "MANSFIELD",
          "MARIBYRNONG",
          "MAROONDAH",
          "MELBOURNE",
          "MELTON",
          "MILDURA",
          "MITCHELL",
          "MOIRA",
          "MONASH",
          "MOONEE VALLEY",
          "MOORABOOL",
          "MORELAND",
          "MORNINGTON PENINSULA",
          "MOUNT ALEXANDER",
          "MOYNE",
          "MURRINDINDI",
          "NILLUMBIK",
          "NORTHERN GRAMPIANS",
          "PORT PHILLIP",
          "PYRENEES",
          "QUEENSCLIFFE",
          "SOUTH GIPPSLAND",
          "SOUTHERN GRAMPIANS",
          "STONNINGTON",
          "STRATHBOGIE",
          "SURF COAST",
          "SWAN HILL",
          "TOWONG",
          "WANGARATTA",
          "WARRNAMBOOL",
          "WELLINGTON",
          "WEST WIMMERA",
          "WHITEHORSE",
          "WHITTLESEA",
          "WODONGA",
          "WYNDHAM",
          "YARRA",
          "YARRA RANGES",
          "YARRIAMBIACK"
         ],
         "type": "scatter",
         "x": [
          12337,
          11600,
          101686,
          121865,
          32804,
          48479,
          97087,
          13861,
          167231,
          194319,
          6201,
          37061,
          94128,
          299301,
          12995,
          20972,
          16051,
          146719,
          45040,
          134143,
          10549,
          140875,
          19557,
          21688,
          110477,
          152050,
          233429,
          63837,
          15330,
          5721,
          88778,
          19642,
          197376,
          15952,
          151389,
          154110,
          73257,
          7516,
          46100,
          116255,
          8584,
          82288,
          110376,
          135959,
          135443,
          53878,
          40918,
          29112,
          182618,
          116671,
          31818,
          162558,
          154999,
          18761,
          16495,
          13732,
          61273,
          11439,
          100863,
          7238,
          2853,
          28703,
          15944,
          103832,
          10274,
          29397,
          20584,
          5985,
          28310,
          33655,
          42983,
          3903,
          162078,
          197491,
          39351,
          217122,
          86657,
          149537,
          6674
         ],
         "y": [
          431,
          270,
          265,
          182,
          266,
          327,
          213,
          310,
          235,
          243,
          278,
          257,
          240,
          199,
          252,
          414,
          330,
          253,
          329,
          215,
          261,
          214,
          273,
          245,
          260,
          334,
          222,
          281,
          296,
          233,
          224,
          248,
          216,
          286,
          239,
          212,
          249,
          415,
          228,
          160,
          577,
          246,
          215,
          689,
          159,
          236,
          308,
          236,
          231,
          203,
          278,
          266,
          227,
          276,
          297,
          660,
          212,
          297,
          301,
          413,
          93,
          366,
          243,
          310,
          501,
          273,
          227,
          507,
          243,
          187,
          292,
          344,
          185,
          178,
          175,
          138,
          397,
          289,
          171
         ]
        }
       ],
       "layout": {
        "annotations": [
         {
          "arrowhead": 2,
          "arrowsize": 1,
          "arrowwidth": 1.5,
          "ax": 0,
          "ay": -40,
          "showarrow": true,
          "text": "Melbourne LGA",
          "x": 135959,
          "xref": "x",
          "y": 689,
          "yref": "y"
         },
         {
          "arrowhead": 2,
          "arrowsize": 1,
          "arrowwidth": 1.5,
          "ax": 0,
          "ay": -40,
          "showarrow": true,
          "text": "Yarra LGA",
          "x": 86675,
          "xref": "x",
          "y": 397,
          "yref": "y"
         }
        ],
        "legend": {
         "orientation": "h",
         "x": 0.24,
         "y": 1.1
        },
        "title": "VicRoads Accident - Accidents per 100,000 population vs. Population",
        "titlefont": {
         "family": "Open Sans",
         "size": 22
        },
        "xaxis": {
         "title": "2016 Population",
         "titlefont": {
          "family": "Open Sans",
          "size": 16
         }
        },
        "yaxis": {
         "title": "Accidents per 100,000 people",
         "titlefont": {
          "family": "Open Sans",
          "size": 16
         }
        }
       }
      },
      "text/html": [
       "<div id=\"fd2dc2da-4472-4102-9006-36675b7a1618\" style=\"height: 525px; width: 100%;\" class=\"plotly-graph-div\"></div><script type=\"text/javascript\">require([\"plotly\"], function(Plotly) { window.PLOTLYENV=window.PLOTLYENV || {};window.PLOTLYENV.BASE_URL=\"https://plot.ly\";Plotly.newPlot(\"fd2dc2da-4472-4102-9006-36675b7a1618\", [{\"type\": \"scatter\", \"y\": [431.0, 270.0, 265.0, 182.0, 266.0, 327.0, 213.0, 310.0, 235.0, 243.0, 278.0, 257.0, 240.0, 199.0, 252.0, 414.0, 330.0, 253.0, 329.0, 215.0, 261.0, 214.0, 273.0, 245.0, 260.0, 334.0, 222.0, 281.0, 296.0, 233.0, 224.0, 248.0, 216.0, 286.0, 239.0, 212.0, 249.0, 415.0, 228.0, 160.0, 577.0, 246.0, 215.0, 689.0, 159.0, 236.0, 308.0, 236.0, 231.0, 203.0, 278.0, 266.0, 227.0, 276.0, 297.0, 660.0, 212.0, 297.0, 301.0, 413.0, 93.0, 366.0, 243.0, 310.0, 501.0, 273.0, 227.0, 507.0, 243.0, 187.0, 292.0, 344.0, 185.0, 178.0, 175.0, 138.0, 397.0, 289.0, 171.0], \"x\": [12337, 11600, 101686, 121865, 32804, 48479, 97087, 13861, 167231, 194319, 6201, 37061, 94128, 299301, 12995, 20972, 16051, 146719, 45040, 134143, 10549, 140875, 19557, 21688, 110477, 152050, 233429, 63837, 15330, 5721, 88778, 19642, 197376, 15952, 151389, 154110, 73257, 7516, 46100, 116255, 8584, 82288, 110376, 135959, 135443, 53878, 40918, 29112, 182618, 116671, 31818, 162558, 154999, 18761, 16495, 13732, 61273, 11439, 100863, 7238, 2853, 28703, 15944, 103832, 10274, 29397, 20584, 5985, 28310, 33655, 42983, 3903, 162078, 197491, 39351, 217122, 86657, 149537, 6674], \"name\": \"Crashes Per 100k Population vs. Population\", \"mode\": \"markers\", \"text\": [\"ALPINE\", \"ARARAT\", \"BALLARAT\", \"BANYULE\", \"BASS COAST\", \"BAW BAW\", \"BAYSIDE\", \"BENALLA\", \"BOROONDARA\", \"BRIMBANK\", \"BULOKE\", \"CAMPASPE\", \"CARDINIA\", \"CASEY\", \"CENTRAL GOLDFIELDS\", \"COLAC-OTWAY\", \"CORANGAMITE\", \"DAREBIN\", \"EAST GIPPSLAND\", \"FRANKSTON\", \"GANNAWARRA\", \"GLEN EIRA\", \"GLENELG\", \"GOLDEN PLAINS\", \"GREATER BENDIGO\", \"GREATER DANDENONG\", \"GREATER GEELONG\", \"GREATER SHEPPARTON\", \"HEPBURN\", \"HINDMARSH\", \"HOBSONS BAY\", \"HORSHAM\", \"HUME\", \"INDIGO\", \"KINGSTON\", \"KNOX\", \"LATROBE\", \"LODDON\", \"MACEDON RANGES\", \"MANNINGHAM\", \"MANSFIELD\", \"MARIBYRNONG\", \"MAROONDAH\", \"MELBOURNE\", \"MELTON\", \"MILDURA\", \"MITCHELL\", \"MOIRA\", \"MONASH\", \"MOONEE VALLEY\", \"MOORABOOL\", \"MORELAND\", \"MORNINGTON PENINSULA\", \"MOUNT ALEXANDER\", \"MOYNE\", \"MURRINDINDI\", \"NILLUMBIK\", \"NORTHERN GRAMPIANS\", \"PORT PHILLIP\", \"PYRENEES\", \"QUEENSCLIFFE\", \"SOUTH GIPPSLAND\", \"SOUTHERN GRAMPIANS\", \"STONNINGTON\", \"STRATHBOGIE\", \"SURF COAST\", \"SWAN HILL\", \"TOWONG\", \"WANGARATTA\", \"WARRNAMBOOL\", \"WELLINGTON\", \"WEST WIMMERA\", \"WHITEHORSE\", \"WHITTLESEA\", \"WODONGA\", \"WYNDHAM\", \"YARRA\", \"YARRA RANGES\", \"YARRIAMBIACK\"]}], {\"title\": \"VicRoads Accident - Accidents per 100,000 population vs. Population\", \"titlefont\": {\"family\": \"Open Sans\", \"size\": 22}, \"xaxis\": {\"title\": \"2016 Population\", \"titlefont\": {\"family\": \"Open Sans\", \"size\": 16}}, \"yaxis\": {\"title\": \"Accidents per 100,000 people\", \"titlefont\": {\"family\": \"Open Sans\", \"size\": 16}}, \"legend\": {\"orientation\": \"h\", \"x\": 0.24, \"y\": 1.1}, \"annotations\": [{\"x\": 135959, \"y\": 689, \"xref\": \"x\", \"yref\": \"y\", \"text\": \"Melbourne LGA\", \"showarrow\": true, \"arrowhead\": 2, \"arrowsize\": 1, \"arrowwidth\": 1.5, \"ax\": 0, \"ay\": -40}, {\"x\": 86675, \"y\": 397, \"xref\": \"x\", \"yref\": \"y\", \"text\": \"Yarra LGA\", \"showarrow\": true, \"arrowhead\": 2, \"arrowsize\": 1, \"arrowwidth\": 1.5, \"ax\": 0, \"ay\": -40}]}, {\"showLink\": true, \"linkText\": \"Export to plot.ly\"})});</script>"
      ],
      "text/vnd.plotly.v1+html": [
       "<div id=\"fd2dc2da-4472-4102-9006-36675b7a1618\" style=\"height: 525px; width: 100%;\" class=\"plotly-graph-div\"></div><script type=\"text/javascript\">require([\"plotly\"], function(Plotly) { window.PLOTLYENV=window.PLOTLYENV || {};window.PLOTLYENV.BASE_URL=\"https://plot.ly\";Plotly.newPlot(\"fd2dc2da-4472-4102-9006-36675b7a1618\", [{\"type\": \"scatter\", \"y\": [431.0, 270.0, 265.0, 182.0, 266.0, 327.0, 213.0, 310.0, 235.0, 243.0, 278.0, 257.0, 240.0, 199.0, 252.0, 414.0, 330.0, 253.0, 329.0, 215.0, 261.0, 214.0, 273.0, 245.0, 260.0, 334.0, 222.0, 281.0, 296.0, 233.0, 224.0, 248.0, 216.0, 286.0, 239.0, 212.0, 249.0, 415.0, 228.0, 160.0, 577.0, 246.0, 215.0, 689.0, 159.0, 236.0, 308.0, 236.0, 231.0, 203.0, 278.0, 266.0, 227.0, 276.0, 297.0, 660.0, 212.0, 297.0, 301.0, 413.0, 93.0, 366.0, 243.0, 310.0, 501.0, 273.0, 227.0, 507.0, 243.0, 187.0, 292.0, 344.0, 185.0, 178.0, 175.0, 138.0, 397.0, 289.0, 171.0], \"x\": [12337, 11600, 101686, 121865, 32804, 48479, 97087, 13861, 167231, 194319, 6201, 37061, 94128, 299301, 12995, 20972, 16051, 146719, 45040, 134143, 10549, 140875, 19557, 21688, 110477, 152050, 233429, 63837, 15330, 5721, 88778, 19642, 197376, 15952, 151389, 154110, 73257, 7516, 46100, 116255, 8584, 82288, 110376, 135959, 135443, 53878, 40918, 29112, 182618, 116671, 31818, 162558, 154999, 18761, 16495, 13732, 61273, 11439, 100863, 7238, 2853, 28703, 15944, 103832, 10274, 29397, 20584, 5985, 28310, 33655, 42983, 3903, 162078, 197491, 39351, 217122, 86657, 149537, 6674], \"name\": \"Crashes Per 100k Population vs. Population\", \"mode\": \"markers\", \"text\": [\"ALPINE\", \"ARARAT\", \"BALLARAT\", \"BANYULE\", \"BASS COAST\", \"BAW BAW\", \"BAYSIDE\", \"BENALLA\", \"BOROONDARA\", \"BRIMBANK\", \"BULOKE\", \"CAMPASPE\", \"CARDINIA\", \"CASEY\", \"CENTRAL GOLDFIELDS\", \"COLAC-OTWAY\", \"CORANGAMITE\", \"DAREBIN\", \"EAST GIPPSLAND\", \"FRANKSTON\", \"GANNAWARRA\", \"GLEN EIRA\", \"GLENELG\", \"GOLDEN PLAINS\", \"GREATER BENDIGO\", \"GREATER DANDENONG\", \"GREATER GEELONG\", \"GREATER SHEPPARTON\", \"HEPBURN\", \"HINDMARSH\", \"HOBSONS BAY\", \"HORSHAM\", \"HUME\", \"INDIGO\", \"KINGSTON\", \"KNOX\", \"LATROBE\", \"LODDON\", \"MACEDON RANGES\", \"MANNINGHAM\", \"MANSFIELD\", \"MARIBYRNONG\", \"MAROONDAH\", \"MELBOURNE\", \"MELTON\", \"MILDURA\", \"MITCHELL\", \"MOIRA\", \"MONASH\", \"MOONEE VALLEY\", \"MOORABOOL\", \"MORELAND\", \"MORNINGTON PENINSULA\", \"MOUNT ALEXANDER\", \"MOYNE\", \"MURRINDINDI\", \"NILLUMBIK\", \"NORTHERN GRAMPIANS\", \"PORT PHILLIP\", \"PYRENEES\", \"QUEENSCLIFFE\", \"SOUTH GIPPSLAND\", \"SOUTHERN GRAMPIANS\", \"STONNINGTON\", \"STRATHBOGIE\", \"SURF COAST\", \"SWAN HILL\", \"TOWONG\", \"WANGARATTA\", \"WARRNAMBOOL\", \"WELLINGTON\", \"WEST WIMMERA\", \"WHITEHORSE\", \"WHITTLESEA\", \"WODONGA\", \"WYNDHAM\", \"YARRA\", \"YARRA RANGES\", \"YARRIAMBIACK\"]}], {\"title\": \"VicRoads Accident - Accidents per 100,000 population vs. Population\", \"titlefont\": {\"family\": \"Open Sans\", \"size\": 22}, \"xaxis\": {\"title\": \"2016 Population\", \"titlefont\": {\"family\": \"Open Sans\", \"size\": 16}}, \"yaxis\": {\"title\": \"Accidents per 100,000 people\", \"titlefont\": {\"family\": \"Open Sans\", \"size\": 16}}, \"legend\": {\"orientation\": \"h\", \"x\": 0.24, \"y\": 1.1}, \"annotations\": [{\"x\": 135959, \"y\": 689, \"xref\": \"x\", \"yref\": \"y\", \"text\": \"Melbourne LGA\", \"showarrow\": true, \"arrowhead\": 2, \"arrowsize\": 1, \"arrowwidth\": 1.5, \"ax\": 0, \"ay\": -40}, {\"x\": 86675, \"y\": 397, \"xref\": \"x\", \"yref\": \"y\", \"text\": \"Yarra LGA\", \"showarrow\": true, \"arrowhead\": 2, \"arrowsize\": 1, \"arrowwidth\": 1.5, \"ax\": 0, \"ay\": -40}]}, {\"showLink\": true, \"linkText\": \"Export to plot.ly\"})});</script>"
      ]
     },
     "metadata": {},
     "output_type": "display_data"
    }
   ],
   "source": [
    "py.iplot(figureLGAPopnVsCrashesPer100K, filename='figureLGAPopnVsCrashesPer100K')"
   ]
  },
  {
   "cell_type": "markdown",
   "metadata": {},
   "source": [
    "### What's this look like on a log scale?"
   ]
  },
  {
   "cell_type": "markdown",
   "metadata": {},
   "source": [
    "# TODO\n",
    "* colour above chart by LGA\n",
    "* make map of rates per LGA\n",
    "* do these for lethality, is the country worse for death?\n",
    "* minor accidents by lga - are melb, yarra near the top?"
   ]
  },
  {
   "cell_type": "markdown",
   "metadata": {},
   "source": [
    "# Vehicle statistics"
   ]
  },
  {
   "cell_type": "markdown",
   "metadata": {},
   "source": [
    "### Data prep"
   ]
  },
  {
   "cell_type": "code",
   "execution_count": 34,
   "metadata": {},
   "outputs": [
    {
     "name": "stdout",
     "output_type": "stream",
     "text": [
      "    ACCIDENT_NO VEHICLE_ID  VEHICLE_YEAR_MANUF VEHICLE_DCA_CODE  \\\n",
      "0  T20060000010          A              1996.0                2   \n",
      "1  T20060000010          B              2003.0                1   \n",
      "2  T20060000010          C              2001.0                8   \n",
      "\n",
      "  INITIAL_DIRECTION  ROAD_SURFACE_TYPE Road Surface Type Desc REG_STATE  \\\n",
      "0                SW                  1                  Paved         V   \n",
      "1                NW                  1                  Paved         V   \n",
      "2                NW                  1                  Paved         V   \n",
      "\n",
      "  VEHICLE_BODY_STYLE VEHICLE_MAKE          ...          VEHICLE_COLOUR_1  \\\n",
      "0             SEDAN        MITSUB          ...                       MRN   \n",
      "1             COUPE        UNKN            ...                       BLU   \n",
      "2             SEDAN        FORD            ...                       YLW   \n",
      "\n",
      "   VEHICLE_COLOUR_2  CAUGHT_FIRE INITIAL_IMPACT  LAMPS LEVEL_OF_DAMAGE  \\\n",
      "0               ZZ             2              F      2               3   \n",
      "1               ZZ             2              2      2               3   \n",
      "2               ZZ             2              F      2               2   \n",
      "\n",
      "  OWNER_POSTCODE  TOWED_AWAY_FLAG  TRAFFIC_CONTROL  Traffic Control Desc  \n",
      "0         3130.0                1               01        Stop-go lights  \n",
      "1         3977.0                1               01        Stop-go lights  \n",
      "2         3804.0                2               01        Stop-go lights  \n",
      "\n",
      "[3 rows x 38 columns]\n"
     ]
    }
   ],
   "source": [
    "df_vehicle = pd.read_csv(\n",
    "    'vicroads_data/ACCIDENT/VEHICLE.csv', # file name and path\n",
    "    sep=',', # separated by commas\n",
    "    #index_col=0, # first column should be primary key\n",
    "    low_memory = False\n",
    ")\n",
    "\n",
    "print(df_vehicle.head(3))"
   ]
  },
  {
   "cell_type": "code",
   "execution_count": 35,
   "metadata": {},
   "outputs": [
    {
     "data": {
      "text/html": [
       "<div>\n",
       "<style>\n",
       "    .dataframe thead tr:only-child th {\n",
       "        text-align: right;\n",
       "    }\n",
       "\n",
       "    .dataframe thead th {\n",
       "        text-align: left;\n",
       "    }\n",
       "\n",
       "    .dataframe tbody tr th {\n",
       "        vertical-align: top;\n",
       "    }\n",
       "</style>\n",
       "<table border=\"1\" class=\"dataframe\">\n",
       "  <thead>\n",
       "    <tr style=\"text-align: right;\">\n",
       "      <th></th>\n",
       "      <th>ACCIDENTDATE</th>\n",
       "      <th>ACCIDENTTIME</th>\n",
       "      <th>ACCIDENT_TYPE</th>\n",
       "      <th>Accident Type Desc</th>\n",
       "      <th>DAY_OF_WEEK</th>\n",
       "      <th>Day Week Description</th>\n",
       "      <th>DCA_CODE</th>\n",
       "      <th>DCA Description</th>\n",
       "      <th>DIRECTORY</th>\n",
       "      <th>EDITION</th>\n",
       "      <th>...</th>\n",
       "      <th>NO_PERSONS_NOT_INJ</th>\n",
       "      <th>POLICE_ATTEND</th>\n",
       "      <th>ROAD_GEOMETRY</th>\n",
       "      <th>Road Geometry Desc</th>\n",
       "      <th>SEVERITY</th>\n",
       "      <th>SPEED_ZONE</th>\n",
       "      <th>date</th>\n",
       "      <th>year</th>\n",
       "      <th>month</th>\n",
       "      <th>hour</th>\n",
       "    </tr>\n",
       "    <tr>\n",
       "      <th>ACCIDENT_NO</th>\n",
       "      <th></th>\n",
       "      <th></th>\n",
       "      <th></th>\n",
       "      <th></th>\n",
       "      <th></th>\n",
       "      <th></th>\n",
       "      <th></th>\n",
       "      <th></th>\n",
       "      <th></th>\n",
       "      <th></th>\n",
       "      <th></th>\n",
       "      <th></th>\n",
       "      <th></th>\n",
       "      <th></th>\n",
       "      <th></th>\n",
       "      <th></th>\n",
       "      <th></th>\n",
       "      <th></th>\n",
       "      <th></th>\n",
       "      <th></th>\n",
       "      <th></th>\n",
       "    </tr>\n",
       "  </thead>\n",
       "  <tbody>\n",
       "    <tr>\n",
       "      <th>T20060000010</th>\n",
       "      <td>13/01/2006</td>\n",
       "      <td>12.42.00</td>\n",
       "      <td>1</td>\n",
       "      <td>Collision with vehicle</td>\n",
       "      <td>6</td>\n",
       "      <td>Friday</td>\n",
       "      <td>113</td>\n",
       "      <td>RIGHT NEAR (INTERSECTIONS ONLY)</td>\n",
       "      <td>MEL</td>\n",
       "      <td>40.0</td>\n",
       "      <td>...</td>\n",
       "      <td>5</td>\n",
       "      <td>1</td>\n",
       "      <td>1</td>\n",
       "      <td>Cross intersection</td>\n",
       "      <td>3</td>\n",
       "      <td>60</td>\n",
       "      <td>2006-01-13 12:42:00</td>\n",
       "      <td>2006</td>\n",
       "      <td>1</td>\n",
       "      <td>12</td>\n",
       "    </tr>\n",
       "    <tr>\n",
       "      <th>T20060000018</th>\n",
       "      <td>13/01/2006</td>\n",
       "      <td>19.10.00</td>\n",
       "      <td>1</td>\n",
       "      <td>Collision with vehicle</td>\n",
       "      <td>6</td>\n",
       "      <td>Friday</td>\n",
       "      <td>113</td>\n",
       "      <td>RIGHT NEAR (INTERSECTIONS ONLY)</td>\n",
       "      <td>MEL</td>\n",
       "      <td>40.0</td>\n",
       "      <td>...</td>\n",
       "      <td>3</td>\n",
       "      <td>1</td>\n",
       "      <td>2</td>\n",
       "      <td>T intersection</td>\n",
       "      <td>3</td>\n",
       "      <td>70</td>\n",
       "      <td>2006-01-13 19:10:00</td>\n",
       "      <td>2006</td>\n",
       "      <td>1</td>\n",
       "      <td>19</td>\n",
       "    </tr>\n",
       "  </tbody>\n",
       "</table>\n",
       "<p>2 rows × 31 columns</p>\n",
       "</div>"
      ],
      "text/plain": [
       "             ACCIDENTDATE ACCIDENTTIME  ACCIDENT_TYPE      Accident Type Desc  \\\n",
       "ACCIDENT_NO                                                                     \n",
       "T20060000010   13/01/2006     12.42.00              1  Collision with vehicle   \n",
       "T20060000018   13/01/2006     19.10.00              1  Collision with vehicle   \n",
       "\n",
       "              DAY_OF_WEEK Day Week Description  DCA_CODE  \\\n",
       "ACCIDENT_NO                                                \n",
       "T20060000010            6               Friday       113   \n",
       "T20060000018            6               Friday       113   \n",
       "\n",
       "                                             DCA Description DIRECTORY  \\\n",
       "ACCIDENT_NO                                                              \n",
       "T20060000010  RIGHT NEAR (INTERSECTIONS ONLY)                      MEL   \n",
       "T20060000018  RIGHT NEAR (INTERSECTIONS ONLY)                      MEL   \n",
       "\n",
       "              EDITION  ...  NO_PERSONS_NOT_INJ POLICE_ATTEND  ROAD_GEOMETRY  \\\n",
       "ACCIDENT_NO            ...                                                    \n",
       "T20060000010     40.0  ...                   5             1              1   \n",
       "T20060000018     40.0  ...                   3             1              2   \n",
       "\n",
       "              Road Geometry Desc SEVERITY  SPEED_ZONE                date  \\\n",
       "ACCIDENT_NO                                                                 \n",
       "T20060000010  Cross intersection        3          60 2006-01-13 12:42:00   \n",
       "T20060000018      T intersection        3          70 2006-01-13 19:10:00   \n",
       "\n",
       "              year  month  hour  \n",
       "ACCIDENT_NO                      \n",
       "T20060000010  2006      1    12  \n",
       "T20060000018  2006      1    19  \n",
       "\n",
       "[2 rows x 31 columns]"
      ]
     },
     "execution_count": 35,
     "metadata": {},
     "output_type": "execute_result"
    }
   ],
   "source": [
    "df_accident.head(2)"
   ]
  }
 ],
 "metadata": {
  "kernelspec": {
   "display_name": "Python 3",
   "language": "python",
   "name": "python3"
  },
  "language_info": {
   "codemirror_mode": {
    "name": "ipython",
    "version": 3
   },
   "file_extension": ".py",
   "mimetype": "text/x-python",
   "name": "python",
   "nbconvert_exporter": "python",
   "pygments_lexer": "ipython3",
   "version": "3.6.1"
  }
 },
 "nbformat": 4,
 "nbformat_minor": 2
}
