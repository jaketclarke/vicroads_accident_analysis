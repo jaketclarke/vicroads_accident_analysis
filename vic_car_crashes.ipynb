{
 "cells": [
  {
   "cell_type": "code",
   "execution_count": 9,
   "metadata": {
    "collapsed": true
   },
   "outputs": [],
   "source": [
    "## Some interesting things from VicRoads Crash Stats"
   ]
  },
  {
   "cell_type": "markdown",
   "metadata": {},
   "source": [
    "#### Import some data"
   ]
  },
  {
   "cell_type": "code",
   "execution_count": 10,
   "metadata": {},
   "outputs": [],
   "source": [
    "import pandas as pd\n",
    "\n",
    "df_accident = pd.read_csv(\n",
    "    'vicroads_data/ACCIDENT/ACCIDENT.csv', # file name and path\n",
    "    sep=',', # separated by commas\n",
    "    index_col=0 # first column should be primary key\n",
    ")"
   ]
  },
  {
   "cell_type": "code",
   "execution_count": 11,
   "metadata": {},
   "outputs": [
    {
     "name": "stdout",
     "output_type": "stream",
     "text": [
      "             ACCIDENTDATE ACCIDENTTIME  ACCIDENT_TYPE  \\\n",
      "ACCIDENT_NO                                             \n",
      "T20060000010   13/01/2006     12.42.00              1   \n",
      "T20060000018   13/01/2006     19.10.00              1   \n",
      "T20060000022   14/01/2006     12.10.00              7   \n",
      "\n",
      "                          Accident Type Desc  DAY_OF_WEEK  \\\n",
      "ACCIDENT_NO                                                 \n",
      "T20060000010          Collision with vehicle            6   \n",
      "T20060000018          Collision with vehicle            6   \n",
      "T20060000022  Fall from or in moving vehicle            7   \n",
      "\n",
      "             Day Week Description  DCA_CODE  \\\n",
      "ACCIDENT_NO                                   \n",
      "T20060000010               Friday       113   \n",
      "T20060000018               Friday       113   \n",
      "T20060000022             Saturday       190   \n",
      "\n",
      "                                             DCA Description DIRECTORY  \\\n",
      "ACCIDENT_NO                                                              \n",
      "T20060000010  RIGHT NEAR (INTERSECTIONS ONLY)                      MEL   \n",
      "T20060000018  RIGHT NEAR (INTERSECTIONS ONLY)                      MEL   \n",
      "T20060000022        FELL IN/FROM VEHICLE                           MEL   \n",
      "\n",
      "              EDITION     ...     NO_PERSONS NO_PERSONS_INJ_2  \\\n",
      "ACCIDENT_NO               ...                                   \n",
      "T20060000010     40.0     ...              6                0   \n",
      "T20060000018     40.0     ...              4                0   \n",
      "T20060000022     40.0     ...              2                1   \n",
      "\n",
      "              NO_PERSONS_INJ_3  NO_PERSONS_KILLED NO_PERSONS_NOT_INJ  \\\n",
      "ACCIDENT_NO                                                            \n",
      "T20060000010                 1                  0                  5   \n",
      "T20060000018                 1                  0                  3   \n",
      "T20060000022                 0                  0                  1   \n",
      "\n",
      "              POLICE_ATTEND  ROAD_GEOMETRY   Road Geometry Desc  SEVERITY  \\\n",
      "ACCIDENT_NO                                                                 \n",
      "T20060000010              1              1   Cross intersection         3   \n",
      "T20060000018              1              2       T intersection         3   \n",
      "T20060000022              1              5  Not at intersection         2   \n",
      "\n",
      "              SPEED_ZONE  \n",
      "ACCIDENT_NO               \n",
      "T20060000010          60  \n",
      "T20060000018          70  \n",
      "T20060000022         100  \n",
      "\n",
      "[3 rows x 27 columns]\n"
     ]
    }
   ],
   "source": [
    "# data read okay?\n",
    "print(df_accident.head(3))"
   ]
  },
  {
   "cell_type": "markdown",
   "metadata": {},
   "source": [
    "## charts"
   ]
  },
  {
   "cell_type": "markdown",
   "metadata": {},
   "source": [
    "#### Include Libraries"
   ]
  },
  {
   "cell_type": "code",
   "execution_count": 12,
   "metadata": {},
   "outputs": [
    {
     "data": {
      "text/html": [
       "<script>requirejs.config({paths: { 'plotly': ['https://cdn.plot.ly/plotly-latest.min']},});if(!window.Plotly) {{require(['plotly'],function(plotly) {window.Plotly=plotly;});}}</script>"
      ],
      "text/vnd.plotly.v1+html": [
       "<script>requirejs.config({paths: { 'plotly': ['https://cdn.plot.ly/plotly-latest.min']},});if(!window.Plotly) {{require(['plotly'],function(plotly) {window.Plotly=plotly;});}}</script>"
      ]
     },
     "metadata": {},
     "output_type": "display_data"
    }
   ],
   "source": [
    "import pandas as pd\n",
    "import numpy as np\n",
    "import plotly.offline as py\n",
    "from plotly.offline import *\n",
    "import plotly.graph_objs as go\n",
    "\n",
    "init_notebook_mode(connected=True) # render plotly charts in the notebook on the fly"
   ]
  },
  {
   "cell_type": "markdown",
   "metadata": {},
   "source": [
    "#### data prep\n",
    "\n",
    "Manipulate data: create a copy of df_accident, add columns for:\n",
    "* Year\n",
    "* Month\n",
    "\n",
    "Filter out 2006 and 2017, as they are incomplete in this data"
   ]
  },
  {
   "cell_type": "code",
   "execution_count": 13,
   "metadata": {},
   "outputs": [
    {
     "name": "stdout",
     "output_type": "stream",
     "text": [
      "             ACCIDENTDATE ACCIDENTTIME  ACCIDENT_TYPE  \\\n",
      "ACCIDENT_NO                                             \n",
      "T20070000004    1/01/2007     02.55.00              4   \n",
      "T20070000008    1/01/2007     03.59.00              1   \n",
      "T20070000009    1/01/2007     03.30.00              4   \n",
      "\n",
      "                         Accident Type Desc  DAY_OF_WEEK Day Week Description  \\\n",
      "ACCIDENT_NO                                                                     \n",
      "T20070000004  Collision with a fixed object            2               Monday   \n",
      "T20070000008         Collision with vehicle            2               Monday   \n",
      "T20070000009  Collision with a fixed object            2               Monday   \n",
      "\n",
      "              DCA_CODE                                    DCA Description  \\\n",
      "ACCIDENT_NO                                                                 \n",
      "T20070000004       171  LEFT OFF CARRIAGEWAY INTO OBJECT/PARKED VEHICL...   \n",
      "T20070000008       140                  U TURN                              \n",
      "T20070000009       181  OFF RIGHT BEND INTO OBJECT/PARKED VEHICLE     ...   \n",
      "\n",
      "             DIRECTORY  EDITION  ...  NO_PERSONS_NOT_INJ POLICE_ATTEND  \\\n",
      "ACCIDENT_NO                      ...                                     \n",
      "T20070000004       VCS      9.0  ...                   0             1   \n",
      "T20070000008       MEL     40.0  ...                   2             1   \n",
      "T20070000009       MEL     40.0  ...                   0             1   \n",
      "\n",
      "              ROAD_GEOMETRY   Road Geometry Desc SEVERITY  SPEED_ZONE  \\\n",
      "ACCIDENT_NO                                                             \n",
      "T20070000004              5  Not at intersection        2          50   \n",
      "T20070000008              2       T intersection        2          60   \n",
      "T20070000009              5  Not at intersection        3          50   \n",
      "\n",
      "                            date  year  month  hour  \n",
      "ACCIDENT_NO                                          \n",
      "T20070000004 2007-01-01 02:55:00  2007      1     2  \n",
      "T20070000008 2007-01-01 03:59:00  2007      1     3  \n",
      "T20070000009 2007-01-01 03:30:00  2007      1     3  \n",
      "\n",
      "[3 rows x 31 columns]\n"
     ]
    }
   ],
   "source": [
    "# Manipulate data\n",
    "df_accident_mod = df_accident\n",
    "#print(df_accident_mod.head(3))\n",
    "\n",
    "## DATES\n",
    "\n",
    "# make a string representing date time\n",
    "df_accident_mod['date'] = df_accident_mod['ACCIDENTDATE'] + ' ' + df_accident_mod['ACCIDENTTIME']\n",
    "\n",
    "# convert to datetime\n",
    "df_accident_mod['date'] = pd.to_datetime(df_accident_mod['date'], format=\"%d/%m/%Y %H.%M.%S\")\n",
    "\n",
    "# make some useful date fields\n",
    "df_accident_mod['year'] = pd.DatetimeIndex(df_accident_mod['date']).year\n",
    "df_accident_mod['month'] = pd.DatetimeIndex(df_accident_mod['date']).month\n",
    "df_accident_mod['hour'] = pd.DatetimeIndex(df_accident_mod['date']).hour\n",
    "\n",
    "#print(df_accident_mod.head(3))\n",
    "\n",
    "## FILTER\n",
    "\n",
    "# remove < 2007 and > 2016, as 2006 and 2017 are incomplete years\n",
    "df_accident_mod = df_accident_mod[df_accident_mod['year'] >= 2007]\n",
    "df_accident_mod = df_accident_mod[df_accident_mod['year'] <= 2016]\n",
    "\n",
    "# remove speed limits > 110 km/h - 777, 888, and 999 are used to code:\n",
    "# 777 = other\n",
    "# 888 = camping grounds or off road\n",
    "# 999 = not known\n",
    "\n",
    "df_accident_mod = df_accident_mod[df_accident_mod['SPEED_ZONE'] <= 110]\n",
    "\n",
    "print(df_accident_mod.head(3))"
   ]
  },
  {
   "cell_type": "markdown",
   "metadata": {},
   "source": [
    "#### Make some charts\n",
    "\n",
    "* run group bys in pandas\n",
    "* configure chart layout\n",
    "* display"
   ]
  },
  {
   "cell_type": "code",
   "execution_count": 14,
   "metadata": {},
   "outputs": [
    {
     "name": "stdout",
     "output_type": "stream",
     "text": [
      "   year    cnt\n",
      "0  2007  12980\n",
      "1  2008  13494\n",
      "2  2009  13097\n"
     ]
    }
   ],
   "source": [
    "accidents_by_year =  df_accident_mod.groupby([ 'year']).size().reset_index(name=\"cnt\")\n",
    "print(accidents_by_year.head(3))"
   ]
  },
  {
   "cell_type": "code",
   "execution_count": 15,
   "metadata": {},
   "outputs": [
    {
     "data": {
      "application/vnd.plotly.v1+json": {
       "data": [
        {
         "marker": {
          "color": "#ee2737"
         },
         "name": "Crashes per Year",
         "type": "bar",
         "x": [
          2007,
          2008,
          2009,
          2010,
          2011,
          2012,
          2013,
          2014,
          2015,
          2016
         ],
         "y": [
          12980,
          13494,
          13097,
          12842,
          12762,
          12925,
          13001,
          13289,
          13360,
          12858
         ]
        }
       ],
       "layout": {
        "title": "VicRoads Accident - Accidents per Year",
        "titlefont": {
         "family": "Open Sans",
         "size": 22
        },
        "xaxis": {
         "dtick": 1,
         "tickangle": -45,
         "title": "Year",
         "titlefont": {
          "family": "Open Sans",
          "size": 16
         }
        },
        "yaxis": {
         "title": "Count",
         "titlefont": {
          "family": "Open Sans",
          "size": 16
         }
        }
       }
      },
      "text/html": [
       "<div id=\"37e9a728-acb5-4eff-813d-3495b5fd36eb\" style=\"height: 525px; width: 100%;\" class=\"plotly-graph-div\"></div><script type=\"text/javascript\">require([\"plotly\"], function(Plotly) { window.PLOTLYENV=window.PLOTLYENV || {};window.PLOTLYENV.BASE_URL=\"https://plot.ly\";Plotly.newPlot(\"37e9a728-acb5-4eff-813d-3495b5fd36eb\", [{\"type\": \"bar\", \"x\": [2007, 2008, 2009, 2010, 2011, 2012, 2013, 2014, 2015, 2016], \"y\": [12980, 13494, 13097, 12842, 12762, 12925, 13001, 13289, 13360, 12858], \"name\": \"Crashes per Year\", \"marker\": {\"color\": \"#ee2737\"}}], {\"title\": \"VicRoads Accident - Accidents per Year\", \"titlefont\": {\"family\": \"Open Sans\", \"size\": 22}, \"xaxis\": {\"tickangle\": -45, \"dtick\": 1, \"title\": \"Year\", \"titlefont\": {\"family\": \"Open Sans\", \"size\": 16}}, \"yaxis\": {\"title\": \"Count\", \"titlefont\": {\"family\": \"Open Sans\", \"size\": 16}}}, {\"showLink\": true, \"linkText\": \"Export to plot.ly\"})});</script>"
      ],
      "text/vnd.plotly.v1+html": [
       "<div id=\"37e9a728-acb5-4eff-813d-3495b5fd36eb\" style=\"height: 525px; width: 100%;\" class=\"plotly-graph-div\"></div><script type=\"text/javascript\">require([\"plotly\"], function(Plotly) { window.PLOTLYENV=window.PLOTLYENV || {};window.PLOTLYENV.BASE_URL=\"https://plot.ly\";Plotly.newPlot(\"37e9a728-acb5-4eff-813d-3495b5fd36eb\", [{\"type\": \"bar\", \"x\": [2007, 2008, 2009, 2010, 2011, 2012, 2013, 2014, 2015, 2016], \"y\": [12980, 13494, 13097, 12842, 12762, 12925, 13001, 13289, 13360, 12858], \"name\": \"Crashes per Year\", \"marker\": {\"color\": \"#ee2737\"}}], {\"title\": \"VicRoads Accident - Accidents per Year\", \"titlefont\": {\"family\": \"Open Sans\", \"size\": 22}, \"xaxis\": {\"tickangle\": -45, \"dtick\": 1, \"title\": \"Year\", \"titlefont\": {\"family\": \"Open Sans\", \"size\": 16}}, \"yaxis\": {\"title\": \"Count\", \"titlefont\": {\"family\": \"Open Sans\", \"size\": 16}}}, {\"showLink\": true, \"linkText\": \"Export to plot.ly\"})});</script>"
      ]
     },
     "metadata": {},
     "output_type": "display_data"
    }
   ],
   "source": [
    "yearSeries = go.Bar(\n",
    "    x = accidents_by_year['year'],\n",
    "    y = accidents_by_year['cnt'],\n",
    "    #mode = 'scatter',\n",
    "    name = 'Crashes per Year',\n",
    "    marker = dict(\n",
    "        color = '#ee2737'\n",
    "    )\n",
    ")\n",
    "\n",
    "layout = go.Layout(\n",
    "    title = 'VicRoads Accident - Accidents per Year',\n",
    "    titlefont=dict(\n",
    "            family='Open Sans',\n",
    "            size=22#,\n",
    "            #color='#7f7f7f'\n",
    "    ),\n",
    "    xaxis=dict(\n",
    "        tickangle = -45, # angle lables at 45 deg\n",
    "        dtick = 1, # label every 1 bars\n",
    "        title = 'Year',\n",
    "            titlefont=dict(\n",
    "                family='Open Sans',\n",
    "                size=16#,\n",
    "                #color='#7f7f7f'\n",
    "            )\n",
    "    ),\n",
    "    yaxis = dict(\n",
    "        title = 'Count',\n",
    "        titlefont=dict(\n",
    "            family='Open Sans',\n",
    "            size=16#,\n",
    "            #color='#7f7f7f'\n",
    "        )\n",
    "    )\n",
    ")\n",
    "\n",
    "data = [yearSeries] # can be multiple series\n",
    "\n",
    "fig = go.Figure(data=data, layout=layout)\n",
    "\n",
    "py.iplot(fig, filename='figureYear')"
   ]
  },
  {
   "cell_type": "markdown",
   "metadata": {},
   "source": [
    "#### Accidents by Month"
   ]
  },
  {
   "cell_type": "markdown",
   "metadata": {},
   "source": [
    "# TODO\n",
    "* Control for days in month\n",
    "* label months Jan, Feb, etc"
   ]
  },
  {
   "cell_type": "code",
   "execution_count": 16,
   "metadata": {},
   "outputs": [
    {
     "name": "stdout",
     "output_type": "stream",
     "text": [
      "   month    cnt\n",
      "0      1  10048\n",
      "1      2  10993\n",
      "2      3  11963\n"
     ]
    },
    {
     "data": {
      "application/vnd.plotly.v1+json": {
       "data": [
        {
         "marker": {
          "color": "#ee2737"
         },
         "name": "Crashes per Month",
         "orientation": "h",
         "type": "bar",
         "x": [
          10048,
          10993,
          11963,
          11025,
          11570,
          10491,
          10662,
          10483,
          9949,
          11369,
          11088,
          10967
         ],
         "y": [
          1,
          2,
          3,
          4,
          5,
          6,
          7,
          8,
          9,
          10,
          11,
          12
         ]
        }
       ],
       "layout": {
        "title": "VicRoads Accident - Accidents per Month",
        "titlefont": {
         "family": "Open Sans",
         "size": 22
        },
        "xaxis": {
         "dtick": 1,
         "tickangle": -45,
         "title": "Month",
         "titlefont": {
          "family": "Open Sans",
          "size": 16
         }
        },
        "yaxis": {
         "title": "Count",
         "titlefont": {
          "family": "Open Sans",
          "size": 16
         }
        }
       }
      },
      "text/html": [
       "<div id=\"bc296112-adb6-4683-a8e6-1e2109b55489\" style=\"height: 525px; width: 100%;\" class=\"plotly-graph-div\"></div><script type=\"text/javascript\">require([\"plotly\"], function(Plotly) { window.PLOTLYENV=window.PLOTLYENV || {};window.PLOTLYENV.BASE_URL=\"https://plot.ly\";Plotly.newPlot(\"bc296112-adb6-4683-a8e6-1e2109b55489\", [{\"type\": \"bar\", \"x\": [10048, 10993, 11963, 11025, 11570, 10491, 10662, 10483, 9949, 11369, 11088, 10967], \"y\": [1, 2, 3, 4, 5, 6, 7, 8, 9, 10, 11, 12], \"name\": \"Crashes per Month\", \"marker\": {\"color\": \"#ee2737\"}, \"orientation\": \"h\"}], {\"title\": \"VicRoads Accident - Accidents per Month\", \"titlefont\": {\"family\": \"Open Sans\", \"size\": 22}, \"xaxis\": {\"tickangle\": -45, \"dtick\": 1, \"title\": \"Month\", \"titlefont\": {\"family\": \"Open Sans\", \"size\": 16}}, \"yaxis\": {\"title\": \"Count\", \"titlefont\": {\"family\": \"Open Sans\", \"size\": 16}}}, {\"showLink\": true, \"linkText\": \"Export to plot.ly\"})});</script>"
      ],
      "text/vnd.plotly.v1+html": [
       "<div id=\"bc296112-adb6-4683-a8e6-1e2109b55489\" style=\"height: 525px; width: 100%;\" class=\"plotly-graph-div\"></div><script type=\"text/javascript\">require([\"plotly\"], function(Plotly) { window.PLOTLYENV=window.PLOTLYENV || {};window.PLOTLYENV.BASE_URL=\"https://plot.ly\";Plotly.newPlot(\"bc296112-adb6-4683-a8e6-1e2109b55489\", [{\"type\": \"bar\", \"x\": [10048, 10993, 11963, 11025, 11570, 10491, 10662, 10483, 9949, 11369, 11088, 10967], \"y\": [1, 2, 3, 4, 5, 6, 7, 8, 9, 10, 11, 12], \"name\": \"Crashes per Month\", \"marker\": {\"color\": \"#ee2737\"}, \"orientation\": \"h\"}], {\"title\": \"VicRoads Accident - Accidents per Month\", \"titlefont\": {\"family\": \"Open Sans\", \"size\": 22}, \"xaxis\": {\"tickangle\": -45, \"dtick\": 1, \"title\": \"Month\", \"titlefont\": {\"family\": \"Open Sans\", \"size\": 16}}, \"yaxis\": {\"title\": \"Count\", \"titlefont\": {\"family\": \"Open Sans\", \"size\": 16}}}, {\"showLink\": true, \"linkText\": \"Export to plot.ly\"})});</script>"
      ]
     },
     "metadata": {},
     "output_type": "display_data"
    }
   ],
   "source": [
    "accidents_by_month =  df_accident_mod.groupby([ 'month']).size().reset_index(name=\"cnt\")\n",
    "print(accidents_by_month.head(3))\n",
    "\n",
    "monthSeries = go.Bar(\n",
    "    x = accidents_by_month['cnt'],\n",
    "    y = accidents_by_month['month'],\n",
    "    \n",
    "    #mode = 'scatter',\n",
    "    name = 'Crashes per Month',\n",
    "    marker = dict(\n",
    "        color = '#ee2737'\n",
    "    ),\n",
    "    orientation = 'h'\n",
    ")\n",
    "\n",
    "layout = go.Layout(\n",
    "    title = 'VicRoads Accident - Accidents per Month',\n",
    "    titlefont=dict(\n",
    "            family='Open Sans',\n",
    "            size=22#,\n",
    "            #color='#7f7f7f'\n",
    "    ),\n",
    "    xaxis=dict(\n",
    "        tickangle = -45, # angle lables at 45 deg\n",
    "        dtick = 1, # label every 1 bars\n",
    "        title = 'Month',\n",
    "            titlefont=dict(\n",
    "                family='Open Sans',\n",
    "                size=16#,\n",
    "                #color='#7f7f7f'\n",
    "            )\n",
    "    ),\n",
    "    yaxis = dict(\n",
    "        title = 'Count',\n",
    "        titlefont=dict(\n",
    "            family='Open Sans',\n",
    "            size=16#,\n",
    "            #color='#7f7f7f'\n",
    "        )\n",
    "    )\n",
    ")\n",
    "\n",
    "data = [monthSeries] # can be multiple series\n",
    "\n",
    "figureMonth = go.Figure(data=data, layout=layout)\n",
    "\n",
    "py.iplot(figureMonth, filename='figureMonth')"
   ]
  },
  {
   "cell_type": "markdown",
   "metadata": {},
   "source": [
    "#### Accidents by Speed Zone"
   ]
  },
  {
   "cell_type": "code",
   "execution_count": 17,
   "metadata": {},
   "outputs": [
    {
     "name": "stdout",
     "output_type": "stream",
     "text": [
      "   SPEED_ZONE    cnt\n",
      "0          30    170\n",
      "1          40   5388\n",
      "2          50  25395\n"
     ]
    },
    {
     "data": {
      "application/vnd.plotly.v1+json": {
       "data": [
        {
         "marker": {
          "color": "#ee2737"
         },
         "name": "Num. Crashes",
         "type": "bar",
         "x": [
          30,
          40,
          50,
          60,
          70,
          75,
          80,
          90,
          100,
          110
         ],
         "y": [
          170,
          5388,
          25395,
          47005,
          10801,
          28,
          18206,
          716,
          21454,
          1445
         ]
        }
       ],
       "layout": {
        "title": "VicRoads Accident - Accidents by Speed Limit Zone",
        "titlefont": {
         "family": "Open Sans",
         "size": 22
        },
        "xaxis": {
         "dtick": 10,
         "tickangle": -45,
         "title": "Speed Limit Zone",
         "titlefont": {
          "family": "Open Sans",
          "size": 16
         }
        },
        "yaxis": {
         "title": "Count",
         "titlefont": {
          "family": "Open Sans",
          "size": 16
         }
        }
       }
      },
      "text/html": [
       "<div id=\"58e30b72-335b-4014-9c49-a61c8c657688\" style=\"height: 525px; width: 100%;\" class=\"plotly-graph-div\"></div><script type=\"text/javascript\">require([\"plotly\"], function(Plotly) { window.PLOTLYENV=window.PLOTLYENV || {};window.PLOTLYENV.BASE_URL=\"https://plot.ly\";Plotly.newPlot(\"58e30b72-335b-4014-9c49-a61c8c657688\", [{\"type\": \"bar\", \"y\": [170, 5388, 25395, 47005, 10801, 28, 18206, 716, 21454, 1445], \"x\": [30, 40, 50, 60, 70, 75, 80, 90, 100, 110], \"name\": \"Num. Crashes\", \"marker\": {\"color\": \"#ee2737\"}}], {\"title\": \"VicRoads Accident - Accidents by Speed Limit Zone\", \"titlefont\": {\"family\": \"Open Sans\", \"size\": 22}, \"xaxis\": {\"tickangle\": -45, \"dtick\": 10, \"title\": \"Speed Limit Zone\", \"titlefont\": {\"family\": \"Open Sans\", \"size\": 16}}, \"yaxis\": {\"title\": \"Count\", \"titlefont\": {\"family\": \"Open Sans\", \"size\": 16}}}, {\"showLink\": true, \"linkText\": \"Export to plot.ly\"})});</script>"
      ],
      "text/vnd.plotly.v1+html": [
       "<div id=\"58e30b72-335b-4014-9c49-a61c8c657688\" style=\"height: 525px; width: 100%;\" class=\"plotly-graph-div\"></div><script type=\"text/javascript\">require([\"plotly\"], function(Plotly) { window.PLOTLYENV=window.PLOTLYENV || {};window.PLOTLYENV.BASE_URL=\"https://plot.ly\";Plotly.newPlot(\"58e30b72-335b-4014-9c49-a61c8c657688\", [{\"type\": \"bar\", \"y\": [170, 5388, 25395, 47005, 10801, 28, 18206, 716, 21454, 1445], \"x\": [30, 40, 50, 60, 70, 75, 80, 90, 100, 110], \"name\": \"Num. Crashes\", \"marker\": {\"color\": \"#ee2737\"}}], {\"title\": \"VicRoads Accident - Accidents by Speed Limit Zone\", \"titlefont\": {\"family\": \"Open Sans\", \"size\": 22}, \"xaxis\": {\"tickangle\": -45, \"dtick\": 10, \"title\": \"Speed Limit Zone\", \"titlefont\": {\"family\": \"Open Sans\", \"size\": 16}}, \"yaxis\": {\"title\": \"Count\", \"titlefont\": {\"family\": \"Open Sans\", \"size\": 16}}}, {\"showLink\": true, \"linkText\": \"Export to plot.ly\"})});</script>"
      ]
     },
     "metadata": {},
     "output_type": "display_data"
    }
   ],
   "source": [
    "# 777, 888, and 999 exist in the SPEED_ZONE column\n",
    "# remove >110\n",
    "\n",
    "\n",
    "accidents_by_speed =  df_accident_mod.groupby([ 'SPEED_ZONE']).size().reset_index(name=\"cnt\")\n",
    "print(accidents_by_speed.head(3))\n",
    "\n",
    "speedLimitZoneSeries = go.Bar(\n",
    "    y = accidents_by_speed['cnt'],\n",
    "    x = accidents_by_speed['SPEED_ZONE'],\n",
    "    name = 'Num. Crashes',\n",
    "    marker = dict(\n",
    "        color = '#ee2737'\n",
    "    )\n",
    ")\n",
    "\n",
    "layout = go.Layout(\n",
    "    title = 'VicRoads Accident - Accidents by Speed Limit Zone',\n",
    "    titlefont=dict(\n",
    "            family='Open Sans',\n",
    "            size=22#,\n",
    "            #color='#7f7f7f'\n",
    "    ),\n",
    "    xaxis=dict(\n",
    "        tickangle = -45, # angle lables at 45 deg\n",
    "        dtick = 10, # label every 1 bars\n",
    "        title = 'Speed Limit Zone',\n",
    "            titlefont=dict(\n",
    "                family='Open Sans',\n",
    "                size=16#,\n",
    "                #color='#7f7f7f'\n",
    "            )\n",
    "    ),\n",
    "    yaxis = dict(\n",
    "        title = 'Count',\n",
    "        titlefont=dict(\n",
    "            family='Open Sans',\n",
    "            size=16#,\n",
    "            #color='#7f7f7f'\n",
    "        )\n",
    "    )\n",
    ")\n",
    "\n",
    "data = [speedLimitZoneSeries] # can be multiple series\n",
    "\n",
    "figurespeedLimitZone = go.Figure(data=data, layout=layout)\n",
    "\n",
    "py.iplot(figurespeedLimitZone, filename='figurespeedLimitZone')"
   ]
  },
  {
   "cell_type": "markdown",
   "metadata": {},
   "source": [
    "#### All accidents vs Fatal accidents"
   ]
  },
  {
   "cell_type": "code",
   "execution_count": 18,
   "metadata": {},
   "outputs": [
    {
     "name": "stdout",
     "output_type": "stream",
     "text": [
      "   SPEED_ZONE  SEVERITY  cnt\n",
      "0          30         1    1\n",
      "1          30         2   52\n",
      "2          30         3  117\n",
      "   SPEED_ZONE  SEVERITY  cnt\n",
      "0          30         1    1\n",
      "3          40         1   24\n",
      "6          50         1  222\n"
     ]
    },
    {
     "data": {
      "application/vnd.plotly.v1+json": {
       "data": [
        {
         "marker": {
          "color": "#ee2737"
         },
         "name": "Num. Crashes",
         "type": "bar",
         "x": [
          30,
          40,
          50,
          60,
          70,
          75,
          80,
          90,
          100,
          110
         ],
         "y": [
          170,
          5388,
          25395,
          47005,
          10801,
          28,
          18206,
          716,
          21454,
          1445
         ]
        },
        {
         "marker": {
          "color": "#0077c8"
         },
         "name": "Severe Crashes by Speed Limit Zone",
         "type": "bar",
         "x": [
          30,
          40,
          50,
          60,
          70,
          75,
          80,
          90,
          100,
          110
         ],
         "y": [
          1,
          24,
          222,
          475,
          188,
          1,
          385,
          27,
          1131,
          90
         ]
        }
       ],
       "layout": {
        "title": "VicRoads Accident - Accidents by Speed Limit Zone",
        "titlefont": {
         "family": "Open Sans",
         "size": 22
        },
        "xaxis": {
         "dtick": 10,
         "tickangle": -45,
         "title": "Speed Limit Zone",
         "titlefont": {
          "family": "Open Sans",
          "size": 16
         }
        },
        "yaxis": {
         "title": "Count",
         "titlefont": {
          "family": "Open Sans",
          "size": 16
         }
        }
       }
      },
      "text/html": [
       "<div id=\"1d751999-8535-4dd5-a241-6ed25a035a4a\" style=\"height: 525px; width: 100%;\" class=\"plotly-graph-div\"></div><script type=\"text/javascript\">require([\"plotly\"], function(Plotly) { window.PLOTLYENV=window.PLOTLYENV || {};window.PLOTLYENV.BASE_URL=\"https://plot.ly\";Plotly.newPlot(\"1d751999-8535-4dd5-a241-6ed25a035a4a\", [{\"type\": \"bar\", \"y\": [170, 5388, 25395, 47005, 10801, 28, 18206, 716, 21454, 1445], \"x\": [30, 40, 50, 60, 70, 75, 80, 90, 100, 110], \"name\": \"Num. Crashes\", \"marker\": {\"color\": \"#ee2737\"}}, {\"type\": \"bar\", \"y\": [1, 24, 222, 475, 188, 1, 385, 27, 1131, 90], \"x\": [30, 40, 50, 60, 70, 75, 80, 90, 100, 110], \"name\": \"Severe Crashes by Speed Limit Zone\", \"marker\": {\"color\": \"#0077c8\"}}], {\"title\": \"VicRoads Accident - Accidents by Speed Limit Zone\", \"titlefont\": {\"family\": \"Open Sans\", \"size\": 22}, \"xaxis\": {\"tickangle\": -45, \"dtick\": 10, \"title\": \"Speed Limit Zone\", \"titlefont\": {\"family\": \"Open Sans\", \"size\": 16}}, \"yaxis\": {\"title\": \"Count\", \"titlefont\": {\"family\": \"Open Sans\", \"size\": 16}}}, {\"showLink\": true, \"linkText\": \"Export to plot.ly\"})});</script>"
      ],
      "text/vnd.plotly.v1+html": [
       "<div id=\"1d751999-8535-4dd5-a241-6ed25a035a4a\" style=\"height: 525px; width: 100%;\" class=\"plotly-graph-div\"></div><script type=\"text/javascript\">require([\"plotly\"], function(Plotly) { window.PLOTLYENV=window.PLOTLYENV || {};window.PLOTLYENV.BASE_URL=\"https://plot.ly\";Plotly.newPlot(\"1d751999-8535-4dd5-a241-6ed25a035a4a\", [{\"type\": \"bar\", \"y\": [170, 5388, 25395, 47005, 10801, 28, 18206, 716, 21454, 1445], \"x\": [30, 40, 50, 60, 70, 75, 80, 90, 100, 110], \"name\": \"Num. Crashes\", \"marker\": {\"color\": \"#ee2737\"}}, {\"type\": \"bar\", \"y\": [1, 24, 222, 475, 188, 1, 385, 27, 1131, 90], \"x\": [30, 40, 50, 60, 70, 75, 80, 90, 100, 110], \"name\": \"Severe Crashes by Speed Limit Zone\", \"marker\": {\"color\": \"#0077c8\"}}], {\"title\": \"VicRoads Accident - Accidents by Speed Limit Zone\", \"titlefont\": {\"family\": \"Open Sans\", \"size\": 22}, \"xaxis\": {\"tickangle\": -45, \"dtick\": 10, \"title\": \"Speed Limit Zone\", \"titlefont\": {\"family\": \"Open Sans\", \"size\": 16}}, \"yaxis\": {\"title\": \"Count\", \"titlefont\": {\"family\": \"Open Sans\", \"size\": 16}}}, {\"showLink\": true, \"linkText\": \"Export to plot.ly\"})});</script>"
      ]
     },
     "metadata": {},
     "output_type": "display_data"
    }
   ],
   "source": [
    "# group by severity and speed zone\n",
    "accidents_by_speed_by_severity =  df_accident_mod.groupby(['SPEED_ZONE','SEVERITY']).size().reset_index(name=\"cnt\")\n",
    "print(accidents_by_speed_by_severity.head(3))\n",
    "\n",
    "# only keep severe\n",
    "accidents_by_speed_severity_1 = accidents_by_speed_by_severity[accidents_by_speed_by_severity['SEVERITY'] == 1]\n",
    "print(accidents_by_speed_severity_1.head(3))\n",
    "\n",
    "speedLimitZoneSeriesSevere = go.Bar(\n",
    "    y = accidents_by_speed_severity_1['cnt'],\n",
    "    x = accidents_by_speed_severity_1['SPEED_ZONE'],\n",
    "    name = 'Severe Crashes by Speed Limit Zone',\n",
    "    marker = dict(\n",
    "        color = '#0077c8'\n",
    "    )\n",
    ")\n",
    "\n",
    "layout = go.Layout(\n",
    "    #barmode = 'stack',\n",
    "    title = 'VicRoads Accident - Accidents by Speed Limit Zone',\n",
    "    titlefont=dict(\n",
    "            family='Open Sans',\n",
    "            size=22#,\n",
    "            #color='#7f7f7f'\n",
    "    ),\n",
    "    xaxis=dict(\n",
    "        tickangle = -45, # angle lables at 45 deg\n",
    "        dtick = 10, # label every 1 bars\n",
    "        title = 'Speed Limit Zone',\n",
    "            titlefont=dict(\n",
    "                family='Open Sans',\n",
    "                size=16#,\n",
    "                #color='#7f7f7f'\n",
    "            )\n",
    "    ),\n",
    "    yaxis = dict(\n",
    "        title = 'Count',\n",
    "        titlefont=dict(\n",
    "            family='Open Sans',\n",
    "            size=16#,\n",
    "            #color='#7f7f7f'\n",
    "        )\n",
    "    )\n",
    ")\n",
    "\n",
    "data = [speedLimitZoneSeries, speedLimitZoneSeriesSevere] # can be multiple series\n",
    "\n",
    "figurespeedLimitZoneSevere = go.Figure(data=data, layout=layout)\n",
    "\n",
    "py.iplot(figurespeedLimitZoneSevere, filename='figurespeedLimitZoneSevere')"
   ]
  },
  {
   "cell_type": "markdown",
   "metadata": {},
   "source": [
    "#### % Crashes Lethal\n",
    "\n",
    "This snippet of code:\n",
    "* Groups by both Speed Zone and Severity\n",
    "* Applys a function to calculate a fields percentage of the first group by field (speed zone), so all speed zone 30 sum to 100, all speed zone 40 sum to 100, etc\n",
    "* filter for just severe crashes (severity = 1), indicating someone died"
   ]
  },
  {
   "cell_type": "code",
   "execution_count": 50,
   "metadata": {
    "scrolled": true
   },
   "outputs": [
    {
     "name": "stdout",
     "output_type": "stream",
     "text": [
      "    SPEED_ZONE  count\n",
      "0           30   0.59\n",
      "3           40   0.45\n",
      "6           50   0.87\n",
      "9           60   1.01\n",
      "13          70   1.74\n",
      "16          75   3.57\n",
      "19          80   2.11\n",
      "22          90   3.77\n",
      "25         100   5.27\n",
      "28         110   6.23\n"
     ]
    }
   ],
   "source": [
    "# group by severity and speed zone\n",
    "accidents_by_speed_by_severity =  df_accident_mod.groupby(['SPEED_ZONE','SEVERITY']).size()\n",
    "# divide by the first level you grouped by, multiply by 100, to end up with each severitys % of speed zone crashes\n",
    "accidents_by_speed_by_severity_pc = accidents_by_speed_by_severity.groupby(level=0).apply(lambda x:round(\n",
    "                                                 100 * x / float(x.sum()),2))\n",
    "\n",
    "# reset index and name the new column count\n",
    "accidents_by_speed_by_severity_pc = accidents_by_speed_by_severity_pc.reset_index(name=\"count\")\n",
    "\n",
    "# filter for just severe\n",
    "accidents_by_speed_severe_pc = accidents_by_speed_by_severity_pc[accidents_by_speed_by_severity_pc['SEVERITY'] == 1]\n",
    "\n",
    "# drop now-redundant column\n",
    "del accidents_by_speed_severe_pc['SEVERITY']\n",
    "\n",
    "print(accidents_by_speed_severe_pc)\n"
   ]
  },
  {
   "cell_type": "code",
   "execution_count": 44,
   "metadata": {},
   "outputs": [
    {
     "data": {
      "application/vnd.plotly.v1+json": {
       "data": [
        {
         "marker": {
          "color": "#ee2737"
         },
         "name": "Num. Crashes",
         "type": "bar",
         "x": [
          30,
          40,
          50,
          60,
          70,
          75,
          80,
          90,
          100,
          110
         ],
         "y": [
          170,
          5388,
          25395,
          47005,
          10801,
          28,
          18206,
          716,
          21454,
          1445
         ]
        },
        {
         "marker": {
          "color": "#0077c8"
         },
         "name": "% Crashes Lethal",
         "type": "scatter",
         "x": [
          30,
          40,
          50,
          60,
          70,
          75,
          80,
          90,
          100,
          110
         ],
         "y": [
          0.5882352941176471,
          0.44543429844098,
          0.874187832250443,
          1.0105307945963196,
          1.7405795759651883,
          3.5714285714285716,
          2.114687465670658,
          3.7709497206703912,
          5.271744196886361,
          6.228373702422146
         ],
         "yaxis": "y2"
        }
       ],
       "layout": {
        "barmode": "group",
        "title": "VicRoads Accident - Accidents by Speed Limit Zone",
        "titlefont": {
         "family": "Open Sans",
         "size": 22
        },
        "xaxis": {
         "dtick": 10,
         "tickangle": -45,
         "title": "Speed Limit Zone",
         "titlefont": {
          "family": "Open Sans",
          "size": 16
         }
        },
        "yaxis": {
         "dtick": 5000,
         "range": [
          0,
          65000
         ],
         "title": "Num. Crashes",
         "titlefont": {
          "family": "Open Sans",
          "size": 16
         }
        },
        "yaxis2": {
         "dtick": 1,
         "overlaying": "y",
         "range": [
          0,
          6.5
         ],
         "side": "right",
         "title": "% Crashes Lethal",
         "titlefont": {
          "family": "Open Sans",
          "size": 16
         }
        }
       }
      },
      "text/html": [
       "<div id=\"d5d76de1-048d-4a76-ba58-62e082a9a7a2\" style=\"height: 525px; width: 100%;\" class=\"plotly-graph-div\"></div><script type=\"text/javascript\">require([\"plotly\"], function(Plotly) { window.PLOTLYENV=window.PLOTLYENV || {};window.PLOTLYENV.BASE_URL=\"https://plot.ly\";Plotly.newPlot(\"d5d76de1-048d-4a76-ba58-62e082a9a7a2\", [{\"type\": \"bar\", \"y\": [170, 5388, 25395, 47005, 10801, 28, 18206, 716, 21454, 1445], \"x\": [30, 40, 50, 60, 70, 75, 80, 90, 100, 110], \"name\": \"Num. Crashes\", \"marker\": {\"color\": \"#ee2737\"}}, {\"type\": \"scatter\", \"y\": [0.5882352941176471, 0.44543429844098, 0.874187832250443, 1.0105307945963196, 1.7405795759651883, 3.5714285714285716, 2.114687465670658, 3.7709497206703912, 5.271744196886361, 6.228373702422146], \"x\": [30, 40, 50, 60, 70, 75, 80, 90, 100, 110], \"name\": \"% Crashes Lethal\", \"marker\": {\"color\": \"#0077c8\"}, \"yaxis\": \"y2\"}], {\"barmode\": \"group\", \"title\": \"VicRoads Accident - Accidents by Speed Limit Zone\", \"titlefont\": {\"family\": \"Open Sans\", \"size\": 22}, \"xaxis\": {\"tickangle\": -45, \"dtick\": 10, \"title\": \"Speed Limit Zone\", \"titlefont\": {\"family\": \"Open Sans\", \"size\": 16}}, \"yaxis\": {\"title\": \"Num. Crashes\", \"titlefont\": {\"family\": \"Open Sans\", \"size\": 16}, \"dtick\": 5000, \"range\": [0, 65000]}, \"yaxis2\": {\"title\": \"% Crashes Lethal\", \"overlaying\": \"y\", \"side\": \"right\", \"titlefont\": {\"family\": \"Open Sans\", \"size\": 16}, \"range\": [0, 6.5], \"dtick\": 1}}, {\"showLink\": true, \"linkText\": \"Export to plot.ly\"})});</script>"
      ],
      "text/vnd.plotly.v1+html": [
       "<div id=\"d5d76de1-048d-4a76-ba58-62e082a9a7a2\" style=\"height: 525px; width: 100%;\" class=\"plotly-graph-div\"></div><script type=\"text/javascript\">require([\"plotly\"], function(Plotly) { window.PLOTLYENV=window.PLOTLYENV || {};window.PLOTLYENV.BASE_URL=\"https://plot.ly\";Plotly.newPlot(\"d5d76de1-048d-4a76-ba58-62e082a9a7a2\", [{\"type\": \"bar\", \"y\": [170, 5388, 25395, 47005, 10801, 28, 18206, 716, 21454, 1445], \"x\": [30, 40, 50, 60, 70, 75, 80, 90, 100, 110], \"name\": \"Num. Crashes\", \"marker\": {\"color\": \"#ee2737\"}}, {\"type\": \"scatter\", \"y\": [0.5882352941176471, 0.44543429844098, 0.874187832250443, 1.0105307945963196, 1.7405795759651883, 3.5714285714285716, 2.114687465670658, 3.7709497206703912, 5.271744196886361, 6.228373702422146], \"x\": [30, 40, 50, 60, 70, 75, 80, 90, 100, 110], \"name\": \"% Crashes Lethal\", \"marker\": {\"color\": \"#0077c8\"}, \"yaxis\": \"y2\"}], {\"barmode\": \"group\", \"title\": \"VicRoads Accident - Accidents by Speed Limit Zone\", \"titlefont\": {\"family\": \"Open Sans\", \"size\": 22}, \"xaxis\": {\"tickangle\": -45, \"dtick\": 10, \"title\": \"Speed Limit Zone\", \"titlefont\": {\"family\": \"Open Sans\", \"size\": 16}}, \"yaxis\": {\"title\": \"Num. Crashes\", \"titlefont\": {\"family\": \"Open Sans\", \"size\": 16}, \"dtick\": 5000, \"range\": [0, 65000]}, \"yaxis2\": {\"title\": \"% Crashes Lethal\", \"overlaying\": \"y\", \"side\": \"right\", \"titlefont\": {\"family\": \"Open Sans\", \"size\": 16}, \"range\": [0, 6.5], \"dtick\": 1}}, {\"showLink\": true, \"linkText\": \"Export to plot.ly\"})});</script>"
      ]
     },
     "metadata": {},
     "output_type": "display_data"
    }
   ],
   "source": [
    "speedLimitZoneSeriesSeverePc = go.Scatter(\n",
    "    y = accidents_by_speed_severe_pc['count'],\n",
    "    x = accidents_by_speed_severe_pc['SPEED_ZONE'],\n",
    "    name = '% Crashes Lethal',\n",
    "    marker = dict(\n",
    "        color = '#0077c8'\n",
    "    ),\n",
    "    yaxis='y2'\n",
    ")\n",
    "\n",
    "layout = go.Layout(\n",
    "    barmode = 'group',\n",
    "    title = 'VicRoads Accident - Accidents by Speed Limit Zone',\n",
    "    titlefont=dict(\n",
    "            family='Open Sans',\n",
    "            size=22\n",
    "    ),\n",
    "    xaxis=dict(\n",
    "        tickangle = -45, # angle lables at 45 deg\n",
    "        dtick = 10, # label every 10th number after 0\n",
    "        title = 'Speed Limit Zone',\n",
    "            titlefont=dict(\n",
    "                family='Open Sans',\n",
    "                size=16\n",
    "            )\n",
    "    ),\n",
    "    yaxis = dict(\n",
    "        title = 'Num. Crashes',\n",
    "        titlefont=dict(\n",
    "            family='Open Sans',\n",
    "            size=16\n",
    "        ),\n",
    "        dtick=5000,\n",
    "        range=[0,65000]\n",
    "    ),\n",
    "    yaxis2=dict(\n",
    "        title='% Crashes Lethal',\n",
    "        overlaying='y',\n",
    "        side='right',\n",
    "        titlefont=dict(\n",
    "            family='Open Sans',\n",
    "            size=16\n",
    "        ),\n",
    "        range=[0,6.5],\n",
    "        dtick = 1\n",
    "    )\n",
    ")\n",
    "\n",
    "data = [speedLimitZoneSeries, speedLimitZoneSeriesSeverePc] # can be multiple series\n",
    "\n",
    "figurespeedLimitZoneSeverePc = go.Figure(data=data, layout=layout)\n",
    "\n",
    "py.iplot(figurespeedLimitZoneSeverePc, filename='figurespeedLimitZoneSeverePc')"
   ]
  },
  {
   "cell_type": "markdown",
   "metadata": {},
   "source": [
    "### Crashes by Hour"
   ]
  },
  {
   "cell_type": "code",
   "execution_count": 24,
   "metadata": {},
   "outputs": [
    {
     "name": "stdout",
     "output_type": "stream",
     "text": [
      "   hour   cnt\n",
      "0     0  2067\n",
      "1     1  1755\n",
      "2     2  1415\n"
     ]
    }
   ],
   "source": [
    "accidents_by_hour = df_accident_mod.groupby(['hour']).size().reset_index(name=\"cnt\")\n",
    "print(accidents_by_hour.head(3))"
   ]
  },
  {
   "cell_type": "code",
   "execution_count": 45,
   "metadata": {},
   "outputs": [
    {
     "data": {
      "application/vnd.plotly.v1+json": {
       "data": [
        {
         "marker": {
          "color": "#FF6900"
         },
         "name": "Num. Crashes",
         "type": "bar",
         "x": [
          0,
          1,
          2,
          3,
          4,
          5,
          6,
          7,
          8,
          9,
          10,
          11,
          12,
          13,
          14,
          15,
          16,
          17,
          18,
          19,
          20,
          21,
          22,
          23
         ],
         "y": [
          2067,
          1755,
          1415,
          1276,
          1146,
          1723,
          3775,
          5541,
          8624,
          6807,
          6429,
          7261,
          7620,
          7545,
          7762,
          10289,
          10346,
          10852,
          8961,
          5611,
          4084,
          3811,
          3203,
          2705
         ]
        }
       ],
       "layout": {
        "barmode": "group",
        "title": "VicRoads Accident - Accidents by Hour",
        "titlefont": {
         "family": "Open Sans",
         "size": 22
        },
        "xaxis": {
         "dtick": 1,
         "title": "Speed Limit Zone",
         "titlefont": {
          "family": "Open Sans",
          "size": 16
         }
        },
        "yaxis": {
         "title": "Num. Crashes",
         "titlefont": {
          "family": "Open Sans",
          "size": 16
         }
        }
       }
      },
      "text/html": [
       "<div id=\"a35408e0-b66d-41c2-a422-80c6f99c2033\" style=\"height: 525px; width: 100%;\" class=\"plotly-graph-div\"></div><script type=\"text/javascript\">require([\"plotly\"], function(Plotly) { window.PLOTLYENV=window.PLOTLYENV || {};window.PLOTLYENV.BASE_URL=\"https://plot.ly\";Plotly.newPlot(\"a35408e0-b66d-41c2-a422-80c6f99c2033\", [{\"type\": \"bar\", \"y\": [2067, 1755, 1415, 1276, 1146, 1723, 3775, 5541, 8624, 6807, 6429, 7261, 7620, 7545, 7762, 10289, 10346, 10852, 8961, 5611, 4084, 3811, 3203, 2705], \"x\": [0, 1, 2, 3, 4, 5, 6, 7, 8, 9, 10, 11, 12, 13, 14, 15, 16, 17, 18, 19, 20, 21, 22, 23], \"name\": \"Num. Crashes\", \"marker\": {\"color\": \"#FF6900\"}}], {\"barmode\": \"group\", \"title\": \"VicRoads Accident - Accidents by Hour\", \"titlefont\": {\"family\": \"Open Sans\", \"size\": 22}, \"xaxis\": {\"dtick\": 1, \"title\": \"Speed Limit Zone\", \"titlefont\": {\"family\": \"Open Sans\", \"size\": 16}}, \"yaxis\": {\"title\": \"Num. Crashes\", \"titlefont\": {\"family\": \"Open Sans\", \"size\": 16}}}, {\"showLink\": true, \"linkText\": \"Export to plot.ly\"})});</script>"
      ],
      "text/vnd.plotly.v1+html": [
       "<div id=\"a35408e0-b66d-41c2-a422-80c6f99c2033\" style=\"height: 525px; width: 100%;\" class=\"plotly-graph-div\"></div><script type=\"text/javascript\">require([\"plotly\"], function(Plotly) { window.PLOTLYENV=window.PLOTLYENV || {};window.PLOTLYENV.BASE_URL=\"https://plot.ly\";Plotly.newPlot(\"a35408e0-b66d-41c2-a422-80c6f99c2033\", [{\"type\": \"bar\", \"y\": [2067, 1755, 1415, 1276, 1146, 1723, 3775, 5541, 8624, 6807, 6429, 7261, 7620, 7545, 7762, 10289, 10346, 10852, 8961, 5611, 4084, 3811, 3203, 2705], \"x\": [0, 1, 2, 3, 4, 5, 6, 7, 8, 9, 10, 11, 12, 13, 14, 15, 16, 17, 18, 19, 20, 21, 22, 23], \"name\": \"Num. Crashes\", \"marker\": {\"color\": \"#FF6900\"}}], {\"barmode\": \"group\", \"title\": \"VicRoads Accident - Accidents by Hour\", \"titlefont\": {\"family\": \"Open Sans\", \"size\": 22}, \"xaxis\": {\"dtick\": 1, \"title\": \"Speed Limit Zone\", \"titlefont\": {\"family\": \"Open Sans\", \"size\": 16}}, \"yaxis\": {\"title\": \"Num. Crashes\", \"titlefont\": {\"family\": \"Open Sans\", \"size\": 16}}}, {\"showLink\": true, \"linkText\": \"Export to plot.ly\"})});</script>"
      ]
     },
     "metadata": {},
     "output_type": "display_data"
    }
   ],
   "source": [
    "seriesAccidentsByHourBar = go.Bar(\n",
    "    y = accidents_by_hour['cnt'],\n",
    "    x = accidents_by_hour['hour'],\n",
    "    name = 'Num. Crashes',\n",
    "    marker = dict(\n",
    "        color = '#FF6900'\n",
    "    )\n",
    ")\n",
    "\n",
    "layout = go.Layout(\n",
    "    barmode = 'group',\n",
    "    title = 'VicRoads Accident - Accidents by Hour',\n",
    "    titlefont=dict(\n",
    "            family='Open Sans',\n",
    "            size=22\n",
    "    ),\n",
    "    xaxis=dict(\n",
    "        #tickangle = -45, # angle lables at 45 deg\n",
    "        dtick = 1,\n",
    "        title = 'Speed Limit Zone',\n",
    "            titlefont=dict(\n",
    "                family='Open Sans',\n",
    "                size=16\n",
    "            )\n",
    "    ),\n",
    "    yaxis = dict(\n",
    "        title = 'Num. Crashes',\n",
    "        titlefont=dict(\n",
    "            family='Open Sans',\n",
    "            size=16\n",
    "        )\n",
    "    )\n",
    ")\n",
    "\n",
    "data = [seriesAccidentsByHourBar]\n",
    "\n",
    "figureAccidentsByHour = go.Figure(data=data, layout=layout)\n",
    "\n",
    "py.iplot(figureAccidentsByHour, filename='figureAccidentsByHour')"
   ]
  },
  {
   "cell_type": "markdown",
   "metadata": {},
   "source": [
    "### Crashes by Hour by Severity"
   ]
  },
  {
   "cell_type": "code",
   "execution_count": 48,
   "metadata": {},
   "outputs": [
    {
     "name": "stdout",
     "output_type": "stream",
     "text": [
      "   hour  count\n",
      "0     0   3.97\n",
      "3     1   4.33\n",
      "6     2   4.59\n"
     ]
    }
   ],
   "source": [
    "# group by hour by severity\n",
    "accidents_by_hour_by_severity =  df_accident_mod.groupby(['hour','SEVERITY']).size()\n",
    "\n",
    "# divide by the first level you grouped by, multiply by 100, to end up with each severitys % of speed zone crashes\n",
    "accidents_by_hour_by_severity_pc = accidents_by_hour_by_severity.groupby(level=0).apply(lambda x:round(\n",
    "                                                 100 * x / float(x.sum()),2))\n",
    "# reset index and name the new column count\n",
    "accidents_by_hour_by_severity_pc = accidents_by_hour_by_severity_pc.reset_index(name=\"count\")\n",
    "\n",
    "# filter for just severe\n",
    "accidents_by_hour_by_severity_1 = accidents_by_hour_by_severity_pc[accidents_by_hour_by_severity_pc['SEVERITY'] == 1]\n",
    "\n",
    "# drop now-redundant column\n",
    "del accidents_by_hour_by_severity_1['SEVERITY']\n",
    "\n",
    "print(accidents_by_hour_by_severity_1.head(3))"
   ]
  },
  {
   "cell_type": "code",
   "execution_count": 46,
   "metadata": {},
   "outputs": [
    {
     "data": {
      "application/vnd.plotly.v1+json": {
       "data": [
        {
         "marker": {
          "color": "#FF6900"
         },
         "name": "Num. Crashes",
         "type": "bar",
         "x": [
          0,
          1,
          2,
          3,
          4,
          5,
          6,
          7,
          8,
          9,
          10,
          11,
          12,
          13,
          14,
          15,
          16,
          17,
          18,
          19,
          20,
          21,
          22,
          23
         ],
         "y": [
          2067,
          1755,
          1415,
          1276,
          1146,
          1723,
          3775,
          5541,
          8624,
          6807,
          6429,
          7261,
          7620,
          7545,
          7762,
          10289,
          10346,
          10852,
          8961,
          5611,
          4084,
          3811,
          3203,
          2705
         ]
        },
        {
         "marker": {
          "color": "#0077C8"
         },
         "name": "Num. Crashes",
         "type": "scatter",
         "x": [
          0,
          1,
          2,
          3,
          4,
          5,
          6,
          7,
          8,
          9,
          10,
          11,
          12,
          13,
          14,
          15,
          16,
          17,
          18,
          19,
          20,
          21,
          22,
          23
         ],
         "y": [
          3.9671020803096275,
          4.330484330484331,
          4.593639575971731,
          4.38871473354232,
          4.363001745200698,
          4.062681369704005,
          2.80794701986755,
          1.5520664140046923,
          1.426252319109462,
          1.4837667107389452,
          1.7109970446414684,
          1.707753752926594,
          1.7847769028871392,
          1.6434724983432738,
          1.8165421283174439,
          1.739722033239382,
          1.5561569688768606,
          1.2071507556210836,
          1.5511661644905703,
          1.6574585635359116,
          2.9138099902056807,
          2.3878247179218053,
          2.5600999063378085,
          3.6598890942698707
         ],
         "yaxis": "y2"
        }
       ],
       "layout": {
        "barmode": "group",
        "title": "VicRoads Accident - Accidents by Hour - Lethal vs All",
        "titlefont": {
         "family": "Open Sans",
         "size": 22
        },
        "xaxis": {
         "title": "Speed Limit Zone",
         "titlefont": {
          "family": "Open Sans",
          "size": 16
         }
        },
        "yaxis": {
         "range": [
          0,
          12000
         ],
         "title": "Num. Crashes",
         "titlefont": {
          "family": "Open Sans",
          "size": 16
         }
        },
        "yaxis2": {
         "dtick": 1,
         "overlaying": "y",
         "range": [
          0,
          6
         ],
         "side": "right",
         "title": "% Crashes Lethal",
         "titlefont": {
          "family": "Open Sans",
          "size": 16
         }
        }
       }
      },
      "text/html": [
       "<div id=\"711257fd-51be-43ac-a575-8a6af550df7a\" style=\"height: 525px; width: 100%;\" class=\"plotly-graph-div\"></div><script type=\"text/javascript\">require([\"plotly\"], function(Plotly) { window.PLOTLYENV=window.PLOTLYENV || {};window.PLOTLYENV.BASE_URL=\"https://plot.ly\";Plotly.newPlot(\"711257fd-51be-43ac-a575-8a6af550df7a\", [{\"type\": \"bar\", \"y\": [2067, 1755, 1415, 1276, 1146, 1723, 3775, 5541, 8624, 6807, 6429, 7261, 7620, 7545, 7762, 10289, 10346, 10852, 8961, 5611, 4084, 3811, 3203, 2705], \"x\": [0, 1, 2, 3, 4, 5, 6, 7, 8, 9, 10, 11, 12, 13, 14, 15, 16, 17, 18, 19, 20, 21, 22, 23], \"name\": \"Num. Crashes\", \"marker\": {\"color\": \"#FF6900\"}}, {\"type\": \"scatter\", \"y\": [3.9671020803096275, 4.330484330484331, 4.593639575971731, 4.38871473354232, 4.363001745200698, 4.062681369704005, 2.80794701986755, 1.5520664140046923, 1.426252319109462, 1.4837667107389452, 1.7109970446414684, 1.707753752926594, 1.7847769028871392, 1.6434724983432738, 1.8165421283174439, 1.739722033239382, 1.5561569688768606, 1.2071507556210836, 1.5511661644905703, 1.6574585635359116, 2.9138099902056807, 2.3878247179218053, 2.5600999063378085, 3.6598890942698707], \"x\": [0, 1, 2, 3, 4, 5, 6, 7, 8, 9, 10, 11, 12, 13, 14, 15, 16, 17, 18, 19, 20, 21, 22, 23], \"name\": \"Num. Crashes\", \"marker\": {\"color\": \"#0077C8\"}, \"yaxis\": \"y2\"}], {\"barmode\": \"group\", \"title\": \"VicRoads Accident - Accidents by Hour - Lethal vs All\", \"titlefont\": {\"family\": \"Open Sans\", \"size\": 22}, \"xaxis\": {\"title\": \"Speed Limit Zone\", \"titlefont\": {\"family\": \"Open Sans\", \"size\": 16}}, \"yaxis\": {\"title\": \"Num. Crashes\", \"titlefont\": {\"family\": \"Open Sans\", \"size\": 16}, \"range\": [0, 12000]}, \"yaxis2\": {\"title\": \"% Crashes Lethal\", \"overlaying\": \"y\", \"side\": \"right\", \"titlefont\": {\"family\": \"Open Sans\", \"size\": 16}, \"range\": [0, 6], \"dtick\": 1}}, {\"showLink\": true, \"linkText\": \"Export to plot.ly\"})});</script>"
      ],
      "text/vnd.plotly.v1+html": [
       "<div id=\"711257fd-51be-43ac-a575-8a6af550df7a\" style=\"height: 525px; width: 100%;\" class=\"plotly-graph-div\"></div><script type=\"text/javascript\">require([\"plotly\"], function(Plotly) { window.PLOTLYENV=window.PLOTLYENV || {};window.PLOTLYENV.BASE_URL=\"https://plot.ly\";Plotly.newPlot(\"711257fd-51be-43ac-a575-8a6af550df7a\", [{\"type\": \"bar\", \"y\": [2067, 1755, 1415, 1276, 1146, 1723, 3775, 5541, 8624, 6807, 6429, 7261, 7620, 7545, 7762, 10289, 10346, 10852, 8961, 5611, 4084, 3811, 3203, 2705], \"x\": [0, 1, 2, 3, 4, 5, 6, 7, 8, 9, 10, 11, 12, 13, 14, 15, 16, 17, 18, 19, 20, 21, 22, 23], \"name\": \"Num. Crashes\", \"marker\": {\"color\": \"#FF6900\"}}, {\"type\": \"scatter\", \"y\": [3.9671020803096275, 4.330484330484331, 4.593639575971731, 4.38871473354232, 4.363001745200698, 4.062681369704005, 2.80794701986755, 1.5520664140046923, 1.426252319109462, 1.4837667107389452, 1.7109970446414684, 1.707753752926594, 1.7847769028871392, 1.6434724983432738, 1.8165421283174439, 1.739722033239382, 1.5561569688768606, 1.2071507556210836, 1.5511661644905703, 1.6574585635359116, 2.9138099902056807, 2.3878247179218053, 2.5600999063378085, 3.6598890942698707], \"x\": [0, 1, 2, 3, 4, 5, 6, 7, 8, 9, 10, 11, 12, 13, 14, 15, 16, 17, 18, 19, 20, 21, 22, 23], \"name\": \"Num. Crashes\", \"marker\": {\"color\": \"#0077C8\"}, \"yaxis\": \"y2\"}], {\"barmode\": \"group\", \"title\": \"VicRoads Accident - Accidents by Hour - Lethal vs All\", \"titlefont\": {\"family\": \"Open Sans\", \"size\": 22}, \"xaxis\": {\"title\": \"Speed Limit Zone\", \"titlefont\": {\"family\": \"Open Sans\", \"size\": 16}}, \"yaxis\": {\"title\": \"Num. Crashes\", \"titlefont\": {\"family\": \"Open Sans\", \"size\": 16}, \"range\": [0, 12000]}, \"yaxis2\": {\"title\": \"% Crashes Lethal\", \"overlaying\": \"y\", \"side\": \"right\", \"titlefont\": {\"family\": \"Open Sans\", \"size\": 16}, \"range\": [0, 6], \"dtick\": 1}}, {\"showLink\": true, \"linkText\": \"Export to plot.ly\"})});</script>"
      ]
     },
     "metadata": {},
     "output_type": "display_data"
    }
   ],
   "source": [
    "seriesAccidentsByHourSevereLine = go.Scatter(\n",
    "    y = accidents_by_hour_by_severity_1['count'],\n",
    "    x = accidents_by_hour_by_severity_1['hour'],\n",
    "    name = 'Num. Crashes',\n",
    "    marker = dict(\n",
    "        color = '#0077C8'\n",
    "    ),\n",
    "    yaxis = 'y2'\n",
    ")\n",
    "\n",
    "layout = go.Layout(\n",
    "    barmode = 'group',\n",
    "    title = 'VicRoads Accident - Accidents by Hour - Lethal vs All',\n",
    "    titlefont=dict(\n",
    "            family='Open Sans',\n",
    "            size=22\n",
    "    ),\n",
    "    xaxis=dict(\n",
    "        title = 'Speed Limit Zone',\n",
    "        titlefont=dict(\n",
    "            family='Open Sans',\n",
    "            size=16\n",
    "        )\n",
    "    ),\n",
    "    yaxis = dict(\n",
    "        title = 'Num. Crashes',\n",
    "        titlefont=dict(\n",
    "            family='Open Sans',\n",
    "            size=16\n",
    "        ),\n",
    "        range=[0,12000]\n",
    "    ),\n",
    "    yaxis2=dict(\n",
    "        title='% Crashes Lethal',\n",
    "        overlaying='y',\n",
    "        side='right',\n",
    "        titlefont=dict(\n",
    "            family='Open Sans',\n",
    "            size=16\n",
    "        ),\n",
    "        range=[0,6],\n",
    "        dtick = 1\n",
    "    )\n",
    ")\n",
    "\n",
    "data = [seriesAccidentsByHourBar, seriesAccidentsByHourSevereLine]\n",
    "\n",
    "figureAccidentsByHourWithSeverePc = go.Figure(data=data, layout=layout)\n",
    "\n",
    "py.iplot(figureAccidentsByHourWithSeverePc, filename='figureAccidentsByHourWithSeverePc')"
   ]
  },
  {
   "cell_type": "markdown",
   "metadata": {},
   "source": [
    "### Crashes by Population Estimates\n",
    "\n",
    "Crashes look pretty stable over this period, but we know Victoria has grown a lot.\n",
    "\n",
    "Have more or less crashes happened per person?\n",
    "\n",
    "To estimate, I:\n",
    "* Import the ABS ERP dataset for Victoria, code 3101.0\n",
    "    * Available at: http://www.abs.gov.au/AUSSTATS/abs@.nsf/DetailsPage/3101.0Jun%202016?OpenDocument\n",
    "* Tidy that up, and average by year (as it is quarterly)\n",
    "* Join to crash dataset, and divide crashes by population to estimate crashes per population"
   ]
  },
  {
   "cell_type": "code",
   "execution_count": 80,
   "metadata": {},
   "outputs": [
    {
     "name": "stdout",
     "output_type": "stream",
     "text": [
      "        date      erp  year\n",
      "0 1981-06-01  3946917  1981\n",
      "1 1981-09-01  3957333  1981\n",
      "2 1981-12-01  3968398  1981\n",
      "   year     erp\n",
      "0  1981 3957549\n",
      "1  1982 3997278\n",
      "2  1983 4040160\n"
     ]
    }
   ],
   "source": [
    "# read from ABS Excel series\n",
    "df_erp = pd.read_excel(\n",
    "    'abs_data/erp_2016.xlsx', # file name and path\n",
    "    sheetname = 'Data1',\n",
    "    header = 0,\n",
    "    skiprows = 9,\n",
    "    index_col=0 # first column should be primary key\n",
    ")\n",
    "\n",
    "# just keep the Victoria Persons series, which has the id A2060844K\n",
    "df_erp = df_erp['A2060844K']\n",
    "\n",
    "# fix column headers\n",
    "df_erp = df_erp.reset_index()\n",
    "\n",
    "# rename columns\n",
    "df_erp.columns = ['date','erp']\n",
    "\n",
    "# add a year column\n",
    "df_erp['year'] = pd.DatetimeIndex(df_erp['date']).year\n",
    "\n",
    "print(df_erp.head(3))\n",
    "\n",
    "# group by year\n",
    "erp_by_year = df_erp.groupby(['year']).mean().round()\n",
    "\n",
    "# stop pandas displaying output in sceintific notation\n",
    "# pinched from https://stackoverflow.com/questions/21137150/format-suppress-scientific-notation-from-python-pandas-aggregation-results/21140339\n",
    "\n",
    "pd.set_option('display.float_format', lambda x: '%.0f' % x) # .0f is to 0 decimal places\n",
    "\n",
    "# fix column headers\n",
    "erp_by_year = erp_by_year.reset_index()\n",
    "\n",
    "print(erp_by_year.head(3))"
   ]
  },
  {
   "cell_type": "markdown",
   "metadata": {},
   "source": [
    "### Group demo data by Age and Gender, make a line chart"
   ]
  },
  {
   "cell_type": "markdown",
   "metadata": {},
   "source": [
    "#### Data Munging"
   ]
  },
  {
   "cell_type": "code",
   "execution_count": 22,
   "metadata": {},
   "outputs": [
    {
     "ename": "NameError",
     "evalue": "name 'df' is not defined",
     "output_type": "error",
     "traceback": [
      "\u001b[1;31m---------------------------------------------------------------------------\u001b[0m",
      "\u001b[1;31mNameError\u001b[0m                                 Traceback (most recent call last)",
      "\u001b[1;32m<ipython-input-22-c019bfdc6379>\u001b[0m in \u001b[0;36m<module>\u001b[1;34m()\u001b[0m\n\u001b[0;32m      1\u001b[0m \u001b[1;31m# group by gender group by age, return count\u001b[0m\u001b[1;33m\u001b[0m\u001b[1;33m\u001b[0m\u001b[0m\n\u001b[1;32m----> 2\u001b[1;33m \u001b[0mage_gender\u001b[0m \u001b[1;33m=\u001b[0m  \u001b[0mdf\u001b[0m\u001b[1;33m.\u001b[0m\u001b[0mgroupby\u001b[0m\u001b[1;33m(\u001b[0m\u001b[1;33m[\u001b[0m \u001b[1;34m'gender'\u001b[0m\u001b[1;33m,\u001b[0m \u001b[1;34m'age'\u001b[0m\u001b[1;33m]\u001b[0m\u001b[1;33m)\u001b[0m\u001b[1;33m.\u001b[0m\u001b[0msize\u001b[0m\u001b[1;33m(\u001b[0m\u001b[1;33m)\u001b[0m\u001b[1;33m.\u001b[0m\u001b[0mreset_index\u001b[0m\u001b[1;33m(\u001b[0m\u001b[0mname\u001b[0m\u001b[1;33m=\u001b[0m\u001b[1;34m\"count\"\u001b[0m\u001b[1;33m)\u001b[0m\u001b[1;33m\u001b[0m\u001b[0m\n\u001b[0m\u001b[0;32m      3\u001b[0m \u001b[0mprint\u001b[0m\u001b[1;33m(\u001b[0m\u001b[0mage_gender\u001b[0m\u001b[1;33m.\u001b[0m\u001b[0mhead\u001b[0m\u001b[1;33m(\u001b[0m\u001b[1;36m3\u001b[0m\u001b[1;33m)\u001b[0m\u001b[1;33m)\u001b[0m\u001b[1;33m\u001b[0m\u001b[0m\n\u001b[0;32m      4\u001b[0m \u001b[1;33m\u001b[0m\u001b[0m\n\u001b[0;32m      5\u001b[0m \u001b[1;31m# make a list of 0 -> 100 for the x axis\u001b[0m\u001b[1;33m\u001b[0m\u001b[1;33m\u001b[0m\u001b[0m\n",
      "\u001b[1;31mNameError\u001b[0m: name 'df' is not defined"
     ]
    }
   ],
   "source": [
    "# group by gender group by age, return count\n",
    "age_gender =  df.groupby([ 'gender', 'age']).size().reset_index(name=\"count\")\n",
    "print(age_gender.head(3))\n",
    "\n",
    "# make a list of 0 -> 100 for the x axis\n",
    "ages = list(range(101))\n",
    "ages_df = pandas.DataFrame(ages, columns = ['age']) # make that a data frame, give it the title Age\n",
    "print(ages_df.head(3))\n",
    "\n",
    "# make a data series for women\n",
    "f = age_gender.loc[age_gender['gender'] == 'F'] # filter for sex = 'F'\n",
    "f = f.drop('gender', axis=1) # drop gender column\n",
    "female = ages_df.merge(f, left_on='age', right_on='age', how='left') # left join to ages to get all ages\n",
    "female['count'].fillna(0, inplace=True) # replace NAN with 0\n",
    "print(female.head(3))\n",
    "\n",
    "# make a data series for men\n",
    "m = age_gender.loc[age_gender['gender'] == 'M'] # filter for sex = 'F'\n",
    "m = m.drop('gender', axis=1) # drop gender column\n",
    "male = ages_df.merge(m, left_on='age', right_on='age', how='left') # left join to ages to get all ages\n",
    "male['count'].fillna(0, inplace=True) # replace NAN with 0\n",
    "print(male.head(3))"
   ]
  },
  {
   "cell_type": "markdown",
   "metadata": {},
   "source": [
    "#### Make chart elements"
   ]
  },
  {
   "cell_type": "code",
   "execution_count": null,
   "metadata": {
    "collapsed": true
   },
   "outputs": [],
   "source": [
    "womenSeries = go.Scatter(\n",
    "    x = female['age'],\n",
    "    y = female['count'],\n",
    "    mode = 'columns',\n",
    "    name = 'Women'\n",
    ")\n",
    "\n",
    "menSeries = go.Scatter(\n",
    "    x = male['age'],\n",
    "    y = male['count'],\n",
    "    mode = 'columns',\n",
    "    name = 'Men'\n",
    ")\n",
    "\n",
    "layout = go.Layout(\n",
    "    xaxis=dict(\n",
    "        range=[18, 100]\n",
    "    )\n",
    ")"
   ]
  },
  {
   "cell_type": "markdown",
   "metadata": {},
   "source": [
    "#### Make chart"
   ]
  },
  {
   "cell_type": "code",
   "execution_count": null,
   "metadata": {
    "collapsed": true
   },
   "outputs": [],
   "source": [
    "data = [womenSeries, menSeries]\n",
    "\n",
    "fig = go.Figure(data=data, layout=layout)\n",
    "\n",
    "py.iplot(fig, filename='line-mode')"
   ]
  }
 ],
 "metadata": {
  "kernelspec": {
   "display_name": "Python 3",
   "language": "python",
   "name": "python3"
  },
  "language_info": {
   "codemirror_mode": {
    "name": "ipython",
    "version": 3
   },
   "file_extension": ".py",
   "mimetype": "text/x-python",
   "name": "python",
   "nbconvert_exporter": "python",
   "pygments_lexer": "ipython3",
   "version": "3.6.1"
  }
 },
 "nbformat": 4,
 "nbformat_minor": 2
}
